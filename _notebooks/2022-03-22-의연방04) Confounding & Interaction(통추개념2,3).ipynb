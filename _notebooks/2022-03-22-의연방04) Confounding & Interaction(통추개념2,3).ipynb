{
 "cells": [
  {
   "cell_type": "markdown",
   "id": "ee8b4dc6",
   "metadata": {},
   "source": [
    "# \"의연방04) 컨파운딩과 상호작용\"\n",
    "> \"Confounding & Interaction(통추개념2,3)\"\n",
    "\n",
    "- toc:true\n",
    "- branch: master\n",
    "- badges: true\n",
    "- comments: true\n",
    "- author: tingstyle1\n",
    "- categories: [R, 통계, 대학원, 의연방, 통계적추론, confounding, interaction]\n",
    "- image: \"images/posts/data.png\""
   ]
  },
  {
   "cell_type": "markdown",
   "id": "74af83fe",
   "metadata": {},
   "source": [
    "## 통계적추론 중요개념 3가지 중 나머지 2가지\n",
    "1. bias\n",
    "\n",
    "2. **Confounding**\n",
    "3. **Interaction**"
   ]
  },
  {
   "cell_type": "markdown",
   "id": "83495c4f",
   "metadata": {},
   "source": [
    "### 주요용어\n",
    "- Confounding : 위험요소(X)와 질병(Y) 둘다와 상관관계가 있으면서, 위험요소의 결과도, 질병의 결과도 아닌 변수\n",
    "\n",
    "- Interaction : X가 Y에 끼치는 효과가, 다른 변수 A값에 따라 달라지는 경우 X와 A간에 interaction이 존재한다고 말한다.\n",
    "\n",
    "- Additive model : 위험요소 X와 A에 둘다 노출되었을 때의 효과는, X에 노출되었을 때의 효과와 A의 노출되었을 때의 효과의 합이라는 모델\n",
    "\n",
    "- Multiplicative model : 위험요소 X와 A에 둘다 노출되었을 때의 효과는, X에 노출되었을 때의 효과와 A의 노출되었을 때의 효과의 곱이라는 모델"
   ]
  },
  {
   "cell_type": "markdown",
   "id": "f5c3b63e",
   "metadata": {},
   "source": [
    "## Confounding"
   ]
  },
  {
   "cell_type": "markdown",
   "id": "da60153b",
   "metadata": {},
   "source": [
    "### Association vs. causality"
   ]
  },
  {
   "cell_type": "markdown",
   "id": "bf7ea90f",
   "metadata": {},
   "source": [
    "상관관계가 인과관계를 의미하지 않는다.\n",
    "1.  **연구시, 상관관계가 발견**되면, \n",
    "    - **`이것이 진짜 상관관계`인지 vs sampling error로서 `우연(random error)이나 잘못된 연구디자인에 의한 에러(systematic error, bias)`인지 먼저 판단**해야한다\n",
    "2. **상관관계가 진짜다 판단**된 경우에는\n",
    "    - **`상관관계->인과관계로 연결`되는지 vs 인과관계가 아닌 `confounding 때문에 생겨난 -> 상관관계`인지 판단**해야한다\n",
    "        ![image-20220414213659605](https://raw.githubusercontent.com/is2js/screenshots/main/image-20220414213659605.png)"
   ]
  },
  {
   "cell_type": "markdown",
   "id": "d826bf19",
   "metadata": {},
   "source": [
    "#### 예시"
   ]
  },
  {
   "cell_type": "markdown",
   "id": "fa74a3d3",
   "metadata": {},
   "source": [
    "![image-20220414213629870](https://raw.githubusercontent.com/is2js/screenshots/main/image-20220414213629870.png)"
   ]
  },
  {
   "cell_type": "markdown",
   "id": "eecbc56b",
   "metadata": {},
   "source": [
    "- **`커피섭취` - `췌장암`의 `상관관계 관측된 상태`(진짜다)**다 -> **2가지 설명가능한 상황(가능성)**이 존재하게 됨.\n",
    "    1. 커피섭취가 -> 췌장암을 일으킨다(`인과관계`가 있다)\n",
    "    2. 커피섭취가 -> 췌장암을 일으키진 않는데, 흡연이라는 `confounder`가 있어서 `2가지를 동시에 발생시키`다보니, `2가지가 상관관계가 있는 것처럼 보이게 만들었다`\n",
    "        - 흡연 -> 커피섭취 증가\n",
    "        - 흡연 -> 췌장암 증가\n",
    "            - (인과관계가 없음에도 불구하고,)커피 -> 췌장암 증가의 상관관계를 높였다.\n",
    "\n",
    "- my)\n",
    "    - **A -> B 상관관계를 보면, C->A, C->B의 Confounding을 생각하자**\n",
    "    - **A -> B 상관관계를 보면, Confounding생각후, 진짜 인과관계도 있으니 총 2가지 가능성을 생각하자**"
   ]
  },
  {
   "cell_type": "markdown",
   "id": "46392b79",
   "metadata": {},
   "source": [
    "### Confounding"
   ]
  },
  {
   "cell_type": "markdown",
   "id": "9f294d04",
   "metadata": {},
   "source": [
    "- X : 위험요소(risk factor) 또는 치료법 등 독립변수(설명변수)\n",
    "- Y : 질병이나 질병으로 인한 이벤트 등 결과변수\n",
    "- C : confounder\n",
    "\n",
    "여기에서는 편의상 X, Y, C가 모두 이분형 변수인 예제를 사용했으나, \n",
    "\n",
    "\n",
    "연속형 변수, 순서형 변수, 범주가 3개 이상인 변수들에 대해서도 모두 성립한다"
   ]
  },
  {
   "cell_type": "markdown",
   "id": "97c27810",
   "metadata": {},
   "source": [
    "![image-20220414214615757](https://raw.githubusercontent.com/is2js/screenshots/main/image-20220414214615757.png)"
   ]
  },
  {
   "cell_type": "markdown",
   "id": "d85841d0",
   "metadata": {},
   "source": [
    "다음의 관계가 성립할 경우, C는 confounder이다.\n",
    "- C와 Y가 상관관계가 있으나, C가 Y의 결과는 아니다\n",
    "- C와 X와 상관관계가 있으나, C가 X의 결과는 아니다\n",
    "\n",
    "**즉, C가 x, y 모두와 각각 상관관계가 있으나, C가 x->c, y->c의 결과는 아닌 경우**\n",
    "\n",
    "1. **가장 대표적인 경우가 `C->X`, `C->Y`의 인과관계인 경우다.**\n",
    "2. **또, `C = X 상관관계` , `C->Y`의 경우도 있다.**\n",
    "3. **또, `C = X 상관관계` , `C->Y` + `X = Y 상관관계`인 경우도 있다.**"
   ]
  },
  {
   "cell_type": "markdown",
   "id": "318eca6b",
   "metadata": {},
   "source": [
    "### Confounding인 경우의 예시"
   ]
  },
  {
   "cell_type": "markdown",
   "id": "ea990483",
   "metadata": {},
   "source": [
    "#### `C->X`, `C->Y`의 인과관계"
   ]
  },
  {
   "cell_type": "markdown",
   "id": "25bc1e0d",
   "metadata": {},
   "source": [
    "![image-20220414215645987](https://raw.githubusercontent.com/is2js/screenshots/main/image-20220414215645987.png)"
   ]
  },
  {
   "cell_type": "markdown",
   "id": "493059e4",
   "metadata": {},
   "source": [
    "- X(독립변수): `흰머리`  -> Y(결과변수): `stroke`에 대해\n",
    "    1. `C -> 흰머리, C -> stroke`를 일으키는 `confounder 나이`를 생각해보자.\n",
    "        - **`흰머리`가 많을수록 `stroke`가 많을 수도 있으며 상관관계는 있는 것처럼 나타난다.하지만, 둘간의 인과관계는 없다**\n",
    "        - **`나이`라는 confounder가 `C->X, C->Y로 인과관계`로 영향을 끼치기 때문에 보이는 가짜 인과관계(보이는 상관관계)이다.**\n",
    "    2. 그리고  `X -> Y`인과관계인 경우도 생각하자."
   ]
  },
  {
   "cell_type": "markdown",
   "id": "1e43176c",
   "metadata": {},
   "source": [
    "#### `C = X 상관관계` , `C->Y 인과관계`의 경우"
   ]
  },
  {
   "cell_type": "markdown",
   "id": "c1f30359",
   "metadata": {},
   "source": [
    "![image-20220414215656063](https://raw.githubusercontent.com/is2js/screenshots/main/image-20220414215656063.png)"
   ]
  },
  {
   "cell_type": "markdown",
   "id": "cecea08a",
   "metadata": {},
   "source": [
    "- X(독립변수): `자녀의수`  -> Y(결과변수): `유방암`에 대해\n",
    "    1. `C =상관관계= 자녀의수, C -> stroke`를 일으키는 `confounder 나이`를 생각해보자.\n",
    "        - **`자녀의수`가 많을수록 `유방암`가 많을 수도 있으며 상관관계는 있는 것처럼 나타난다.하지만, 둘간의 인과관계는 없다**\n",
    "        - **`나이`라는 confounder가 `C=상관관계=X, C->Y 인과관계`로 영향을 끼치기 때문에 보이는 가짜 인과관계(보이는 상관관계)이다.**\n",
    "    2. 그리고  `X -> Y`인과관계인 경우도 생각하자."
   ]
  },
  {
   "cell_type": "markdown",
   "id": "736b31e5",
   "metadata": {},
   "source": [
    "#### `C = X 상관관계` , `C->Y` + `X = Y 상관관계`인 경우\n"
   ]
  },
  {
   "cell_type": "markdown",
   "id": "b1e27a36",
   "metadata": {},
   "source": [
    "\n",
    "\n",
    "![image-20220414215658623](https://raw.githubusercontent.com/is2js/screenshots/main/image-20220414215658623.png)"
   ]
  },
  {
   "cell_type": "markdown",
   "id": "3ef93062",
   "metadata": {},
   "source": [
    "- X(독립변수): `소득`  -> Y(결과변수): `CHD`에 대해\n",
    "    1. `C =상관관계= 소득, C -> CHD,  소득=상관관계=CHD`를 일으키는 `confounder 흡연`를 생각해보자.\n",
    "        - **`소득`가 많을수록 `CHD`가 많을 수도 있으며 상관관계는 있는 것처럼 나타난다(소득은 모든 질병과 상관관계 있는 것처럼..많은 confounder가 운동/영양상태 등 존재).하지만, 둘간의 인과관계는 없다**\n",
    "        - **`흡연`라는 confounder가 `C=상관관계=X, C->Y 인과관계`로 영향을 끼치기 때문에 보이는 가짜 인과관계(보이는 상관관계)이다.**\n",
    "    2. 그리고  `X -> Y`인과관계인 경우도 생각하자."
   ]
  },
  {
   "cell_type": "markdown",
   "id": "7b99669e",
   "metadata": {},
   "source": [
    "### Confounder가 아닌 경우"
   ]
  },
  {
   "cell_type": "markdown",
   "id": "2b6d8986",
   "metadata": {},
   "source": [
    "#### c는 x,y 모두와 관계가 존재해야한다."
   ]
  },
  {
   "cell_type": "markdown",
   "id": "3a9d5acb",
   "metadata": {},
   "source": [
    "\n",
    "\n",
    "![image-20220414215707344](https://raw.githubusercontent.com/is2js/screenshots/main/image-20220414215707344.png)"
   ]
  },
  {
   "cell_type": "markdown",
   "id": "b494e7fa",
   "metadata": {},
   "source": [
    "1. C는 **x와 y, 모두와 (상관,인과)관계가 있어야**한다\n",
    "    - 둘 중에 하나와는 관계가 없는 경우, coufounder라 할 수 없다.\n",
    "    - high cholesterol diet는 X인 흡연과 상관(인과)관계가 없으므로 confounder라 할 수 없다.\n",
    "    - no fruit은 비타민C부족을 거쳐야만 괴혈병과 관계를 가진다. C와 y사이 직접적인 관계는 없으므로 confounder라 할 수 없다."
   ]
  },
  {
   "cell_type": "markdown",
   "id": "b5d369ad",
   "metadata": {},
   "source": [
    "#### c는 x or y의 결과여서는 안된다."
   ]
  },
  {
   "cell_type": "markdown",
   "id": "6c09f85e",
   "metadata": {},
   "source": [
    "![image-20220414221719776](https://raw.githubusercontent.com/is2js/screenshots/main/image-20220414221719776.png)"
   ]
  },
  {
   "cell_type": "markdown",
   "id": "03769588",
   "metadata": {},
   "source": [
    "1.  c는 **x or y의 결과여서는 안된다**.\n",
    "    - x가 C에 영향을 끼치는 경우, C는 confounder가 될 수 없다.\n",
    "    - 흡연 -> CHD 영향끼치는 기전 중 1가지가 fibrinogen이라는 물질의 함량을 높여서 CHD에 영향을 준다고 알려져있는데\n",
    "        - x -> C가 성립하므로 C는 confounder가 아니다.\n",
    "            - `x -> C -> y`가 성립하는 경우, 특별히 `mediate`라는 용어를 쓰기도 한다.\n",
    "    - x:locomotor disease(운동기능장애)와 y:호흡기질환와의 상관관계를 본다고 할 때, 상관관계가 있는 것처럼 보일 수 있는데, C:입원이라는 factor때문에 그렇게 보일 수 있는데\n",
    "        - x가 있어도 C입원 할 가능성이 높아지고, y가 있어도 C입원 할 가능성이 높아져서 **confounder처럼 x,y의 상관관계가 있는것 처럼 보이기도 하는데**\n",
    "            - 근데, C가 x,y에 영향을 주는게 아니라 x,y의 결과 -> C가 된다면, 특별이 confounder가 아니라 **`collider`**라고 부른다."
   ]
  },
  {
   "cell_type": "markdown",
   "id": "0eede80f",
   "metadata": {},
   "source": [
    "#### 그렇다면? 실제 연구시에는? 무엇을 confounder를 봐야할까?"
   ]
  },
  {
   "cell_type": "markdown",
   "id": "4795b454",
   "metadata": {},
   "source": [
    "- X, Y 둘 다와 상관관계가 의심되는 변수 C가 있을 때,\n",
    "    - **`이 변수 C가 X의 결과가 아니고, C가 Y의 결과가 아닌 것이 확실하면 -> C가 confounder일 가능성을 염두에 두고` 연구를 해야 안전하다.**\n",
    "- 따라서 **`어떤 질병의 알려진 위험요소(risk factor)들`은 모두 potential confounder이다**\n",
    "- **`연령과 성별 역시 항상 potential confounder로 고려`하는 것이 안전**하다\n",
    "    - 어떤 종류의 위험요소(X)도 `연령/성별`에 영향 안받기 힘듬\n",
    "    - 어떤 종류의 질병(y)도 `연령/성별`에 영향 안받기 힘듬"
   ]
  },
  {
   "cell_type": "markdown",
   "id": "caf5269e",
   "metadata": {},
   "source": [
    "### Confounder시 위험요소-질병간의 RR계산 실전 예제"
   ]
  },
  {
   "cell_type": "markdown",
   "id": "6514e2d1",
   "metadata": {},
   "source": [
    "#### C없이 RR계산: 어떤 위험요소와 질병의 관계 (예 : 흡연 → 피부질환)"
   ]
  },
  {
   "cell_type": "markdown",
   "id": "90442e04",
   "metadata": {},
   "source": [
    "![image-20220414224129347](https://raw.githubusercontent.com/is2js/screenshots/main/image-20220414224129347.png)"
   ]
  },
  {
   "cell_type": "markdown",
   "id": "dadf8b1a",
   "metadata": {},
   "source": [
    "위험요소 - 질병과의 관계를 조사하였다.\n",
    "- 위험요소노출O 110명, 그 중 질병O 81명 \n",
    "    - (1) 위험요소 노출O의 경우의 Risk 계산 -> 81/110 = 0.7364\n",
    "- 위험요소노출X 210명, 그 중 질병O 28명 \n",
    "    - (2) 위험요소 노출X의 경우의 Risk 계산 -> 28/110 = 0.1333\n",
    "- (3) 랠러티브 리스크(RR) : (1) / (2) = \n",
    "    - 위험요소 노출O의 경우의 Risk / 위험요소 노출X의 경우의 Risk = 0.7364 / 0.1333 = 5.52\n",
    "- (4) RR 해석: **`RR가 1`보다 훨씬크다 -> `위험요소 - 질병간의 상관관계`가 강한 상관관계가 있다.**\n",
    "    - 왜냐면? **`RR=5.52 -> 위험요소노출O의 경우, 질병O의 확률이 5.52배` 높아지기 때문**"
   ]
  },
  {
   "cell_type": "markdown",
   "id": "031ce188",
   "metadata": {},
   "source": [
    "#### 이분형 변수인 Confounder C가 있다고 하자 (예 : 성별)"
   ]
  },
  {
   "cell_type": "markdown",
   "id": "fdafd0ba",
   "metadata": {},
   "source": [
    "![image-20220414224159723](https://raw.githubusercontent.com/is2js/screenshots/main/image-20220414224159723.png)\n",
    "\n"
   ]
  },
  {
   "cell_type": "markdown",
   "id": "3093995e",
   "metadata": {},
   "source": [
    "![image-20220414224902127](https://raw.githubusercontent.com/is2js/screenshots/main/image-20220414224902127.png)\n",
    "\n"
   ]
  },
  {
   "cell_type": "markdown",
   "id": "687ac293",
   "metadata": {},
   "source": [
    "- (1) row:위험요소 노출O/X별  col:질병O/X의 행렬표에 **더 높은레벨의 칼럼에 `Confounder=0/1 (X/O)`를 추가한다**\n",
    "- (2) C=0인 경우만 먼저, RR을 계산한다. (분모분자 다 바뀜)\n",
    "    - (2-1) C=0에서  위험요소 노출O의 Risk = 질병O/위험요소O = 1 / 1+9 = 0.1\n",
    "    - (2-2) C=0에서  위험요소 노출X의 Risk = 질병x/위험요소X = 20 / 20+180 = 0.1\n",
    "    - (2-2) C=0에서  RR = 0.1/0.1 = 1\n",
    "- (3) C=1인 경우만 RR을 계산한다\n",
    "    - 80/80+20 (위O Risk) /    8/8+2(위X Risk) = RR = 0.8/0.8 = \n",
    "- **(4) C=0의 RR 과  C=1의 RR을 비교한다**\n",
    "- **(5) C에 따른 RR을 비교한 해석: `C에 노출되지 않은경우와 C에 노출된 경우, 위험요소-질병간의 상관관계가 1로서 없는 것으로 나온다.**\n",
    "    - 노출O/x 각 그룹의 질병risk가 같다는 얘기로서, 위험요소가 질병과 상관관계가 없다고 나온다.\n",
    "    - **confounder를 고려하지않고보면, 강한상관관계가 있는 것처럼 보였는데, confounder별로 따로 떼놓고 보면,상관관계가 없었다. -> 진짜는 상관관계없는 것**"
   ]
  },
  {
   "cell_type": "markdown",
   "id": "edd8a736",
   "metadata": {},
   "source": [
    "### (상관관계를 있어보이게 만드는 나쁜) Confounding을 다루는 법"
   ]
  },
  {
   "cell_type": "markdown",
   "id": "9499e2e9",
   "metadata": {},
   "source": [
    "#### 디자인 단계에서 랜덤화(c->x끊기), 매칭(c->y끊기)"
   ]
  },
  {
   "cell_type": "markdown",
   "id": "b231a355",
   "metadata": {},
   "source": [
    "\n",
    "- 디자인단계에서 Randomize를 통해 confounder를 제거한다.\n",
    "    1. `랜덤화`:  **각 연구대상자의 X값(위험요소노출 O/X 여부)자체를 랜덤으로 배정**한다.\n",
    "        - **C가 되려면 x,y모두와 관계가 있어야하는데, `C->X로 가는 관계를 랜덤화로 끊어버려`, c 성립조건을 없애버림**\n",
    "    2. `매칭`: 질병o와 질병x를 각각 표집할 때, **연령/성별과 같은 confounder들을 미리 비슷하게 맞춰서 뽑는다.**\n",
    "        - **`C->y로 가는 관계를 매칭으로 끊어버려`, c 성립조건을 없앤다.**\n",
    "\n",
    "\n",
    "![image-20220414230351913](https://raw.githubusercontent.com/is2js/screenshots/main/image-20220414230351913.png)"
   ]
  },
  {
   "cell_type": "markdown",
   "id": "52eb7e35",
   "metadata": {},
   "source": [
    "#### 데이터 분석 단계에서 confounding보정"
   ]
  },
  {
   "cell_type": "markdown",
   "id": "c2928898",
   "metadata": {},
   "source": [
    "##### Stratification (스트레이라, 스트레이티피케이션)"
   ]
  },
  {
   "cell_type": "markdown",
   "id": "ff3f09d0",
   "metadata": {},
   "source": [
    "-  C=0, C=1처럼 **각 `Confounder값`별로 스트레이라(Strata)**를 따로 만들어서, 그 안에서 상관관계를 따로 따로 추정\n",
    "    - 아까의 경우, 상관관계를 RR을 이용해서 따로 추정했었음.\n",
    "- 1. **strata별로 RR 추정값이 비슷하고, 전체 RR과 비슷하면 -> confounding이 없다고 생각할 수 있다.**\n",
    "    - RR을 이용하거나 OR(오즈레이시오)를 이용해서 확인하면 된다.\n",
    "- 2. **confounder의 값별로 RR or OR이 많이 다르다 -> `interaction(인터랙션)`이 있다는 뜻 -> interaction을 고려한 연구를 해야한다.**\n",
    "        ![image-20220415233114263](https://raw.githubusercontent.com/is2js/screenshots/main/image-20220415233114263.png)"
   ]
  },
  {
   "cell_type": "markdown",
   "id": "d4677bee",
   "metadata": {},
   "source": [
    "##### Adjustment (어저스트먼트)"
   ]
  },
  {
   "cell_type": "markdown",
   "id": "927f6bef",
   "metadata": {},
   "source": [
    "- confounder를 공변량으로서, 회귀분석안에 집어넣는 것\n",
    "    - 회귀분석의 설명변수로서 confounder를 포함시키는 것\n",
    "- **`회귀분석에서 나온 X의 회귀계수`의 해석: 나머지 confounder들이 고정되어있을 때, 나오는 X가 -> Y에 끼치는 영향**\n",
    "    - 멀타이 베리어블 애널리시스 했다.(멀타이 배리어블 모델을 썼다.)\n",
    "    - 어저스티드 어날리시스를 했다.라고도 표현한다.\n",
    "- **이 분석(confounder들을 설명변수에 넣은 회귀분석을 하되, 주 목적은 X->Y, 나머지 고정)에서도 X-Y상관관계가 유의하다면, X가 Y에 대한 `independent effect가 있다(역학용어, 통계의 독립성과는 다름)`고 표현한다.**\n",
    "    - **`confounder를 공변량으로 넣은 어저시티드 어날리시스`의 결과와 `공변량으로 넣지 않은 언어저스티드 어날리시스`의 결과를 side by side로 나란히 보고하는 것이 좋다.**\n",
    "        - 본 독자가 직접 판단할 수 있게 된다.\n",
    "        ![image-20220415234000432](https://raw.githubusercontent.com/is2js/screenshots/main/image-20220415234000432.png)\n",
    "\n"
   ]
  },
  {
   "cell_type": "markdown",
   "id": "b98f179b",
   "metadata": {},
   "source": [
    "##### Propensity score  analysis(프로펜시티 스코어   어날리시스)"
   ]
  },
  {
   "cell_type": "markdown",
   "id": "f5cfb556",
   "metadata": {},
   "source": [
    "- causal inference(코절 인퍼런스)라고 불리는 더 넓은 범위의 통계적방법론의 일부이다.\n",
    "- **데이터를 잘 가공해서 -> X에 랜덤화를 적용시킨 것 같은 virtual data를 만들어 X-Y분석**\n",
    "    - 나중에 다른 강의에서 소개\n",
    "    ![image-20220415234943075](https://raw.githubusercontent.com/is2js/screenshots/main/image-20220415234943075.png)"
   ]
  },
  {
   "cell_type": "markdown",
   "id": "6ba0d997",
   "metadata": {},
   "source": [
    "### Confounding 다룰 때 주의점"
   ]
  },
  {
   "cell_type": "markdown",
   "id": "4f2ff5fe",
   "metadata": {},
   "source": [
    "- 없애는 것만이 능사가 아니다.\n",
    "    - 많은 경우 꼭 없앨 필요없다.\n",
    "    - 어떤 경우 이용을 할 수 도 있다.\n",
    "        - 예를 들어, X - Y 상관관계가 관측된 상황이라고 치자.\n",
    "        - X가 Y를 일으키는 인과관계는 없고, C라는 confounder에 의해 그렇게 관측될 뿐이다 `라고 할지라도`\n",
    "            - 만약, C(confounder)가? -> my) Y가 관측이 굉장히 어려운 factor라면?\n",
    "            - 역으로 X를 이용해서 Y질병이 발생하기 쉬운 사람들을 찾아낼 수 있다???\n",
    "            - **y질병고위험군을 찾기위해, `C땜에 생긴 상관관계라고 할지라도` -> C덕분에 X를 이용해 Y를 발견할 수 있게 되는 것이다.**\n",
    "            - my) 찾기 힘든 y라면 ->  C에 의해 보이기용 X-Y 상관관계가 생기고 -> X를 이용해서 Y 발견이 가능해진다. -> C가 만들어낸 보이기용 상관관계가 **인과관계가 아니더라도 유용하게 쓰임.**\n",
    "\n",
    "    - confounding이 오류가 아닌 그 자체로 이해되어야하는 상황도 있다.\n",
    "                    \n",
    "       - X인종-Y심혈관계질환의 관계를 볼 때, confounder로서 비만도를 고려하게 되는데\n",
    "           - X아시아인 - C비만도 낮은 경향 + C비만도 - Y심혈관계질환과 관계가 있음 -> 비만도는 확실한 confounder임\n",
    "           - 그런데, C비만도의 효과를 제거하여 **C비만도가 똑같은 아시아인vs백인을 비교해야할까?**\n",
    "               - **강력한 confounder인 경우, C비만도가 똑같은 아시아인vs백인을 비교하는 것이 의미가 있을까?**\n",
    "               - **아시아인은 백인에 비해 날씬하다는 것도 특성에 포함되고 bmi도 당연히 낮을 것인데, 이것을 굳이 보정해서 비만도를 동일하게 만들어놓고 Y를 비교할까?**\n",
    "       - **강력한 confounder는, 있음을 이해하고, 고려해서 잘 해석하도록 해야한다.**\n",
    "           - 고려안하고 해석하면 오류다!"
   ]
  },
  {
   "cell_type": "markdown",
   "id": "2e988717",
   "metadata": {},
   "source": [
    "## Interaction"
   ]
  },
  {
   "cell_type": "markdown",
   "id": "029efa37",
   "metadata": {},
   "source": [
    "### 용어설명"
   ]
  },
  {
   "cell_type": "markdown",
   "id": "cb5fd416",
   "metadata": {},
   "source": [
    "- 꼭 인과관계가 아니라 상관관계에서도 적용이 되는 개념\n",
    "    - 말로 설명시, 인과관계/이분형 변수를 setup해두면 더 쉬워서 가정함\n",
    "        - x,y,a 모두 범주3종류 이상 or 순서형 변수, 연속형 변수 모두에도 해당함\n",
    "- **`인터랙션`:  x가 -> y에 끼치는 효과가, 타변수 A값에 따라 달라질 때, `x와 a간에 interaction이 존재`한다고 말한다.**\n",
    "    - 잘못 쓰이는 경우가 많은 용어다\n",
    "    - 인터랙션을 다른 말로 `effect modification`이라고도 하는데, a값에 따라  x가 y에 끼치는 효과가 달라지므로, `a가 X의 효과를 modify한다`라고 말할 수 있기 때문이다.\n",
    "    - 또 다른말로, `heterogeneity of treatment effect(HTE)`라고도 한다. x의 효과가 a값에 따라 달라지므로, `x의효과가 a에 의해 나눠지는 그룹별로 hetero하다`라고 말할 수 있기 때문이다.\n",
    "        ![image-20220416171616314](https://raw.githubusercontent.com/is2js/screenshots/main/image-20220416171616314.png)"
   ]
  },
  {
   "cell_type": "markdown",
   "id": "b1db44df",
   "metadata": {},
   "source": [
    "### 예제를 통한 interaction(Additive model)"
   ]
  },
  {
   "cell_type": "markdown",
   "id": "3157dd1c",
   "metadata": {},
   "source": [
    "![image-20220416171931742](https://raw.githubusercontent.com/is2js/screenshots/main/image-20220416171931742.png)"
   ]
  },
  {
   "cell_type": "markdown",
   "id": "6982b317",
   "metadata": {},
   "source": [
    "1. 흡연과 석면, 2가지 factor가 폐암에 끼치는 영향을 보려고 한다.\n",
    "    - my) 일단 y에 대해 2가지 x후보군이 세팅되어있다 (둘중에 하나는 x, 하나는 a(interaion 일듯)\n",
    "    - my) 예제처럼 바로 `확률`인 risk를 `제시`할 수도 있지만, 과제처럼 `만명당, 10만명당 incidence rate`를 제시할 수도 있다.\n",
    "        ![image-20220416172332423](https://raw.githubusercontent.com/is2js/screenshots/main/image-20220416172332423.png)\n",
    "    - my) risk는 이미 y(질병걸릴확률?)완료된 값 -> 2개 factor들만 row/column으로 가서 2by2 table로 표현되었다.\n",
    "\n",
    "\n",
    "2. **각 factor별 background(모든 위험요소노출X)에서 증가된 risk 구해놓기**\n",
    "    1. 2가지 위험factor(2 by 2)에 대해 **`둘 다 노출이 안된 risk = background risk`**를 계산(확인)한다.\n",
    "        - row 비흡연(위험노출X) &&  column 석면노출안됨(위험노출X) -> 0.0011\n",
    "    2. **`background risk를 기준으로 석면노출에 의한 증가한 risk`를 석면노출O risk - 석면노출X risk의 risk차이로 계산한다.**\n",
    "        - background risk를 체크한 상태에서 **row의 위험노출X를 기준으로** row방향으로 risk차이를 구하면, column에 있는 factor의 영향이 됨.\n",
    "        ![image-20220416173411994](https://raw.githubusercontent.com/is2js/screenshots/main/image-20220416173411994.png)\n",
    "    3. 마찬가지로 column의 위험노출X를 기준으로 column방향으로 risk차이 = **`흡연으로 인해 증가된 risk`**를 구한다\n",
    "        ![image-20220416173806145](https://raw.githubusercontent.com/is2js/screenshots/main/image-20220416173806145.png)\n",
    "        \n",
    "3. **`각 factor별이 아니라 2 factor모두에게 영향받을 때의 risk`는?**\n",
    "    1. `additive model`로서 additive effect를 가정할 경우, 폐암risk는?\n",
    "        - background + 석면의영향(으로 증가된risk) + 흡연의 영향으로 계산한다\n",
    "            - 0.0011 + 0.00565 + 0.00.84 = 0.0151\n",
    "            \n",
    "        - **이는, 비흡연일 때의 석면의 영향(+0.0056)이, 아래row의 흡연에서도 동일하게 영향을 미칠 것이라고 가정한 것 과 같다.**\n",
    "            ![image-20220416175004860](https://raw.githubusercontent.com/is2js/screenshots/main/image-20220416175004860.png)\n",
    "        - 반대쪽에서 더해져도 마찬가지다. **이처럼 효과는 차곡차곡 더해질 뿐이니, 더해가면 된다는 것이 additive model이다.**\n",
    "        ![image-20220416180039327](https://raw.githubusercontent.com/is2js/screenshots/main/image-20220416180039327.png)\n",
    "    2. **하지만, `실제 risk`는 0.0151보다 `훨씬 크다`.**\n",
    "        ![image-20220416180159078](https://raw.githubusercontent.com/is2js/screenshots/main/image-20220416180159078.png)\n",
    "        - **이 말의 뜻은 `위험factor 2가지 동시에 노출되면, 각각의 효과보다 훨씬 더 나쁜 효과를 일으킨다`는 말이다.**\n",
    "            - factor간에 시너지가 일어났다 = `interaction이 있다` = `석면의 효과가, 흡연여부에 따라 다르다`\n",
    "            ![image-20220416180357598](https://raw.githubusercontent.com/is2js/screenshots/main/image-20220416180357598.png)\n",
    "            - 반대로 `흡연의 효과가, 석면노출여부에 따라 다르다`라고도 말할 수 있다.\n",
    "            ![image-20220416180436013](https://raw.githubusercontent.com/is2js/screenshots/main/image-20220416180436013.png)\n",
    "\n",
    "\n",
    "\n",
    "\n",
    "\n"
   ]
  },
  {
   "cell_type": "markdown",
   "id": "cd2aa9ca",
   "metadata": {},
   "source": [
    "### 그래프로 본 interaction"
   ]
  },
  {
   "cell_type": "markdown",
   "id": "b5919bdc",
   "metadata": {},
   "source": [
    "- **x축에 올라가있는 `A값에 따라~`  `X(legend)`가 `Y(y축)`에 끼치는 영향(2그래프 차이)이 어떻게 바뀌는지 보자.**"
   ]
  },
  {
   "cell_type": "markdown",
   "id": "3b62f41f",
   "metadata": {},
   "source": [
    "![image-20220416180500997](https://raw.githubusercontent.com/is2js/screenshots/main/image-20220416180500997.png)"
   ]
  },
  {
   "cell_type": "markdown",
   "id": "626a9424",
   "metadata": {},
   "source": [
    "- 목적: interfaction을 일으킬 **`factor A`값에 따라 `factor X`가 `Y(risk)에 끼치는 효과`를 나타내는 것**\n",
    "    - **~에 따른 변화 -> X축 -> factor A가 x축에 오게 된다.**\n",
    "- **`y축`: chance of disease = 질병이 발생할 확률 -> `risk`를 의미한다.**\n",
    "- **`x축`: unexposed, exposed = `예비 interaction 위험요소 A`로서 노출X, O를 각각 나타냄**\n",
    "- **`legend`로서 2개의 그래프: `X->Y에 있어서 factor X의 노출X/O여부를 2개의 그래프`로 나타낸 것**"
   ]
  },
  {
   "cell_type": "markdown",
   "id": "5b110073",
   "metadata": {},
   "source": [
    "#### interaction이 없는 경우(2그래프  평행 = A노출 전/후 risk증가 차이 일정)"
   ]
  },
  {
   "cell_type": "markdown",
   "id": "3c78f490",
   "metadata": {},
   "source": [
    "![image-20220416184010615](https://raw.githubusercontent.com/is2js/screenshots/main/image-20220416184010615.png)"
   ]
  },
  {
   "cell_type": "markdown",
   "id": "67340eb2",
   "metadata": {},
   "source": [
    "##### interaction그래프 해석방법"
   ]
  },
  {
   "cell_type": "markdown",
   "id": "2f5bbe88",
   "metadata": {},
   "source": [
    "1. **x축 1개 상황을 고정하여 `위험요소A에 노출되지 않았을 때`**\n",
    "    - 위험요소X에 노출되지 않았을 때 <-> X에 노출되었을 때 **차이를 보고 `X노출에 의한 Y risk증가 효과(차이)`**를 확인한다.\n",
    "        ![image-20220416182430198](https://raw.githubusercontent.com/is2js/screenshots/main/image-20220416182430198.png)\n",
    "        \n",
    "2. **x축 나머지 상황을 고정하여 `위험요소A에 노출되었을 때`의 -> `X노출에 의한 Y risk 증가 효과(차이)`를 확인한다**\n",
    "    - X에 노출되지 않았을 때보다, 노출되었을 때의 risk가 올라감을 확인한다.\n",
    "\n",
    "![image-20220416183224842](https://raw.githubusercontent.com/is2js/screenshots/main/image-20220416183224842.png)\n",
    "\n",
    "\n",
    "3. **x축에 있는 예비 interaction factor A의  노출X/O에 따라  `X에 노출X/O의 risk차이`가 달라지는지 확인한다.**\n",
    "     - **`(x축)factor A의 노출여부`가 `X의 노출 X/O의 risk 차이에 영향을 주지않고 == 동일한 risk`를 가져간다.**\n",
    "    - 즉, **인터렉션 그래프에서 `x축에 있는 예비 인터렉션 factor A에 따라 risk변화가 나타나지 않으면` == `2개 그래프가 X축 여부에 따라 평행하면` == `인터랙션효과가 없는 것`으로 판단하면 된다.**"
   ]
  },
  {
   "cell_type": "markdown",
   "id": "2baf4586",
   "metadata": {},
   "source": [
    "#### Interaction이 있는 경우 = 2개이상의 factor가 간섭하면 Synergism을 일으키는 경우"
   ]
  },
  {
   "cell_type": "markdown",
   "id": "0c7358c2",
   "metadata": {},
   "source": [
    "![image-20220416180714524](https://raw.githubusercontent.com/is2js/screenshots/main/image-20220416180714524.png)"
   ]
  },
  {
   "cell_type": "markdown",
   "id": "bc49d2f7",
   "metadata": {},
   "source": [
    "- 2개의 factor와 모두 만나면, 각각 노출되는 것보다 효과가 더 커진다 = interfaction이 있는 것"
   ]
  },
  {
   "cell_type": "markdown",
   "id": "64805015",
   "metadata": {},
   "source": [
    "##### 해석"
   ]
  },
  {
   "cell_type": "markdown",
   "id": "8b967619",
   "metadata": {},
   "source": [
    "1. `factor A에 노출되지 않았을 때` -> 그래프차이를 보고 -> `X의 Y risk증가 효과`를 확인한다.\n",
    "    ![image-20220416184606188](https://raw.githubusercontent.com/is2js/screenshots/main/image-20220416184606188.png)\n",
    "2. `factor A에 노출되었을 때` -> 그래프차이를 보고 -> `X의 Y risk증가 효과`를 확인한다.\n",
    "    ![image-20220416184613972](https://raw.githubusercontent.com/is2js/screenshots/main/image-20220416184613972.png)\n",
    "    \n",
    "3. `A 노출`시 `X->Y risk증가 효과`가 `더 많이 올라가는 것을 확인`한다. \n",
    "    - 평행하지않다 = 인터랙션 존재한다 = 시너지즘이 존재한다."
   ]
  },
  {
   "cell_type": "markdown",
   "id": "296a84f6",
   "metadata": {},
   "source": [
    "#### interaction이 있지만(A노출 전/후 2그래프 평행X) X노출 전  A만으로는 효과가 전혀 없는 경우"
   ]
  },
  {
   "cell_type": "markdown",
   "id": "eb458442",
   "metadata": {},
   "source": [
    "\n",
    "\n",
    "\n",
    "\n",
    "![image-20220416201358886](https://raw.githubusercontent.com/is2js/screenshots/main/image-20220416201358886.png)\n",
    "\n"
   ]
  },
  {
   "cell_type": "markdown",
   "id": "994e1e68",
   "metadata": {},
   "source": [
    "##### 해석(특이)"
   ]
  },
  {
   "cell_type": "markdown",
   "id": "2c151ff3",
   "metadata": {},
   "source": [
    "- 특별히 X축 1상황부터 보는게 아니라, legend 1상황에 대해 X축 2상황을 같이본다.\n",
    "\n",
    "- X에 노출되지 않은 경우에는, factor A의 y rist증가 효과가 전혀 없는 경우다\n",
    "    - **factor A 는 Y의 risk에 영향을 끼치지 않는 것으로 본다.**\n",
    "        ![image-20220416201745788](https://raw.githubusercontent.com/is2js/screenshots/main/image-20220416201745788.png)\n",
    "\n",
    "- 근데, **X에 노출된 경우, A의 y risk증가효과가 나타난다.**\n",
    "    - 차이가 일정하지 않다 = 2그래프가 평행하지 않다 = factor A(x축)에 의해 x->y risk 증가효과가 있다.\n",
    "        ![image-20220416201850580](https://raw.githubusercontent.com/is2js/screenshots/main/image-20220416201850580.png)"
   ]
  },
  {
   "cell_type": "markdown",
   "id": "61f5d088",
   "metadata": {},
   "source": [
    "#### intraction이 있지만, A로 인해 cross되는 경우"
   ]
  },
  {
   "cell_type": "markdown",
   "id": "e937a6fd",
   "metadata": {},
   "source": [
    "![image-20220416202016035](https://raw.githubusercontent.com/is2js/screenshots/main/image-20220416202016035.png)\n",
    "\n"
   ]
  },
  {
   "cell_type": "markdown",
   "id": "3e98fa28",
   "metadata": {},
   "source": [
    "##### 해석"
   ]
  },
  {
   "cell_type": "markdown",
   "id": "0a3e235d",
   "metadata": {},
   "source": [
    "- **factor A 값에 따라  `X의 y risk증가효과`의 `방향`이 바뀌어버린다**\n",
    "\n",
    "\n",
    "1. 먼저, X축의 `factor A에 노출되지 않았을 경우`를 먼저 보면, -> **`X에 노출되었을 때 risk`가 `X에 노출되지 않았을 때의 risk`보다 낮다**\n",
    "    - X에 노출되었을 때 risk가 더 내려간다? -> X는 y에 대해 `protective effect`가 있는 factor다\n",
    "    ![image-20220416203455293](https://raw.githubusercontent.com/is2js/screenshots/main/image-20220416203455293.png)\n",
    "    \n",
    "2. `factor A에 노출`된 경우, `X에 노출되었을 때 risk`가 `X에 노출되지 않았을 때의 risk`보다 더 높아진다.\n",
    "    - X가 y risk를 증가시키는, 나쁜영향을 주는 X라 볼 수 있다.\n",
    "    ![image-20220416204110915](https://raw.githubusercontent.com/is2js/screenshots/main/image-20220416204110915.png)\n",
    "3. **A값에 따라 x가 좋기도 했따가(y risk떨궈줌) or x가 안좋기도 했다가 하는 경우를 `Antagonism`이라고 부른다.**"
   ]
  },
  {
   "cell_type": "markdown",
   "id": "05337058",
   "metadata": {},
   "source": [
    "### Additive vs. multiplicative\n",
    "- additive model: 2 factor에 모두 노출된 효과는 `각 효과의 합`\n",
    "    - my) 2 by 2 표에서는, background risk 출발 -> 한쪽 노출된 것에 -> 다른쪽 효과도 노출된 방향으로 확률 그대로 더하면 된다.\n",
    "- **multiplicative model(멀티 플리커티브 모델):2 factor에 모두 노출된 효과는 `각효과의 곱`**\n",
    "    ![image-20220416204234163](https://raw.githubusercontent.com/is2js/screenshots/main/image-20220416204234163.png)"
   ]
  },
  {
   "cell_type": "markdown",
   "id": "8336136e",
   "metadata": {},
   "source": [
    "### 예제를 통한 interaction(multiplicative model)"
   ]
  },
  {
   "cell_type": "markdown",
   "id": "cc912f56",
   "metadata": {},
   "source": [
    "![image-20220416204639409](https://raw.githubusercontent.com/is2js/screenshots/main/image-20220416204639409.png)"
   ]
  },
  {
   "cell_type": "markdown",
   "id": "8b8ad722",
   "metadata": {},
   "source": [
    "- **위험요소 X와 A 2개**가 있다. \n",
    "    - interfaction 보는 문제인 듯?\n",
    "- 위험요소 노출여부에 따라 **1만명당 incidence rates**를 조사했다.\n",
    "    - 앞에 문제들에선 risk(계산된 확률)이었는데, 여기는 확률이 너무 낮아서 10000만을 곱해 1만명당으로 줬다?\n",
    "    - incidence는 기본적으로 `xxx명당 새롭게 발생한 환자의 비율`이며, risk(발생확률)과 거의 비슷한 개념으로 생각한다.\n",
    "\n",
    "1. 일단 background risk처럼 `2 위험요소 모두 노출되지 않았을 경우`부터 확인한다. -> 3\n",
    "2. `background에서 위험요소A만 노출(->)`될 경우를 확인 및 변화량도 확인한다\n",
    "    - 3 -> 9로 위험요소 A노출시 (만명당) +6명 효과\n",
    "3. `background에서 위험요소X만 노출(↓)`될 경우를 확인 및 변화량도 확인한다.\n",
    "    - 3 -> 15로 위험요소 X노출시 (만명당) +15명 효과\n",
    "4. **빈칸에 들어갈 값은? 만약 additive model이라면 한쪽에서, 다른한쪽의 증가량 더해주면 되는데**"
   ]
  },
  {
   "cell_type": "markdown",
   "id": "ef1a63b6",
   "metadata": {},
   "source": [
    "#### additive model이라면?"
   ]
  },
  {
   "cell_type": "markdown",
   "id": "0da6e560",
   "metadata": {},
   "source": [
    "![image-20220416210749120](https://raw.githubusercontent.com/is2js/screenshots/main/image-20220416210749120.png)\n",
    "\n"
   ]
  },
  {
   "cell_type": "markdown",
   "id": "286693ee",
   "metadata": {},
   "source": [
    "- **각 factor 노출시 변화량의 합 -> 둘다 노출시 변화량의 개념으로 보는 것 ==  `Attributable risks`로 보는 것**\n",
    "    1. 둘다 노출되지 않았을 때가 기준이며, 0으로 만든다 -> `전체 -3`\n",
    "    2. **자동으로 위험요소 노출시의 값 = `변화량(증가량)`이 된다.**\n",
    "    3. 둘다 노출시 **`interaction`이 없다면 단순 합으로 계산된다.**\n",
    "        - Attributable risks으로 보면 6+12 -> 18\n",
    "        - 기존표에서 보면, X부터 노출되었다 치면 3->15로 온 다음, A에 의한 증가량(+6)을 더해 15-> 21이 된다.\n",
    "            ![image-20220416211714900](https://raw.githubusercontent.com/is2js/screenshots/main/image-20220416211714900.png)\n",
    "\n"
   ]
  },
  {
   "cell_type": "markdown",
   "id": "258c8602",
   "metadata": {},
   "source": [
    "#### Multiplicative model이라면?"
   ]
  },
  {
   "cell_type": "markdown",
   "id": "2e62a5ce",
   "metadata": {},
   "source": [
    "- **각 factor 노출시 변화량의 곱 -> 둘다 노출시 변화량의 개념으로 보는 것 ==  `Relative risk`의 개념으로 본다.**\n",
    "    1. 둘다 노출되지 않았을 때가 기준이며, ~~0으로 만든다~~ -> **곱의 개념이므로 기준점을 1로 만드는 `전체 / 3`을 한다**\n",
    "        ![image-20220416212025154](https://raw.githubusercontent.com/is2js/screenshots/main/image-20220416212025154.png)\n",
    "\n",
    "    2. **자동으로 위험요소 노출시의 값 = `변화량(배수개념)`이 된다.**\n",
    "        - A노출시 3배 증가\n",
    "        - X노출시 5배 증가\n",
    "            ![image-20220416212153362](https://raw.githubusercontent.com/is2js/screenshots/main/image-20220416212153362.png)\n",
    "\n",
    "    3. 둘다 노출시 **`interaction`이 없다면 `두 변화량(배수)의 곱`으로 계산된다.**\n",
    "        - 3배 X 5배 -> 총 15배\n",
    "        - 기존표 3 x 15 -> 45\n",
    "            ![image-20220416212247418](https://raw.githubusercontent.com/is2js/screenshots/main/image-20220416212247418.png)\n",
    "\n"
   ]
  },
  {
   "cell_type": "markdown",
   "id": "2d6d34b5",
   "metadata": {},
   "source": [
    "#### addtive+multiplicative 의 계산은 `interaction없을 때를 가정하고 2factor 모두 노출시의 값`을 계산한 것이다. 실제 문제에서 주어지는 실제 값을 비교해서 차이가 나면  interaction이 존재하는 것이다.\n",
    "- addtive model의 (만명당) incidenrate 계산 -> interaction없다는 가정하에 계산한 것\n",
    "    - **?가 21보다 현저히 높거나 낮으면 interaction이 있는 것으로 판단**\n",
    "- multiplicative model의 (만명당) incidenrate 계산 -> interaction없다는 가정하에 계산한 것\n",
    "    - **?가 45보다 현저히 높거나 낮으면 interaction이 있는 것으로 판단**"
   ]
  },
  {
   "cell_type": "markdown",
   "id": "0ffdb2da",
   "metadata": {},
   "source": [
    "#### 따라서, 어떤 model을 가정하느냐에 따라서 interaction 존재 기준값이 달라져 판단이 달라진다.\n",
    "- 실제값이 21이 주어졌다.\n",
    "    - additive 모델가정시 -> interaction 없네?\n",
    "    - multiplicative 모델가정시 -> interaction 이 있는데?\n",
    "- 그럼 어떻게 model을 잡을까?\n",
    "    - 위험요소의 생물학적 작동기전에 따라 biological knowledge에 의해 결정되어야한다.\n",
    "    - 근데, 사실 addtive model을 사용하는 경우가 많다(직관적 이해가 쉬워서)\n",
    "    - 하지만, interaction 판단시, addtive model의 attributable risk보다는 RR, OR를 많이 사용한다.\n",
    "        - 그리고 RR, OR는 multiplicative model을 사용하는 것이 더 자연스럽다. 기본적으로 ratio는 더하기 빼기보다 곱하기 나누기 하는게 맞으므로\n",
    "    - **하지만, RR, OR에 log를 취하면, 자연스럽게 addtive model로 변하고, 그것을 이용한다**\n",
    "    ![image-20220416212753664](https://raw.githubusercontent.com/is2js/screenshots/main/image-20220416212753664.png)\n",
    "\n"
   ]
  },
  {
   "cell_type": "markdown",
   "id": "dad4417b",
   "metadata": {},
   "source": [
    "### interaction 계산시 유의점\n",
    "- 예비 interaction factor인 `A값별로 (subgroup을 나눔. 그래프상으론 X축)` X->y에 끼치는 효과를 추정할 것인데\n",
    "    - 각 A값별 subgroup의 `효과에 대한 p-value`의 `차이`를 가지고 판단하는 것이 아니라\n",
    "    - 각 A값별 subgroup의 `효과에 차이`에 대한 `p-value`를 가지고 판단한다\n",
    "        ![image-20220416213200599](https://raw.githubusercontent.com/is2js/screenshots/main/image-20220416213200599.png)\n",
    "\n"
   ]
  },
  {
   "cell_type": "code",
   "execution_count": null,
   "id": "df7c11f0",
   "metadata": {
    "vscode": {
     "languageId": "r"
    }
   },
   "outputs": [],
   "source": []
  },
  {
   "cell_type": "markdown",
   "id": "c4b50501",
   "metadata": {},
   "source": [
    "## 정리하기"
   ]
  },
  {
   "cell_type": "markdown",
   "id": "96394959",
   "metadata": {},
   "source": [
    "- 위험요소(X)와 질병(Y) 둘 다와 상관관계가 있으면서, 위험요소의 결과도, 질병의 결과도 아닌 변수를 confounder라고 한다\n",
    "    - confounder의 정의\n",
    "- X와 Y간에 인과관계가 없어도 강력한 confounder가 있는 경우에는 X와 Y에 상관관계가 관측된다\n",
    "    - 이런 경우를 막기 위해 아래의 방법으로 confounding을 제거\n",
    "- 연구 디자인 단계에서 confounding을 제거하는 방법에는 랜덤화와 매칭이 있다\n",
    "- 데이터 분석 단계에서 confounding을 제거하는 방법에는 stratification, adjustment, propensity score analysis가 있다\n",
    "- X가 Y에 끼치는 효과가, 다른 변수 A값에 따라 달라질 때 X와 A간에 interaction이 존재한다고 말한다\n",
    "- Interaction의 종류에는 synergism, unilateralism, antagonism이 있다\n",
    "- Additive model을 가정하느냐, multiplicative model을 가정하느냐에 따라 interaction 여부의 판단이 달라질 수 있다"
   ]
  },
  {
   "cell_type": "markdown",
   "id": "8382f105",
   "metadata": {},
   "source": [
    "### 연습문제"
   ]
  },
  {
   "cell_type": "markdown",
   "id": "62a4b6fe",
   "metadata": {},
   "source": [
    "#### 다음 중 그림의 제일 위쪽에 있는 인자가 confounder가 아닌 경우는?"
   ]
  },
  {
   "cell_type": "markdown",
   "id": "e55fd208",
   "metadata": {},
   "source": [
    "![image-20220416213637068](https://raw.githubusercontent.com/is2js/screenshots/main/image-20220416213637068.png)"
   ]
  },
  {
   "cell_type": "markdown",
   "id": "c10af20b",
   "metadata": {},
   "source": [
    "- 정답 : 3\n",
    "- 해설 : high cholesterol diet와 흡연 간에 상관관계가 없으므로 high cholesterol diet는 confounder가 아니다. \n",
    "    - my) 일단 C가 결과가 되면 안되고, C는 x, y모두와 인과or상관관계가 존재해야한다."
   ]
  },
  {
   "cell_type": "markdown",
   "id": "83595cb0",
   "metadata": {},
   "source": [
    "#### 다음은 위험요소 두가지(interfaction) A, B에 대한 노출여부와 어떤 질병의 만명 당  incidence이다.  다음 설명 중 옳지 않은 것은?\n",
    "\n"
   ]
  },
  {
   "cell_type": "markdown",
   "id": "346cb524",
   "metadata": {},
   "source": [
    "![image-20220416215229822](https://raw.githubusercontent.com/is2js/screenshots/main/image-20220416215229822.png)\n",
    "\n"
   ]
  },
  {
   "cell_type": "markdown",
   "id": "369cd8b6",
   "metadata": {},
   "source": [
    "1. additive model을 가정한다면 A와 B간의 interaction은 없다.\n",
    "\n",
    "2. addtive model을 가정한다면 A의 효과는 B에 노출되었는지 여부에 따라서 달라진다.\n",
    "\n",
    "3. multiplicative model을 가정한다면 A와 B에 둘다 노출되었을 때 incidence는 만명 당 60명이다.\n",
    "\n",
    "4. multiplicative model을 가정한다면 A와 B간의 interaction이 존재한다."
   ]
  },
  {
   "cell_type": "markdown",
   "id": "2d90a73b",
   "metadata": {},
   "source": [
    "#### 내풀이"
   ]
  },
  {
   "cell_type": "markdown",
   "id": "37afcaec",
   "metadata": {},
   "source": [
    "![image-20220416220550456](https://raw.githubusercontent.com/is2js/screenshots/main/image-20220416220550456.png)"
   ]
  },
  {
   "cell_type": "markdown",
   "id": "72a6d61c",
   "metadata": {},
   "source": [
    "- 2번: addtive model을 가정한다면 `A의 효과는 <B에 노출되었는지 여부에 따라서> 달라진다.` = **interaction인 존재한다는 말이다**\n",
    "    - 하지만, 계산값 30 = 실제값 30으로 ineteraction이 없다고 판단된다 -> **`A가 어떤질병에 끼치는 영향`이 위험요소B의 값에 따라 `달라지지 않는다`**"
   ]
  },
  {
   "cell_type": "markdown",
   "id": "39b78d46",
   "metadata": {},
   "source": [
    "- 정답: 2\n",
    "- 해설 : additive model을 가정한다면 A, B에 노출되었을 때의 위험은 5 + (20 - 5) + (15 - 5) = 30이 맞고, 이것은 interaction이 없음을 의미한다. 즉, A의 효과는 B에 노출되었는지 여부에 관계없이 일정하다.\n"
   ]
  }
 ],
 "metadata": {
  "kernelspec": {
   "display_name": "R",
   "language": "R",
   "name": "ir"
  },
  "language_info": {
   "codemirror_mode": "r",
   "file_extension": ".r",
   "mimetype": "text/x-r-source",
   "name": "R",
   "pygments_lexer": "r",
   "version": "4.1.3"
  },
  "toc": {
   "base_numbering": 1,
   "nav_menu": {},
   "number_sections": true,
   "sideBar": true,
   "skip_h1_title": false,
   "title_cell": "Table of Contents",
   "title_sidebar": "Contents",
   "toc_cell": false,
   "toc_position": {
    "height": "calc(100% - 180px)",
    "left": "10px",
    "top": "150px",
    "width": "304.306px"
   },
   "toc_section_display": true,
   "toc_window_display": true
  }
 },
 "nbformat": 4,
 "nbformat_minor": 5
}
