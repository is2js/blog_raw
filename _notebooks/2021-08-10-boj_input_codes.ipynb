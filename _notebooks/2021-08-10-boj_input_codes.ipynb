{
 "cells": [
  {
   "cell_type": "markdown",
   "source": [
    "# 백준(알고리즘) 문제 풀기용 input 코드 모음\r\n",
    "> 백준 알고리즘 문제 풀이를 위한 python input 코드 모음\r\n",
    "\r\n",
    "- toc:true\r\n",
    "- branch: master\r\n",
    "- badges: true\r\n",
    "- comments: true\r\n",
    "- author: Jaeseong Cho\r\n",
    "- categories: [boj, 백준]"
   ],
   "metadata": {}
  },
  {
   "cell_type": "code",
   "execution_count": null,
   "source": [],
   "outputs": [],
   "metadata": {}
  },
  {
   "cell_type": "markdown",
   "source": [
    "# 참고\r\n",
    "\r\n",
    " - [블로그](https://paris-in-the-rain.tistory.com/72) \r\n",
    " - 그외 백준 공식 레퍼런스\r\n"
   ],
   "metadata": {}
  },
  {
   "cell_type": "markdown",
   "source": [
    "## 공백 기준 데이터 입력받기(map, int, input.split )"
   ],
   "metadata": {}
  },
  {
   "cell_type": "code",
   "execution_count": null,
   "source": [
    "# 공백을 기준으로 구분된 데이터가 많지 않다면 \r\n",
    "a, b, c = map(int, input().split())\r\n",
    "\r\n",
    "\r\n",
    "# 공백을 기준으로 구분된 데이터를 많이 받아야할 땐, list로\r\n",
    "data = list(map(int, input().split()))"
   ],
   "outputs": [],
   "metadata": {}
  },
  {
   "cell_type": "markdown",
   "source": [
    "## 시간을 더 빠르게  데이터 입력받기(sys 모듈)\r\n",
    " - sys.stdin.readline() 사용\r\n",
    " - 단, 입력 후 엔터가 사용되므로 rstrip() 를 함께 사용"
   ],
   "metadata": {}
  },
  {
   "cell_type": "code",
   "execution_count": 1,
   "source": [
    "import sys\r\n",
    "\r\n",
    "# 공백으로 구분된 2개 숫자 입력 받기\r\n",
    "N, M = map(int,sys.stdin.readline().split())\r\n",
    "\r\n",
    "\r\n",
    "# 2차원 리스트 입력 받기\r\n",
    "board = [list(map(int,sys.stdin.readline().split())) for _ in range(N)]\r\n",
    "\r\n",
    "\r\n",
    "# 문자열 입력 받기\r\n",
    "data = sys.stdin.readline().rstrip()"
   ],
   "outputs": [
    {
     "output_type": "stream",
     "name": "stdout",
     "text": [
      "The comment #hide_input was used to hide the code that produced this.\n"
     ]
    }
   ],
   "metadata": {}
  },
  {
   "cell_type": "markdown",
   "source": [
    "## 공백기준 출력시 \\*(사용시언패킹)으로 "
   ],
   "metadata": {}
  },
  {
   "cell_type": "code",
   "execution_count": 2,
   "source": [
    "result = [1, 2, 3]\r\n",
    "\r\n",
    "# 기본적인 리스트 출력시\r\n",
    "print(result)\r\n",
    "# [1,2,3]\r\n",
    "\r\n",
    "# for loop으로 원소를 하나씩 출력\r\n",
    "for i in range(len(result)):\r\n",
    "    print(result[i], end=' ')\r\n",
    "# 1 2 3\r\n",
    "\r\n",
    "# 리스트의 원소를 언패킹 시켜서 출력\r\n",
    "print(*result)\r\n",
    "# 1 2 3 "
   ],
   "outputs": [
    {
     "output_type": "stream",
     "name": "stdout",
     "text": [
      "[1, 2, 3]\n",
      "1 2 3 1 2 3\n"
     ]
    }
   ],
   "metadata": {}
  },
  {
   "cell_type": "markdown",
   "source": [
    "## N x M 크기의 이차원 리스트 초기화 및 입력받기\r\n",
    "\r\n",
    "시뮬레이션 문제에서 주어지는 입력 중 가장 많은 형태의 입력을 list comprehension 으로 받을 수 있다.\r\n",
    "\r\n"
   ],
   "metadata": {}
  },
  {
   "cell_type": "code",
   "execution_count": 10,
   "source": [
    "# N x M 리스트 초기화 ex) 해당 좌표에 방문 체크하는 배열\r\n",
    "n, m = map(int, input().split())\r\n",
    "board = [list(map(int, input().split())) for _ in range(n)]\r\n",
    "\r\n",
    "visited = [[False]*m for _ in range(n)]\r\n",
    "\r\n",
    "print(visited)\r\n",
    "print(board)\r\n",
    "# 입력(행 열 -> 열의 갯수만큼 False==0으로 채워진 행x열의 visited 2차원 리스트)\r\n",
    "# 5 9\r\n",
    "# 0 0 0 0 0 0 0 0 0\r\n",
    "# 0 0 0 1 1 0 0 0 0\r\n",
    "# 0 0 0 1 1 0 1 1 0\r\n",
    "# 0 0 1 1 1 1 1 1 0\r\n",
    "# 0 0 1 1 1 1 1 0 0\r\n"
   ],
   "outputs": [
    {
     "output_type": "stream",
     "name": "stdout",
     "text": [
      "[[False, False, False, False, False], [False, False, False, False, False], [False, False, False, False, False]]\n",
      "[[3], [3], [3]]\n"
     ]
    }
   ],
   "metadata": {}
  },
  {
   "cell_type": "code",
   "execution_count": null,
   "source": [],
   "outputs": [],
   "metadata": {}
  }
 ],
 "metadata": {
  "kernelspec": {
   "name": "python3",
   "display_name": "Python 3.8.5 64-bit (conda)"
  },
  "language_info": {
   "codemirror_mode": {
    "name": "ipython",
    "version": 3
   },
   "file_extension": ".py",
   "mimetype": "text/x-python",
   "name": "python",
   "nbconvert_exporter": "python",
   "pygments_lexer": "ipython3",
   "version": "3.8.5"
  },
  "varInspector": {
   "cols": {
    "lenName": 16,
    "lenType": 16,
    "lenVar": 40
   },
   "kernels_config": {
    "python": {
     "delete_cmd_postfix": "",
     "delete_cmd_prefix": "del ",
     "library": "var_list.py",
     "varRefreshCmd": "print(var_dic_list())"
    },
    "r": {
     "delete_cmd_postfix": ") ",
     "delete_cmd_prefix": "rm(",
     "library": "var_list.r",
     "varRefreshCmd": "cat(var_dic_list()) "
    }
   },
   "types_to_exclude": [
    "module",
    "function",
    "builtin_function_or_method",
    "instance",
    "_Feature"
   ],
   "window_display": false
  },
  "interpreter": {
   "hash": "b3ba2566441a7c06988d0923437866b63cedc61552a5af99d1f4fb67d367b25f"
  }
 },
 "nbformat": 4,
 "nbformat_minor": 4
}