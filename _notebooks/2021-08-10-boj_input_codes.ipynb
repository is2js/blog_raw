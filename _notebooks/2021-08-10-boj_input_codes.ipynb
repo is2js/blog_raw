{
 "cells": [
  {
   "cell_type": "markdown",
   "metadata": {},
   "source": [
    "# Python BOJ input 모음(python)\n",
    "> 백준 알고리즘 문제 풀이를 위한 python input 코드 모음\n",
    "\n",
    "- toc:true\n",
    "- branch: master\n",
    "- badges: true\n",
    "- comments: true\n",
    "- author: Jaeseong Cho\n",
    "- categories: [algorithm]\n",
    "- image: \"images/posts/algo.png\""
   ]
  },
  {
   "cell_type": "markdown",
   "metadata": {},
   "source": [
    "## 참고\n",
    "\n",
    " - [블로그](https://paris-in-the-rain.tistory.com/72) \n",
    " - 그외 백준 공식 레퍼런스\n"
   ]
  },
  {
   "cell_type": "markdown",
   "metadata": {},
   "source": [
    "## input.txt를 이용한 local 풀이 구조\n",
    "\n",
    "- 폴더\n",
    "    - input.txt\n",
    "    - xxx.py\n"
   ]
  },
  {
   "cell_type": "code",
   "execution_count": 3,
   "metadata": {},
   "outputs": [],
   "source": [
    "################ Input From input.txt ################\n",
    "import sys\n",
    "\n",
    "sys.stdin = open(\"./input.txt\", \"rt\")\n",
    "input = sys.stdin.readline # 콘솔에선 미리 안해도되며, 속도향상 필요시만 해준다. # jupyter notebook시 필수\n",
    "######################################################\n",
    "N = int(input())\n",
    "# print(N)\n",
    "data = list(map(int, input().split()))\n",
    "# print(data)"
   ]
  },
  {
   "cell_type": "markdown",
   "metadata": {},
   "source": [
    "## 공백 기준 데이터 입력받기(map, int, input.split )\n",
    "\n",
    " - map객체를 이용해 str -> int 변환했지만, sequence는 아니라 인덱싱을 못한다.\n",
    "    - a, b = map : 인덱싱은 못해도 할당시 나눠받을 수 있다.\n",
    "    - list_ = list(map) : 할당시 나눠받기가 불가능할 정도로 많으면, list()로 sequence로 변환시켜 받아야한다."
   ]
  },
  {
   "cell_type": "code",
   "execution_count": null,
   "metadata": {},
   "outputs": [],
   "source": [
    "# 1개 - int (1개는 맵-> 튜플언패킹이 아니라 map객체다. 못뽑음)\n",
    "# - 1개는 map쓰지말자~!\n",
    "n = int(input().strip())\n",
    "\n",
    "\n",
    "\n",
    "# 2개 - int \n",
    "a, b= map(int, input().split())\n",
    "\n",
    "# for문으로 n번 2개씩\n",
    "n = int(input().strip())\n",
    "for _ in range(n):\n",
    "    a, b= map(int, input().split())\n",
    "\n",
    "\n",
    "\n",
    "# 3개이상의 - list\n",
    "data = list(map(int, input().split()))\n",
    "\n",
    "# for문으로 n번  3개이상시\n",
    "n = int(input().strip())\n",
    "for _ in range(n):\n",
    "    data = list(map(int, input().split()))"
   ]
  },
  {
   "cell_type": "markdown",
   "metadata": {},
   "source": [
    "## 시간을 더 빠르게  데이터 입력받기(sys 모듈)\n",
    " - sys.stdin.readline() 사용\n",
    " - 단, 입력 후 엔터가 사용되므로 rstrip() 를 함께 사용"
   ]
  },
  {
   "cell_type": "code",
   "execution_count": 11,
   "metadata": {},
   "outputs": [
    {
     "ename": "ValueError",
     "evalue": "not enough values to unpack (expected 2, got 0)",
     "output_type": "error",
     "traceback": [
      "\u001b[1;31m---------------------------------------------------------------------------\u001b[0m",
      "\u001b[1;31mValueError\u001b[0m                                Traceback (most recent call last)",
      "\u001b[1;32m<ipython-input-11-198e9d917b91>\u001b[0m in \u001b[0;36m<module>\u001b[1;34m\u001b[0m\n\u001b[0;32m      9\u001b[0m \u001b[1;31m# 2개 int\u001b[0m\u001b[1;33m\u001b[0m\u001b[1;33m\u001b[0m\u001b[1;33m\u001b[0m\u001b[0m\n\u001b[0;32m     10\u001b[0m \u001b[1;32mimport\u001b[0m \u001b[0msys\u001b[0m\u001b[1;33m\u001b[0m\u001b[1;33m\u001b[0m\u001b[0m\n\u001b[1;32m---> 11\u001b[1;33m \u001b[0mN\u001b[0m\u001b[1;33m,\u001b[0m \u001b[0mM\u001b[0m \u001b[1;33m=\u001b[0m \u001b[0mmap\u001b[0m\u001b[1;33m(\u001b[0m\u001b[0mint\u001b[0m\u001b[1;33m,\u001b[0m \u001b[0msys\u001b[0m\u001b[1;33m.\u001b[0m\u001b[0mstdin\u001b[0m\u001b[1;33m.\u001b[0m\u001b[0mreadline\u001b[0m\u001b[1;33m(\u001b[0m\u001b[1;33m)\u001b[0m\u001b[1;33m.\u001b[0m\u001b[0msplit\u001b[0m\u001b[1;33m(\u001b[0m\u001b[1;33m)\u001b[0m\u001b[1;33m)\u001b[0m\u001b[1;33m\u001b[0m\u001b[1;33m\u001b[0m\u001b[0m\n\u001b[0m\u001b[0;32m     12\u001b[0m \u001b[1;33m\u001b[0m\u001b[0m\n\u001b[0;32m     13\u001b[0m \u001b[1;33m\u001b[0m\u001b[0m\n",
      "\u001b[1;31mValueError\u001b[0m: not enough values to unpack (expected 2, got 0)"
     ]
    }
   ],
   "source": [
    "# 문자열 1개 입력 받기\n",
    "import sys\n",
    "str = sys.stdin.readline().rstrip()\n",
    "\n",
    "# 1개 - int\n",
    "import sys\n",
    "n = sys.stdin.readline()\n",
    "\n",
    "# 2개 int \n",
    "import sys\n",
    "N, M = map(int, sys.stdin.readline().split())\n",
    "\n",
    "\n",
    "# 2차원 리스트 입력 받기\n",
    "# - 행의 수 N을 입력받고, 각 행의 데이터들을 한번에 받아서 split()해서 열로 들어간다.\n",
    "import sys\n",
    "N = sys.stdin.readline()\n",
    "board = [list(map(int,sys.stdin.readline().split())) for _ in range(N)]\n",
    "\n"
   ]
  },
  {
   "cell_type": "markdown",
   "metadata": {},
   "source": [
    "## 공백기준 출력시 \\*(사용시언패킹)으로 "
   ]
  },
  {
   "cell_type": "code",
   "execution_count": 2,
   "metadata": {},
   "outputs": [
    {
     "name": "stdout",
     "output_type": "stream",
     "text": [
      "[1, 2, 3]\n",
      "1 2 3 1 2 3\n"
     ]
    }
   ],
   "source": [
    "result = [1, 2, 3]\n",
    "\n",
    "# 기본적인 리스트 출력시\n",
    "print(result)\n",
    "# [1,2,3]\n",
    "\n",
    "# for loop으로 원소를 하나씩 출력\n",
    "for i in range(len(result)):\n",
    "    print(result[i], end=' ')\n",
    "# 1 2 3\n",
    "\n",
    "# 리스트의 원소를 언패킹 시켜서 출력\n",
    "print(*result)\n",
    "# 1 2 3 "
   ]
  },
  {
   "cell_type": "markdown",
   "metadata": {},
   "source": [
    "## N x M 크기의 이차원 리스트 초기화 및 입력받기\n",
    "\n",
    "시뮬레이션 문제에서 주어지는 입력 중 가장 많은 형태의 입력을 list comprehension 으로 받을 수 있다.\n",
    "\n"
   ]
  },
  {
   "cell_type": "code",
   "execution_count": 10,
   "metadata": {},
   "outputs": [
    {
     "name": "stdout",
     "output_type": "stream",
     "text": [
      "[[False, False, False, False, False], [False, False, False, False, False], [False, False, False, False, False]]\n",
      "[[3], [3], [3]]\n"
     ]
    }
   ],
   "source": [
    "# N x M 리스트 초기화 ex) 해당 좌표에 방문 체크하는 배열\n",
    "n, m = map(int, input().split())\n",
    "board = [list(map(int, input().split())) for _ in range(n)]\n",
    "\n",
    "visited = [[False]*m for _ in range(n)]\n",
    "\n",
    "print(visited)\n",
    "print(board)\n",
    "# 입력(행 열 -> 열의 갯수만큼 False==0으로 채워진 행x열의 visited 2차원 리스트)\n",
    "# 5 9\n",
    "# 0 0 0 0 0 0 0 0 0\n",
    "# 0 0 0 1 1 0 0 0 0\n",
    "# 0 0 0 1 1 0 1 1 0\n",
    "# 0 0 1 1 1 1 1 1 0\n",
    "# 0 0 1 1 1 1 1 0 0\n"
   ]
  },
  {
   "cell_type": "markdown",
   "metadata": {},
   "source": [
    "### 재귀함수에서 콜스택 제한(재귀한도) 풀어주기\n",
    "\n",
    "```python\n",
    "import sys; sys.setrecursionlimit(10000)\n",
    "```"
   ]
  }
 ],
 "metadata": {
  "interpreter": {
   "hash": "b3ba2566441a7c06988d0923437866b63cedc61552a5af99d1f4fb67d367b25f"
  },
  "kernelspec": {
   "display_name": "Python 3.8.5 64-bit ('ProgramData': virtualenv)",
   "name": "python3"
  },
  "language_info": {
   "codemirror_mode": {
    "name": "ipython",
    "version": 3
   },
   "file_extension": ".py",
   "mimetype": "text/x-python",
   "name": "python",
   "nbconvert_exporter": "python",
   "pygments_lexer": "ipython3",
   "version": "3.8.5"
  },
  "varInspector": {
   "cols": {
    "lenName": 16,
    "lenType": 16,
    "lenVar": 40
   },
   "kernels_config": {
    "python": {
     "delete_cmd_postfix": "",
     "delete_cmd_prefix": "del ",
     "library": "var_list.py",
     "varRefreshCmd": "print(var_dic_list())"
    },
    "r": {
     "delete_cmd_postfix": ") ",
     "delete_cmd_prefix": "rm(",
     "library": "var_list.r",
     "varRefreshCmd": "cat(var_dic_list()) "
    }
   },
   "types_to_exclude": [
    "module",
    "function",
    "builtin_function_or_method",
    "instance",
    "_Feature"
   ],
   "window_display": false
  }
 },
 "nbformat": 4,
 "nbformat_minor": 4
}
