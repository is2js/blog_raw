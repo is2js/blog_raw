{
 "cells": [
  {
   "cell_type": "markdown",
   "source": [
    "# 알고리즘 문제 풀기용 input 코드 모음(python)\r\n",
    "> 백준 알고리즘 문제 풀이를 위한 python input 코드 모음\r\n",
    "\r\n",
    "- toc:true\r\n",
    "- branch: master\r\n",
    "- badges: true\r\n",
    "- comments: true\r\n",
    "- author: Jaeseong Cho\r\n",
    "- categories: [boj, 백준]"
   ],
   "metadata": {}
  },
  {
   "cell_type": "markdown",
   "source": [
    "## 참고\r\n",
    "\r\n",
    " - [블로그](https://paris-in-the-rain.tistory.com/72) \r\n",
    " - 그외 백준 공식 레퍼런스\r\n"
   ],
   "metadata": {}
  },
  {
   "cell_type": "markdown",
   "source": [
    "## input.txt를 이용한 local 풀이 구조\r\n",
    "\r\n",
    " - 폴더\r\n",
    "     - input.txt\r\n",
    "     - xxx.py\r\n",
    "    \r\n",
    " ```python\r\n",
    "################ Input From input.txt ################\r\n",
    "import sys\r\n",
    "\r\n",
    "sys.stdin = open(\"./input.txt\", \"rt\")\r\n",
    "######################################################\r\n",
    "N = int(input())\r\n",
    "# print(N)\r\n",
    "data = list(map(int, input().split()))\r\n",
    "# print(data)\r\n",
    "\r\n",
    " ```"
   ],
   "metadata": {}
  },
  {
   "cell_type": "markdown",
   "source": [
    "## 공백 기준 데이터 입력받기(map, int, input.split )\r\n",
    "\r\n",
    " - map객체를 이용해 str -> int 변환했지만, sequence는 아니라 인덱싱을 못한다.\r\n",
    "    - a, b = map : 인덱싱은 못해도 할당시 나눠받을 수 있다.\r\n",
    "    - list_ = list(map) : 할당시 나눠받기가 불가능할 정도로 많으면, list()로 sequence로 변환시켜 받아야한다."
   ],
   "metadata": {}
  },
  {
   "cell_type": "code",
   "execution_count": null,
   "source": [
    "# 1개 - int (1개는 맵-> 튜플언패킹이 아니라 map객체다. 못뽑음)\r\n",
    "# - 1개는 map쓰지말자~!\r\n",
    "n = int(input().strip())\r\n",
    "\r\n",
    "\r\n",
    "\r\n",
    "# 2개 - int \r\n",
    "a, b= map(int, input().split())\r\n",
    "\r\n",
    "# for문으로 n번 2개씩\r\n",
    "n = int(input().strip())\r\n",
    "for _ in range(n):\r\n",
    "    a, b= map(int, input().split())\r\n",
    "\r\n",
    "\r\n",
    "\r\n",
    "# 3개이상의 - list\r\n",
    "data = list(map(int, input().split()))\r\n",
    "\r\n",
    "# for문으로 n번  3개이상시\r\n",
    "n = int(input().strip())\r\n",
    "for _ in range(n):\r\n",
    "    data = list(map(int, input().split()))"
   ],
   "outputs": [],
   "metadata": {}
  },
  {
   "cell_type": "markdown",
   "source": [
    "## 시간을 더 빠르게  데이터 입력받기(sys 모듈)\r\n",
    " - sys.stdin.readline() 사용\r\n",
    " - 단, 입력 후 엔터가 사용되므로 rstrip() 를 함께 사용"
   ],
   "metadata": {}
  },
  {
   "cell_type": "code",
   "execution_count": 11,
   "source": [
    "# 문자열 1개 입력 받기\r\n",
    "import sys\r\n",
    "str = sys.stdin.readline().rstrip()\r\n",
    "\r\n",
    "# 1개 - int\r\n",
    "import sys\r\n",
    "n = sys.stdin.readline()\r\n",
    "\r\n",
    "# 2개 int \r\n",
    "import sys\r\n",
    "N, M = map(int, sys.stdin.readline().split())\r\n",
    "\r\n",
    "\r\n",
    "# 2차원 리스트 입력 받기\r\n",
    "# - 행의 수 N을 입력받고, 각 행의 데이터들을 한번에 받아서 split()해서 열로 들어간다.\r\n",
    "import sys\r\n",
    "N = sys.stdin.readline()\r\n",
    "board = [list(map(int,sys.stdin.readline().split())) for _ in range(N)]\r\n",
    "\r\n"
   ],
   "outputs": [
    {
     "output_type": "error",
     "ename": "ValueError",
     "evalue": "not enough values to unpack (expected 2, got 0)",
     "traceback": [
      "\u001b[1;31m---------------------------------------------------------------------------\u001b[0m",
      "\u001b[1;31mValueError\u001b[0m                                Traceback (most recent call last)",
      "\u001b[1;32m<ipython-input-11-198e9d917b91>\u001b[0m in \u001b[0;36m<module>\u001b[1;34m\u001b[0m\n\u001b[0;32m      9\u001b[0m \u001b[1;31m# 2개 int\u001b[0m\u001b[1;33m\u001b[0m\u001b[1;33m\u001b[0m\u001b[1;33m\u001b[0m\u001b[0m\n\u001b[0;32m     10\u001b[0m \u001b[1;32mimport\u001b[0m \u001b[0msys\u001b[0m\u001b[1;33m\u001b[0m\u001b[1;33m\u001b[0m\u001b[0m\n\u001b[1;32m---> 11\u001b[1;33m \u001b[0mN\u001b[0m\u001b[1;33m,\u001b[0m \u001b[0mM\u001b[0m \u001b[1;33m=\u001b[0m \u001b[0mmap\u001b[0m\u001b[1;33m(\u001b[0m\u001b[0mint\u001b[0m\u001b[1;33m,\u001b[0m \u001b[0msys\u001b[0m\u001b[1;33m.\u001b[0m\u001b[0mstdin\u001b[0m\u001b[1;33m.\u001b[0m\u001b[0mreadline\u001b[0m\u001b[1;33m(\u001b[0m\u001b[1;33m)\u001b[0m\u001b[1;33m.\u001b[0m\u001b[0msplit\u001b[0m\u001b[1;33m(\u001b[0m\u001b[1;33m)\u001b[0m\u001b[1;33m)\u001b[0m\u001b[1;33m\u001b[0m\u001b[1;33m\u001b[0m\u001b[0m\n\u001b[0m\u001b[0;32m     12\u001b[0m \u001b[1;33m\u001b[0m\u001b[0m\n\u001b[0;32m     13\u001b[0m \u001b[1;33m\u001b[0m\u001b[0m\n",
      "\u001b[1;31mValueError\u001b[0m: not enough values to unpack (expected 2, got 0)"
     ]
    }
   ],
   "metadata": {}
  },
  {
   "cell_type": "markdown",
   "source": [
    "## 공백기준 출력시 \\*(사용시언패킹)으로 "
   ],
   "metadata": {}
  },
  {
   "cell_type": "code",
   "execution_count": 2,
   "source": [
    "result = [1, 2, 3]\r\n",
    "\r\n",
    "# 기본적인 리스트 출력시\r\n",
    "print(result)\r\n",
    "# [1,2,3]\r\n",
    "\r\n",
    "# for loop으로 원소를 하나씩 출력\r\n",
    "for i in range(len(result)):\r\n",
    "    print(result[i], end=' ')\r\n",
    "# 1 2 3\r\n",
    "\r\n",
    "# 리스트의 원소를 언패킹 시켜서 출력\r\n",
    "print(*result)\r\n",
    "# 1 2 3 "
   ],
   "outputs": [
    {
     "output_type": "stream",
     "name": "stdout",
     "text": [
      "[1, 2, 3]\n",
      "1 2 3 1 2 3\n"
     ]
    }
   ],
   "metadata": {}
  },
  {
   "cell_type": "markdown",
   "source": [
    "## N x M 크기의 이차원 리스트 초기화 및 입력받기\r\n",
    "\r\n",
    "시뮬레이션 문제에서 주어지는 입력 중 가장 많은 형태의 입력을 list comprehension 으로 받을 수 있다.\r\n",
    "\r\n"
   ],
   "metadata": {}
  },
  {
   "cell_type": "code",
   "execution_count": 10,
   "source": [
    "# N x M 리스트 초기화 ex) 해당 좌표에 방문 체크하는 배열\r\n",
    "n, m = map(int, input().split())\r\n",
    "board = [list(map(int, input().split())) for _ in range(n)]\r\n",
    "\r\n",
    "visited = [[False]*m for _ in range(n)]\r\n",
    "\r\n",
    "print(visited)\r\n",
    "print(board)\r\n",
    "# 입력(행 열 -> 열의 갯수만큼 False==0으로 채워진 행x열의 visited 2차원 리스트)\r\n",
    "# 5 9\r\n",
    "# 0 0 0 0 0 0 0 0 0\r\n",
    "# 0 0 0 1 1 0 0 0 0\r\n",
    "# 0 0 0 1 1 0 1 1 0\r\n",
    "# 0 0 1 1 1 1 1 1 0\r\n",
    "# 0 0 1 1 1 1 1 0 0\r\n"
   ],
   "outputs": [
    {
     "output_type": "stream",
     "name": "stdout",
     "text": [
      "[[False, False, False, False, False], [False, False, False, False, False], [False, False, False, False, False]]\n",
      "[[3], [3], [3]]\n"
     ]
    }
   ],
   "metadata": {}
  },
  {
   "cell_type": "markdown",
   "source": [
    "### 재귀함수에서 콜스택 제한(재귀한도) 풀어주기\r\n",
    "\r\n",
    "```python\r\n",
    "import sys; sys.setrecursionlimit(10000)\r\n",
    "```"
   ],
   "metadata": {}
  }
 ],
 "metadata": {
  "kernelspec": {
   "name": "python3",
   "display_name": "Python 3.8.5 64-bit ('ProgramData': virtualenv)"
  },
  "language_info": {
   "codemirror_mode": {
    "name": "ipython",
    "version": 3
   },
   "file_extension": ".py",
   "mimetype": "text/x-python",
   "name": "python",
   "nbconvert_exporter": "python",
   "pygments_lexer": "ipython3",
   "version": "3.8.5"
  },
  "varInspector": {
   "cols": {
    "lenName": 16,
    "lenType": 16,
    "lenVar": 40
   },
   "kernels_config": {
    "python": {
     "delete_cmd_postfix": "",
     "delete_cmd_prefix": "del ",
     "library": "var_list.py",
     "varRefreshCmd": "print(var_dic_list())"
    },
    "r": {
     "delete_cmd_postfix": ") ",
     "delete_cmd_prefix": "rm(",
     "library": "var_list.r",
     "varRefreshCmd": "cat(var_dic_list()) "
    }
   },
   "types_to_exclude": [
    "module",
    "function",
    "builtin_function_or_method",
    "instance",
    "_Feature"
   ],
   "window_display": false
  },
  "interpreter": {
   "hash": "b3ba2566441a7c06988d0923437866b63cedc61552a5af99d1f4fb67d367b25f"
  }
 },
 "nbformat": 4,
 "nbformat_minor": 4
}