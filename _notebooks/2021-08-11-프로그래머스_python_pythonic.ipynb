{
 "cells": [
  {
   "cell_type": "markdown",
   "metadata": {},
   "source": [
    "# 파이썬을 파이썬답게 노트정리\n",
    "> 프로그래머스 실습강의를 정리한 노트입니다.\n",
    "\n",
    "- toc:true\n",
    "- branch: master\n",
    "- badges: true\n",
    "- comments: true\n",
    "- author: Jaeseong Cho\n",
    "- categories: [algorithm]\n",
    "- image: \"images/posts/algo.png\""
   ]
  },
  {
   "cell_type": "markdown",
   "metadata": {},
   "source": [
    "## 출저\n",
    " - [파이썬을 파이썬답게](https://programmers.co.kr/learn/courses/4008/lessons/13254) 실습강의를 듣고 느낀점과 함께 풀어낸 노트입니다."
   ]
  },
  {
   "cell_type": "markdown",
   "metadata": {},
   "source": [
    "## 공부 이유\n",
    " - 정수를 담은 이차원 리스트, mylist 가 solution 함수의 파라미터로 주어집니다. mylist에 들은 각 원소의 길이를 담은 리스트를 리턴하도록 solution 함수를 작성해주세요.\n",
    "     - 제한 조건\n",
    "     - mylist의 길이는 100 이하인 자연수입니다.\n",
    "     - mylist 각 원소의 길이는 100 이하인 자연수입니다.\n",
    "\n",
    " - 위 문제를 아래와 같이 짰다면, 수강해야한다. `나는 list comp`로 짬\n",
    "\n",
    "\n",
    " - 아래와 같은 풀이는 c언어 or 자바 풀이임.\n",
    "      ![image-20210823211349451](https://raw.githubusercontent.com/is3js/screenshots/main/image-20210823211349451.png)\n",
    " \n",
    " - 이것과 같이 짜야함\n",
    "      ![image-20210823211447851](https://raw.githubusercontent.com/is3js/screenshots/main/image-20210823211447851.png)\n",
    "      \n",
    "\n",
    " - 용어 설명\n",
    "     - `iterable`: 자신의 멤버를 한 번에 하나씩 리턴할 수 있는 객체입니다. list, str, tuple, dict 등이 여기에 속합니다.\n",
    "     - `sequence`: **int 타입 인덱스**를 통해, 원소에 접근할 수 있는 iterable 입니다. \n",
    "         - iterable의 하위 카테고리라고 생각하시면 됩니다. \n",
    "         - list, str, tuple이 여기 속합니다. ( dictionary는 다양한 타입을 통해 원소에 접근할 수 있기 때문에 sequence에 속하지 않습니다.)\n",
    "     - `unpacking`: 적절한 번역을 찾고 있습니다."
   ]
  },
  {
   "cell_type": "markdown",
   "metadata": {},
   "source": [
    "## 정수 (2)"
   ]
  },
  {
   "cell_type": "markdown",
   "metadata": {},
   "source": [
    "### 몫과 나머지\n",
    "```\n",
    "문제 설명\n",
    "숫자 a, b가 주어졌을 때 a를 b로 나눈 몫과 a를 b로 나눈 나머지를 공백으로 구분해 출력해보세요.\n",
    "\n",
    "입력 설명\n",
    "입력으로는 공백으로 구분된 숫자가 두 개 주어집니다.\n",
    "첫 번째 숫자는 a를 나타내며, 두 번째 숫자는 b를 나타냅니다.\n",
    "\n",
    "출력 설명\n",
    "a를 b로 나눈 몫과 a를 b로 나눈 나머지를 공백으로 구분해 출력하세요.\n",
    "\n",
    "제한 조건\n",
    "a와 b는 자연수입니다.\n",
    "```"
   ]
  },
  {
   "cell_type": "markdown",
   "metadata": {},
   "source": [
    "#### 내풀이(list comp)"
   ]
  },
  {
   "cell_type": "code",
   "execution_count": 10,
   "metadata": {
    "ExecuteTime": {
     "end_time": "2021-08-23T12:26:35.944031Z",
     "start_time": "2021-08-23T12:26:35.935027Z"
    }
   },
   "outputs": [
    {
     "data": {
      "text/plain": [
       "'1 2'"
      ]
     },
     "execution_count": 10,
     "metadata": {},
     "output_type": "execute_result"
    }
   ],
   "source": [
    "input_ = '5 3'\n",
    "\n",
    "num_ = input_.strip().split(' ')\n",
    "\n",
    "a, b = [int(x) for x in num_]\n",
    "\n",
    "str(a//b) + ' ' + str(a%b)"
   ]
  },
  {
   "cell_type": "markdown",
   "metadata": {},
   "source": [
    "#### 느낀점 (divmod + unpacking)\n",
    " - divmod는 한번에 목과 나머지를 구한다. //, %보단 느리지만, 갯수가 많을 땐 더 빨라진다고 한다.\n",
    " - 데이터 변환을 list comp전에 map(str, )  map(int, )도 활용해보자.\n",
    " - tuple을 \\unpacking(콤마할당)을 하면, iterable객체(tuple)이 알아서 나뉜다."
   ]
  },
  {
   "cell_type": "code",
   "execution_count": 12,
   "metadata": {
    "ExecuteTime": {
     "end_time": "2021-08-23T12:27:59.750372Z",
     "start_time": "2021-08-23T12:27:59.745372Z"
    }
   },
   "outputs": [],
   "source": [
    "a, b = map(int, input_.strip().split(' '))"
   ]
  },
  {
   "cell_type": "code",
   "execution_count": 13,
   "metadata": {
    "ExecuteTime": {
     "end_time": "2021-08-23T12:28:02.769179Z",
     "start_time": "2021-08-23T12:28:02.764170Z"
    }
   },
   "outputs": [
    {
     "data": {
      "text/plain": [
       "5"
      ]
     },
     "execution_count": 13,
     "metadata": {},
     "output_type": "execute_result"
    }
   ],
   "source": [
    "a"
   ]
  },
  {
   "cell_type": "code",
   "execution_count": 14,
   "metadata": {
    "ExecuteTime": {
     "end_time": "2021-08-23T12:28:04.038211Z",
     "start_time": "2021-08-23T12:28:04.034171Z"
    }
   },
   "outputs": [
    {
     "data": {
      "text/plain": [
       "3"
      ]
     },
     "execution_count": 14,
     "metadata": {},
     "output_type": "execute_result"
    }
   ],
   "source": [
    "b"
   ]
  },
  {
   "cell_type": "code",
   "execution_count": 15,
   "metadata": {
    "ExecuteTime": {
     "end_time": "2021-08-23T12:28:19.989008Z",
     "start_time": "2021-08-23T12:28:19.982058Z"
    }
   },
   "outputs": [
    {
     "data": {
      "text/plain": [
       "(1, 2)"
      ]
     },
     "execution_count": 15,
     "metadata": {},
     "output_type": "execute_result"
    }
   ],
   "source": [
    "divmod(a, b) # 순서대로 몫, 나머지를 반환함."
   ]
  },
  {
   "cell_type": "code",
   "execution_count": 20,
   "metadata": {
    "ExecuteTime": {
     "end_time": "2021-08-23T12:29:42.996565Z",
     "start_time": "2021-08-23T12:29:42.989561Z"
    }
   },
   "outputs": [
    {
     "name": "stdout",
     "output_type": "stream",
     "text": [
      "1 2\n"
     ]
    }
   ],
   "source": [
    "print(*divmod(a, b)) #unpakcking을 print하면, 각각을 공백으로 나누어서 프린트해준다."
   ]
  },
  {
   "cell_type": "markdown",
   "metadata": {},
   "source": [
    "### (쳌) n진법으로 표기된 string을 10진법 숫자로 변환하기"
   ]
  },
  {
   "cell_type": "markdown",
   "metadata": {},
   "source": [
    "```\n",
    "문제 설명\n",
    "base 진법으로 표기된 숫자를 10진법 숫자 출력해보세요.\n",
    "\n",
    "입력 설명\n",
    "입력으로는 공백으로 구분된 숫자가 두 개 주어집니다.\n",
    "첫 번째 숫자는 num을 나타내며, 두 번째 숫자는 base를 나타냅니다.\n",
    "\n",
    "출력 설명\n",
    "base 진법으로 표기된 num을 10진법 숫자로 출력해보세요.\n",
    "\n",
    "제한 조건\n",
    "base는 10 이하인 자연수입니다.\n",
    "num은 3000 이하인 자연수입니다.\n",
    "예시\n",
    "input\toutput\n",
    "12 3\t5\n",
    "444 5\t124\n",
    "입출력 예 설명\n",
    "입출력 예 1\n",
    "3진법으로 표기된 12는 10진법으로 표현하면 5입니다. ( 1*3 + 2 )\n",
    "\n",
    "입출력 예 2\n",
    "5진법으로 표기된 444는 10진법으로 표현하면 124입니다. ( 455 + 4*5 + 4 )\n",
    "```"
   ]
  },
  {
   "cell_type": "markdown",
   "metadata": {},
   "source": [
    "#### 내풀이"
   ]
  },
  {
   "cell_type": "code",
   "execution_count": null,
   "metadata": {},
   "outputs": [],
   "source": [
    "num, base = map(int, input().strip().split(' '))\n",
    "\n",
    "\n",
    "div_sum = 0\n",
    "for n in sorted(range(0, len(str(num))), reverse=True):\n",
    "    k, num = divmod(num, 10**(n))\n",
    "    div_sum += k * (base**(n))\n",
    "    \n",
    "print(div_sum)"
   ]
  },
  {
   "cell_type": "markdown",
   "metadata": {},
   "source": [
    "#### 정답"
   ]
  },
  {
   "cell_type": "markdown",
   "metadata": {},
   "source": [
    "n진법으로 표기된 string을 10진법 숫자로 변환하기 - int 함수\n",
    "\n",
    "\n",
    "진법 변환 문제는 알고리즘 문제나 숙제로 자주 나오는 유형이지요. 이번 시간에는 n 진법으로 표기된 문자열을 10진법 숫자로 변환하는 방법을 배워봅시다.\n",
    "\n",
    "예시) 5진법으로 적힌 문자열 '3212'를 10진법으로 바꾸기\n",
    "\n",
    "다른 언어에서는..(또는 이 기능을 모르시는 분은)\n",
    "보통 사람들은 for 문을 이용해 숫자를 곱해가며 문제를 풉니다.\n",
    "\n",
    "```python\n",
    "num = '3212'\n",
    "base = 5\n",
    "\n",
    "answer = 0\n",
    "for idx, number in enumerate(num[::-1]):\n",
    "    answer += int(number) * (base ** idx)\n",
    "```\n",
    "\n",
    "파이썬에서는\n",
    "파이썬의 int(x, base=10) 함수는 진법 변환을 지원합니다.\n",
    "이 기본적인 함수를 잘 쓰면 코드를 짧게 쓸 수 있고, 또 시간을 절약할 수 있습니다.\n",
    "```python\n",
    "num = '3212'\n",
    "base = 5\n",
    "answer = int(num, base)\n",
    "```"
   ]
  },
  {
   "cell_type": "markdown",
   "metadata": {},
   "source": [
    "#### 느낀점(enumerate, int( , base), 문자열도 sequence, [::-1])\n",
    " - 순서가 필요한 list나 문자열은 enumerate를 활용하자. ex> 진법변환 계산\n",
    " - 뒤에서부터 시작을 꼭 sorted( ,reverse=True)에 집착X iterable전용인 문자열, array, dataframe등을 생각할 때 [::-1]을 활용하자.\n",
    "     - 문자열도, list처럼 sequence이다. (flat~~container~~immutable~~mutable~~) -> 인덱싱으로 꺼꾸로 시작하게 할 수 있다.\n",
    " - 파이썬에서는 진법변환함수를 int( , base)로 제공한다. 필요하다면 쓰자.\n",
    "     - 진법변환시 첫자리부터 하지말고, str()+ [::-1]을 활용해 일의 자리에서부터 풀자"
   ]
  },
  {
   "cell_type": "code",
   "execution_count": 14,
   "metadata": {
    "ExecuteTime": {
     "end_time": "2021-08-28T05:52:23.405126Z",
     "start_time": "2021-08-28T05:52:23.397133Z"
    }
   },
   "outputs": [
    {
     "data": {
      "text/plain": [
       "'234'"
      ]
     },
     "execution_count": 14,
     "metadata": {},
     "output_type": "execute_result"
    }
   ],
   "source": [
    "num = '432'\n",
    "base = '5'\n",
    "\n",
    "# 일의 자리부터 풀어보자. + enumerate로 번호를 줘가면서 풀어보자.\n",
    "num[::-1]"
   ]
  },
  {
   "cell_type": "code",
   "execution_count": 20,
   "metadata": {
    "ExecuteTime": {
     "end_time": "2021-08-28T05:53:31.031642Z",
     "start_time": "2021-08-28T05:53:31.023603Z"
    }
   },
   "outputs": [
    {
     "data": {
      "text/plain": [
       "117"
      ]
     },
     "execution_count": 20,
     "metadata": {},
     "output_type": "execute_result"
    }
   ],
   "source": [
    "answer = 0\n",
    "for idx, number in enumerate(num[::-1]):\n",
    "    answer += int(number) * ( int(base) ** (idx) )\n",
    "    \n",
    "answer"
   ]
  },
  {
   "cell_type": "code",
   "execution_count": 13,
   "metadata": {
    "ExecuteTime": {
     "end_time": "2021-08-28T05:52:18.268594Z",
     "start_time": "2021-08-28T05:52:18.261645Z"
    }
   },
   "outputs": [
    {
     "data": {
      "text/plain": [
       "117"
      ]
     },
     "execution_count": 13,
     "metadata": {},
     "output_type": "execute_result"
    }
   ],
   "source": [
    "# int( , base)를 쓰면 한번에 진법변환이 가능하다.\n",
    "# base진법으로 표기된 string num을 -> 10진법 숫자(int())변환\n",
    "\n",
    "answer = int(num, base=int(base))\n",
    "answer"
   ]
  },
  {
   "cell_type": "markdown",
   "metadata": {},
   "source": [
    "## 문자열 (2)"
   ]
  },
  {
   "cell_type": "markdown",
   "metadata": {},
   "source": [
    "### 문자열 정렬하기"
   ]
  },
  {
   "cell_type": "markdown",
   "metadata": {},
   "source": [
    "```\n",
    "문제 설명\n",
    "문자열 s와 자연수 n이 입력으로 주어집니다. 문자열 s를 좌측 / 가운데 / 우측 정렬한 길이 n인 문자열을 한 줄씩 프린트해보세요.\n",
    "\n",
    "제한조건\n",
    "s의 길이는 n보다 작습니다.\n",
    "(n - s의 길이)는 짝수입니다.\n",
    "s는 알파벳과 숫자로만 이루어져 있으며, 공백 문자가 포함되어있지 않습니다.\n",
    "```"
   ]
  },
  {
   "cell_type": "markdown",
   "metadata": {},
   "source": [
    "#### 내풀이"
   ]
  },
  {
   "cell_type": "code",
   "execution_count": 21,
   "metadata": {
    "ExecuteTime": {
     "end_time": "2021-08-30T05:09:47.343149Z",
     "start_time": "2021-08-30T05:09:41.657932Z"
    }
   },
   "outputs": [
    {
     "name": "stdout",
     "output_type": "stream",
     "text": [
      "abc 7\n",
      "abc    \n",
      "  abc  \n",
      "    abc\n"
     ]
    }
   ],
   "source": [
    "# 포맷팅 없이 풀이\n",
    "s, n = input().strip().split(' ')\n",
    "n = int(n)\n",
    "\n",
    "space_num = n-len(s) \n",
    "\n",
    "print(s+' '*space_num)\n",
    "print(' '*(space_num//2)+s+' '*(space_num//2))\n",
    "print(' '*space_num+s)"
   ]
  },
  {
   "cell_type": "markdown",
   "metadata": {},
   "source": [
    "#### 정답"
   ]
  },
  {
   "cell_type": "code",
   "execution_count": 22,
   "metadata": {
    "ExecuteTime": {
     "end_time": "2021-08-30T05:14:03.635854Z",
     "start_time": "2021-08-30T05:14:03.624850Z"
    }
   },
   "outputs": [
    {
     "data": {
      "text/plain": [
       "'   가나다라'"
      ]
     },
     "execution_count": 22,
     "metadata": {},
     "output_type": "execute_result"
    }
   ],
   "source": [
    "# 우측정렬만 + 다른언어처럼 풀이\n",
    "# -> answer ='' 빈 문자열에 공백의 갯수만큼 돌면서(반복작업용for) 누적합으로 공백을 채운다.\n",
    "s = '가나다라'\n",
    "n = 7\n",
    "\n",
    "answer = ''\n",
    "for i in range(n-(len(s))):\n",
    "    answer+=' '\n",
    "answer+=s\n",
    "\n",
    "answer"
   ]
  },
  {
   "cell_type": "code",
   "execution_count": 29,
   "metadata": {
    "ExecuteTime": {
     "end_time": "2021-08-30T05:15:41.644883Z",
     "start_time": "2021-08-30T05:15:41.636913Z"
    }
   },
   "outputs": [
    {
     "data": {
      "text/plain": [
       "'가나다라   '"
      ]
     },
     "execution_count": 29,
     "metadata": {},
     "output_type": "execute_result"
    }
   ],
   "source": [
    "s = '가나다라'\n",
    "n = 7\n",
    "\n",
    "s.ljust(7)"
   ]
  },
  {
   "cell_type": "code",
   "execution_count": 30,
   "metadata": {
    "ExecuteTime": {
     "end_time": "2021-08-30T05:15:49.790848Z",
     "start_time": "2021-08-30T05:15:49.783849Z"
    }
   },
   "outputs": [
    {
     "data": {
      "text/plain": [
       "'  가나다라 '"
      ]
     },
     "execution_count": 30,
     "metadata": {},
     "output_type": "execute_result"
    }
   ],
   "source": [
    "s.center(7)"
   ]
  },
  {
   "cell_type": "code",
   "execution_count": 31,
   "metadata": {
    "ExecuteTime": {
     "end_time": "2021-08-30T05:15:57.178531Z",
     "start_time": "2021-08-30T05:15:57.171535Z"
    }
   },
   "outputs": [
    {
     "data": {
      "text/plain": [
       "'   가나다라'"
      ]
     },
     "execution_count": 31,
     "metadata": {},
     "output_type": "execute_result"
    }
   ],
   "source": [
    "s.rjust(7)"
   ]
  },
  {
   "cell_type": "markdown",
   "metadata": {},
   "source": [
    "#### 느낀점(ljust, center, rjust)\n",
    " - 문자열로 sequence로 `빈리스트`+for+`append`대신 `빈문자열`+for+`+=누적합작업`을 생각하자 \n",
    "     - for문을 반복작업에 활용하자.\n",
    " - python은 문자열의 공백정렬을 위해 문자열+공백으로 n자리를 채워준다.\n",
    " - string.ljust(공백포함 왼쪽정렬될 n자리), string.center(n), string.rjust()"
   ]
  },
  {
   "cell_type": "markdown",
   "metadata": {},
   "source": [
    "### 알파벳 출력하기\n",
    "```\n",
    "입력으로 0이 주어지면 영문 소문자 알파벳을, 입력으로 1이 주어지면 영문 대문자 알파벳을 사전 순으로 출력하는 코드를 짜세요.\n",
    "\n",
    "예시 1\n",
    "입력\n",
    "\n",
    "0\n",
    "출력\n",
    "\n",
    "abcd...(중간생략)..xyz\n",
    "```"
   ]
  },
  {
   "cell_type": "markdown",
   "metadata": {},
   "source": [
    "#### 내풀이"
   ]
  },
  {
   "cell_type": "code",
   "execution_count": 37,
   "metadata": {
    "ExecuteTime": {
     "end_time": "2021-08-30T05:39:36.242868Z",
     "start_time": "2021-08-30T05:39:36.236891Z"
    }
   },
   "outputs": [
    {
     "data": {
      "text/plain": [
       "97"
      ]
     },
     "execution_count": 37,
     "metadata": {},
     "output_type": "execute_result"
    }
   ],
   "source": [
    "ord('a')"
   ]
  },
  {
   "cell_type": "code",
   "execution_count": 38,
   "metadata": {
    "ExecuteTime": {
     "end_time": "2021-08-30T05:39:58.656811Z",
     "start_time": "2021-08-30T05:39:58.650809Z"
    }
   },
   "outputs": [
    {
     "data": {
      "text/plain": [
       "'a'"
      ]
     },
     "execution_count": 38,
     "metadata": {},
     "output_type": "execute_result"
    }
   ],
   "source": [
    "chr(97)"
   ]
  },
  {
   "cell_type": "code",
   "execution_count": 49,
   "metadata": {
    "ExecuteTime": {
     "end_time": "2021-08-30T05:45:02.860235Z",
     "start_time": "2021-08-30T05:45:02.853223Z"
    }
   },
   "outputs": [
    {
     "data": {
      "text/plain": [
       "str"
      ]
     },
     "execution_count": 49,
     "metadata": {},
     "output_type": "execute_result"
    }
   ],
   "source": [
    "chr(122)"
   ]
  },
  {
   "cell_type": "code",
   "execution_count": null,
   "metadata": {},
   "outputs": [],
   "source": []
  },
  {
   "cell_type": "code",
   "execution_count": 47,
   "metadata": {
    "ExecuteTime": {
     "end_time": "2021-08-30T05:42:24.426854Z",
     "start_time": "2021-08-30T05:42:24.419854Z"
    }
   },
   "outputs": [
    {
     "data": {
      "text/plain": [
       "('A', 'Z')"
      ]
     },
     "execution_count": 47,
     "metadata": {},
     "output_type": "execute_result"
    }
   ],
   "source": [
    "chr(65), chr(90)"
   ]
  },
  {
   "cell_type": "code",
   "execution_count": 48,
   "metadata": {
    "ExecuteTime": {
     "end_time": "2021-08-30T05:44:08.639713Z",
     "start_time": "2021-08-30T05:44:08.634712Z"
    }
   },
   "outputs": [
    {
     "name": "stdout",
     "output_type": "stream",
     "text": [
      "ABCDEFGHIJKLMNOPQRSTUVWXYZ\n"
     ]
    }
   ],
   "source": [
    "answer = ''\n",
    "for i in range(65, 90+1):\n",
    "    answer+=chr(i)\n",
    "print(answer)"
   ]
  },
  {
   "cell_type": "code",
   "execution_count": 50,
   "metadata": {
    "ExecuteTime": {
     "end_time": "2021-08-30T05:48:10.507901Z",
     "start_time": "2021-08-30T05:48:09.079597Z"
    }
   },
   "outputs": [
    {
     "name": "stdout",
     "output_type": "stream",
     "text": [
      "1\n",
      "ABCDEFGHIJKLMNOPQRSTUVWXYZ\n"
     ]
    }
   ],
   "source": [
    "num = int(input().strip())\n",
    "\n",
    "answer = \"\"\n",
    "if num:\n",
    "    # num이 0이면, 소문자로\n",
    "    # ord('a') = 97 -> z ->122\n",
    "    for i in range(65, 90+1):\n",
    "        answer+=chr(i)\n",
    "else:\n",
    "    for i in range(97, 122+1):\n",
    "        answer+=chr(i)\n",
    "        \n",
    "print(answer)"
   ]
  },
  {
   "cell_type": "markdown",
   "metadata": {},
   "source": [
    "#### 정답"
   ]
  },
  {
   "cell_type": "code",
   "execution_count": 51,
   "metadata": {
    "ExecuteTime": {
     "end_time": "2021-08-30T05:48:28.227186Z",
     "start_time": "2021-08-30T05:48:28.217185Z"
    }
   },
   "outputs": [
    {
     "data": {
      "text/plain": [
       "'0123456789'"
      ]
     },
     "execution_count": 51,
     "metadata": {},
     "output_type": "execute_result"
    }
   ],
   "source": [
    "import string \n",
    "\n",
    "string.ascii_lowercase # 소문자 abcdefghijklmnopqrstuvwxyz\n",
    "string.ascii_uppercase # 대문자 ABCDEFGHIJKLMNOPQRSTUVWXYZ\n",
    "string.ascii_letters # 대소문자 모두 abcdefghijklmnopqrstuvwxyzABCDEFGHIJKLMNOPQRSTUVWXYZ\n",
    "string.digits # 숫자 0123456789"
   ]
  },
  {
   "cell_type": "code",
   "execution_count": 54,
   "metadata": {
    "ExecuteTime": {
     "end_time": "2021-08-30T05:50:02.159838Z",
     "start_time": "2021-08-30T05:50:01.193059Z"
    }
   },
   "outputs": [
    {
     "name": "stdout",
     "output_type": "stream",
     "text": [
      "1\n",
      "ABCDEFGHIJKLMNOPQRSTUVWXYZ\n"
     ]
    }
   ],
   "source": [
    "num = int(input().strip())\n",
    "\n",
    "# answer = \"\"\n",
    "if num:\n",
    "    # num이 0이면, 소문자로\n",
    "    # ord('a') = 97 -> z ->122\n",
    "    #for i in range(65, 90+1):\n",
    "    #    answer+=chr(i)\n",
    "    print(string.ascii_uppercase)\n",
    "else:\n",
    "    #for i in range(97, 122+1):\n",
    "    #    answer+=chr(i)\n",
    "    print(string.ascii_lowercase)\n",
    "        \n",
    "# print(answer)"
   ]
  },
  {
   "cell_type": "markdown",
   "metadata": {},
   "source": [
    "#### 느낀점(str.lower(), upper() -> string상수, string모듈.ascii_ , string모듈.digits, )\n",
    " - string모듈이란 것이 따로 있고, 소문자모음, 대문자모음, 소->대문자모음, 숫자모음을 상수로 제공한다.\n",
    "    - string.ascii_lowercase # 소문자 abcdefghijklmnopqrstuvwxyz\n",
    "    - string.ascii_uppercase # 대문자 ABCDEFGHIJKLMNOPQRSTUVWXYZ\n",
    "    - string.ascii_letters # 대소문자 모두 abcdefghijklmnopqrstuvwxyzABCDEFGHIJKLMNOPQRSTUVWXYZ\n",
    "    - string.digits # 숫자 0123456789\n",
    " - 다른 사람 풀이를 보고선\n",
    "     - chr(), ord()를 안써도되고\n",
    "     - 소문자만 or 대문자만 작성해서 str.lower() / str.upper() 메소드도 활용하자."
   ]
  },
  {
   "cell_type": "markdown",
   "metadata": {},
   "source": [
    "## iterable 다루기 (4)\n",
    " - Iterable이란? **자신의 멤버를 한번에 리턴할 수 있는 객체**입니다. ex) list, str, tuple, dictionary 등\n",
    "\n",
    "\n"
   ]
  },
  {
   "cell_type": "markdown",
   "metadata": {},
   "source": [
    "### 원본을 유지한채, 정렬된 리스트 구하기 - sorted"
   ]
  },
  {
   "cell_type": "markdown",
   "metadata": {},
   "source": [
    "파이썬의 sort() 함수를 사용하면 리스트의 원소를 정렬할 수 있습니다. 이때, sort 함수는 원본의 멤버 순서를 변경하지요.\n",
    "따라서 원본의 순서는 변경하지 않고, 정렬된 값을 구하려면 sort 함수를 사용할 수 없습니다.\n",
    "\n",
    "이런 경우는 어떻게 해야 할까요?\n",
    "\n",
    "다른 언어에서는..(또는 이 기능을 모르시는 분은)\n",
    "보통 사람들은 deep copy와 sort 함수를 이용합니다.\n",
    "\n",
    "```python\n",
    "list1 = [3, 2, 1]\n",
    "list2 = [i for i in list1] # 또는 copy.deepcopy를 사용\n",
    "list2.sort()\n",
    "```\n",
    "\n",
    "파이썬에서는\n",
    "파이썬의 sorted를 사용해보세요. 반복문이나, deepcopy 함수를 사용하지 않아도 새로운 정렬된 리스트를 구할 수 있습니다.\n",
    "\n",
    "```python\n",
    "list1 = [3, 2, 1]\n",
    "list2 = sorted(list1)\n",
    "```"
   ]
  },
  {
   "cell_type": "markdown",
   "metadata": {
    "ExecuteTime": {
     "end_time": "2021-08-31T08:11:18.096767Z",
     "start_time": "2021-08-31T08:11:18.087777Z"
    }
   },
   "source": [
    "#### 느낀점 - (copy.deepcopy() -> sort() 와 sorted() )\n",
    " - sort()함수는 객체 직접 변환을 하니, <같은값 할당은 shallow copy지만> copy.deepcopy()이후 sort()를 한다고 한다.\n",
    " - sorted()는 새로운 정렬 list를 바로 반환한다.\n",
    "     - 그 인자로는 reverse=True, key=len, key=str.lower, key=lambda 등 정렬기준을 만드는 함수를 인자로 넣을 수 도 있다."
   ]
  },
  {
   "cell_type": "markdown",
   "metadata": {},
   "source": [
    "### (쳌) 2차원 리스트 뒤집기 ( transpose문제, 어려움 )\n",
    "\n",
    "```\n",
    "다음을 만족하는 함수, solution을 완성해주세요.\n",
    "\n",
    "solution 함수는 이차원 리스트, mylist를 인자로 받습니다\n",
    "solution 함수는 mylist 원소의 행과 열을 뒤집은 한 값을 리턴해야합니다.\n",
    "예를 들어 mylist [[1, 2, 3], [4, 5, 6], [7, 8, 9]]가 주어진 경우, solution 함수는 [[1, 4, 7], [2, 5, 8], [3, 6, 9]] 을 리턴하면 됩니다.\n",
    "\n",
    "제한 조건\n",
    "mylist의 원소의 길이는 모두 같습니다.\n",
    "mylist의 길이는 mylist[0]의 길이와 같습니다.\n",
    "각 리스트의 길이는 100 이하인 자연수입니다.\n",
    "\n",
    "```"
   ]
  },
  {
   "cell_type": "markdown",
   "metadata": {
    "ExecuteTime": {
     "end_time": "2021-08-31T09:40:28.373317Z",
     "start_time": "2021-08-31T09:40:28.370321Z"
    }
   },
   "source": [
    "#### 풀이2가지(정처기식i>j, 빈_list [i]행과 for j 기존list[j][i]열을 한 세트로 )"
   ]
  },
  {
   "cell_type": "code",
   "execution_count": 71,
   "metadata": {
    "ExecuteTime": {
     "end_time": "2021-08-31T08:41:11.791713Z",
     "start_time": "2021-08-31T08:41:11.780858Z"
    }
   },
   "outputs": [
    {
     "data": {
      "text/plain": [
       "[[7, 8, 9], [4, 5, 6], [1, 2, 3]]"
      ]
     },
     "execution_count": 71,
     "metadata": {},
     "output_type": "execute_result"
    }
   ],
   "source": [
    "# 처음 풀이\n",
    "mylist = [[1, 2, 3], \n",
    "          [4, 5, 6], \n",
    "          [7, 8, 9]]\n",
    "mylist[::-1]\n",
    "\n",
    "# 1x1 -> 1\n",
    "# 2x2 -> 3\n",
    "# 3x3 -> 5\n",
    "# nxn -> 2n-1 line \n",
    "# 각 k in 2n-1 마다..\n",
    "\n",
    "# k=1, -> 길이 1 0.0\n",
    "# k=2, -> 길이 2 1.0 0.1\n",
    "# k=3, -> 길이 3 2.0 1.1 0.2 \n",
    "# k=4, -> 길이 2 \n",
    "# k=5, -> 길이 5\n",
    "\n",
    "# gg"
   ]
  },
  {
   "cell_type": "code",
   "execution_count": null,
   "metadata": {},
   "outputs": [],
   "source": [
    "# 2번째 풀이 -> 2차원 리스트에서 행i를 돌았다면, list[i]의 길이만큼 각 열j에 접근해야한다.!!\n",
    "# 타 문제에서는 각 행마다 길이가 같다는 보장이 없기 때문???\n",
    "이번 강의에서는 zip 함수를 이용해 2차원 배열을 뒤집는 방법을 알아봅시다.\n",
    "\n",
    "다른 언어에서는..(또는 이 기능을 모르시는 분은)\n",
    "보통은 다음과 같이 2중 for 문을 이용해 리스트의 row와 column을 뒤집습니다.\n",
    "\n"
   ]
  },
  {
   "cell_type": "code",
   "execution_count": 98,
   "metadata": {
    "ExecuteTime": {
     "end_time": "2021-08-31T09:05:44.949144Z",
     "start_time": "2021-08-31T09:05:44.943132Z"
    }
   },
   "outputs": [
    {
     "data": {
      "text/plain": [
       "[[], [], [], []]"
      ]
     },
     "execution_count": 98,
     "metadata": {},
     "output_type": "execute_result"
    }
   ],
   "source": [
    "[[]]*4"
   ]
  },
  {
   "cell_type": "code",
   "execution_count": 96,
   "metadata": {
    "ExecuteTime": {
     "end_time": "2021-08-31T09:05:33.780732Z",
     "start_time": "2021-08-31T09:05:33.773734Z"
    }
   },
   "outputs": [
    {
     "data": {
      "text/plain": [
       "[[], [], []]"
      ]
     },
     "execution_count": 96,
     "metadata": {},
     "output_type": "execute_result"
    }
   ],
   "source": [
    "[[]]*len(mylist)"
   ]
  },
  {
   "cell_type": "markdown",
   "metadata": {},
   "source": [
    "#### 느낀점( 정처기식, new_list의 행i ==  mylist의 열i로 고정시켜, j를 돌린 상태)\n",
    " 1. 2중 for문으로 행렬을 뒤집으려면, 빈 list -> 빈 list의 `[i]행 고정상태`에 append (  mylist [`행을 j로 돌리면서`] [`열은 i열로 고정`]시켜서 뽑아낸 것들 )\n",
    "     - 새 list의 i행과 기존 list의 i열을 동일시 하면서 기존 list의 i열 값들을 뽑아내기 위해 j를 돌리면서 append한다.\n",
    "\n",
    " 2. 정처기식으로, i, j가 돌아가는데, 행렬 중에 i>j 부분만 찾아서 한쪽만 swap"
   ]
  },
  {
   "cell_type": "code",
   "execution_count": 160,
   "metadata": {
    "ExecuteTime": {
     "end_time": "2021-08-31T09:35:35.278005Z",
     "start_time": "2021-08-31T09:35:35.268010Z"
    }
   },
   "outputs": [
    {
     "data": {
      "text/plain": [
       "[[1, 4, 7], [2, 5, 8], [3, 6, 9]]"
      ]
     },
     "execution_count": 160,
     "metadata": {},
     "output_type": "execute_result"
    }
   ],
   "source": [
    "# 1. 모양같은 빈 list의 i행에,   기존리스트 i열(j행 돌아감) 전체를 append\n",
    "mylist = [[1, 2, 3], [4, 5, 6], [7, 8, 9]]\n",
    "new_list = [[], [], []]\n",
    "\n",
    "for i in range(len(mylist)):\n",
    "    for j in range(len(mylist[i])):\n",
    "        new_list[i].append(mylist[j][i]) \n",
    "    \n",
    "new_list"
   ]
  },
  {
   "cell_type": "code",
   "execution_count": 167,
   "metadata": {
    "ExecuteTime": {
     "end_time": "2021-08-31T09:37:43.608054Z",
     "start_time": "2021-08-31T09:37:43.600050Z"
    }
   },
   "outputs": [
    {
     "data": {
      "text/plain": [
       "[[1, 4, 7], [2, 5, 8], [3, 6, 9]]"
      ]
     },
     "execution_count": 167,
     "metadata": {},
     "output_type": "execute_result"
    }
   ],
   "source": [
    "# 2. 정처기식..  한쪽만 swap\n",
    "mylist = [[1, 2, 3], [4, 5, 6], [7, 8, 9]]\n",
    "# new_list = [[], [], []]\n",
    "# new_list = [[]]*3 # 주의! 안에 요소가 콤마로 붙는다고 해서 list바깥에서 *3 하지말 것. id똑같은놈들임.\n",
    "# new_list = [[] for x in range(len(mylist))]\n",
    "\n",
    "for i in range(len(mylist)):\n",
    "    for j in range(len(mylist)):\n",
    "        if i > j:\n",
    "            mylist[j][i], mylist[i][j] = mylist[i][j], mylist[j][i]\n",
    "\n",
    "    \n",
    "    \n",
    "mylist"
   ]
  },
  {
   "cell_type": "markdown",
   "metadata": {},
   "source": [
    "### (쳌) 2차원 리스트 뒤집기 - ⭐️zip⭐️"
   ]
  },
  {
   "cell_type": "markdown",
   "metadata": {},
   "source": [
    "#### 풀이"
   ]
  },
  {
   "cell_type": "code",
   "execution_count": 168,
   "metadata": {
    "ExecuteTime": {
     "end_time": "2021-08-31T09:38:21.817654Z",
     "start_time": "2021-08-31T09:38:21.812647Z"
    }
   },
   "outputs": [],
   "source": [
    "mylist = [[1, 2, 3], [4, 5, 6], [7, 8, 9]]\n",
    "new_list = list(map(list, zip(*mylist)))"
   ]
  },
  {
   "cell_type": "markdown",
   "metadata": {},
   "source": [
    "#### 느낀점( zip(\\*매핑 2차원 리스트) -> 각 행들마다 1개씩 뽑아 tuple로 )\n",
    " - 행렬(2차원리스트)를 \\*매핑해서 zip()에 던져주면, 각 행들을 zip(a,b,c,...,n_rows)로 판단해서 나눠쓴다.\n",
    "     - 즉, for문으로 받을 때는 각 행마다 0열요소들 / 1열 요소들 / ... 들이 튜플로 모여서 들어온다.\n",
    " - 번역 : zip(*iterables)는 각 iterables 의 요소들을 모으는 이터레이터를 만듭니다.\n",
    "     - `튜플의 이터레이터`를 돌려주는데, i 번째 튜플은 각 인자로 전달된 시퀀스나 이터러블의 i 번째 요소를 포함합니다.\n",
    " - 즉, **각 iter들(*매핑리스트시 - 각행들)의 요소를 하나씩 빼와서 `튜플`형태로 반환한다. `i번째 튜플`은 `각 데이터(행)의 i번째열들`의 모아아두었다.**\n",
    " - 길이가 다르면, 짧은 데이터를 기준으로 끝난다.\n",
    " - 원래 집은 **zip으로 튜플`들`을 반환한다. 꼭 튜플 리스트가 아니더라도 2개의 짝을 이룬 튜플요소들이 반환되면 dict로 반환 가능하다.\n",
    "     - **for문에서는 zip이 반환하는 tuple을 언패킹하는 것일 뿐**"
   ]
  },
  {
   "cell_type": "code",
   "execution_count": 171,
   "metadata": {
    "ExecuteTime": {
     "end_time": "2021-09-01T02:35:13.565226Z",
     "start_time": "2021-09-01T02:35:13.556228Z"
    }
   },
   "outputs": [
    {
     "name": "stdout",
     "output_type": "stream",
     "text": [
      "[[1, 2, 3], [4, 5, 6], [7, 8, 9]]\n"
     ]
    },
    {
     "data": {
      "text/plain": [
       "<zip at 0x1ed8c381800>"
      ]
     },
     "execution_count": 171,
     "metadata": {},
     "output_type": "execute_result"
    }
   ],
   "source": [
    "print(mylist)\n",
    "#[[*1*, 2, 3],\n",
    "# [*4*, 5, 6], \n",
    "# [*7*, 8, 9]]\n",
    "\n",
    "\n",
    "\n",
    "zip(*mylist)"
   ]
  },
  {
   "cell_type": "code",
   "execution_count": 172,
   "metadata": {
    "ExecuteTime": {
     "end_time": "2021-09-01T02:35:21.509958Z",
     "start_time": "2021-09-01T02:35:21.501952Z"
    }
   },
   "outputs": [
    {
     "data": {
      "text/plain": [
       "[(1, 4, 7), (2, 5, 8), (3, 6, 9)]"
      ]
     },
     "execution_count": 172,
     "metadata": {},
     "output_type": "execute_result"
    }
   ],
   "source": [
    "list(zip(*mylist)) # 각 행마다 같은 열들을 튜플로 묶어서, 마치 대각선으로 transpose된다."
   ]
  },
  {
   "cell_type": "code",
   "execution_count": 174,
   "metadata": {
    "ExecuteTime": {
     "end_time": "2021-09-01T02:36:33.480845Z",
     "start_time": "2021-09-01T02:36:33.474842Z"
    }
   },
   "outputs": [
    {
     "data": {
      "text/plain": [
       "[[1, 4, 7], [2, 5, 8], [3, 6, 9]]"
      ]
     },
     "execution_count": 174,
     "metadata": {},
     "output_type": "execute_result"
    }
   ],
   "source": [
    "list(map(list, zip(*mylist))) # zip으로 만들어진 transpose 튜플 리스트를 map으로 각 요소 list로 변환한다."
   ]
  },
  {
   "cell_type": "code",
   "execution_count": 158,
   "metadata": {
    "ExecuteTime": {
     "end_time": "2021-08-31T09:30:04.316518Z",
     "start_time": "2021-08-31T09:30:04.304485Z"
    }
   },
   "outputs": [
    {
     "name": "stdout",
     "output_type": "stream",
     "text": [
      "mylist [[1, 2, 3], [4, 5, 6], [7, 8, 9]]\n",
      "*mylist [1, 2, 3] [4, 5, 6] [7, 8, 9]\n"
     ]
    },
    {
     "data": {
      "text/plain": [
       "[(1, 4, 7), (2, 5, 8), (3, 6, 9)]"
      ]
     },
     "execution_count": 158,
     "metadata": {},
     "output_type": "execute_result"
    }
   ],
   "source": [
    "print('mylist', mylist)\n",
    "print('*mylist', *mylist) # 함수에 튜플이나 리스트를 매핑해주면, 알아서 나눠서 쓴다는 의미다.\n",
    "# 인자로 대입한다면, 콤마로 나눠서 넣어줘야한다. (튜플, 리스트로 인자대입X)\n",
    "\n",
    "list(zip(*mylist))"
   ]
  },
  {
   "cell_type": "code",
   "execution_count": 180,
   "metadata": {
    "ExecuteTime": {
     "end_time": "2021-09-01T02:41:32.722516Z",
     "start_time": "2021-09-01T02:41:32.712520Z"
    }
   },
   "outputs": [
    {
     "name": "stdout",
     "output_type": "stream",
     "text": [
      "493\n",
      "124\n",
      "66\n"
     ]
    }
   ],
   "source": [
    "# 길이가 다르면, 짧은 데이터를 기준으로 끝난다.??\n",
    "list1 = [1,     2, 3,   4, 5]\n",
    "list2 = [100, 120, 30, 300]\n",
    "list3 = [392,   2, 33]\n",
    "answer = []\n",
    "for number1, number2, number3 in zip(list1, list2, list3):\n",
    "    print(number1 + number2 + number3)"
   ]
  },
  {
   "cell_type": "code",
   "execution_count": 185,
   "metadata": {
    "ExecuteTime": {
     "end_time": "2021-09-01T02:44:34.400521Z",
     "start_time": "2021-09-01T02:44:34.392544Z"
    }
   },
   "outputs": [
    {
     "name": "stdout",
     "output_type": "stream",
     "text": [
      "[('cat', 'meow'), ('dog', 'woof'), ('lion', 'roar')]\n"
     ]
    },
    {
     "data": {
      "text/plain": [
       "{'cat': 'meow', 'dog': 'woof', 'lion': 'roar'}"
      ]
     },
     "execution_count": 185,
     "metadata": {},
     "output_type": "execute_result"
    }
   ],
   "source": [
    "# 원래 집은 zip으로 튜플 리스트를 만든다고 했다.\n",
    "# 짝을 이룬 튜플리스트는 dict로 변환가능하다!\n",
    "animals = ['cat', 'dog', 'lion']\n",
    "sounds = ['meow', 'woof', 'roar']\n",
    "\n",
    "# print(list(zip(animals, sounds)))\n",
    "dict(zip(animals, sounds))"
   ]
  },
  {
   "cell_type": "markdown",
   "metadata": {},
   "source": [
    "### (쳌) i번째 원소와 i+1번째 원소 - zip"
   ]
  },
  {
   "cell_type": "markdown",
   "metadata": {},
   "source": [
    "```\n",
    "숫자를 담은 리스트 mylist가 solution 함수의 파라미터로 주어집니다. solution 함수가 mylist의 i번째 원소와 i+1번째 원소의 차를 담은 일차원 리스트에 차례로 담아 리턴하도록 코드를 작성해주세요.\n",
    "\n",
    "단, 마지막에 있는 원소는 (마지막+1)번째의 원소와의 차를 구할 수 없으니, 이 값은 구하지 않습니다.\n",
    "\n",
    "제한 조건\n",
    "mylist의 길이는 1 이상 100 이하인 자연수입니다.\n",
    "mylist의 원소는 1 이상 100 이하인 자연수입니다.\n",
    "예시\n",
    "mylist\toutput\n",
    "[83, 48, 13, 4, 71, 11]\t[35, 35, 9, 67, 60]\n",
    "설명:\n",
    "\n",
    "83과 48의 차는 35입니다.\n",
    "48과 13의 차는 35입니다.\n",
    "13과 4의 차는 9입니다.\n",
    "4와 71의 차는 67입니다.\n",
    "71과 11의 차는 60입니다.\n",
    "따라서 [35, 35, 9, 67, 60]를 리턴합니다.\n",
    "```"
   ]
  },
  {
   "cell_type": "markdown",
   "metadata": {},
   "source": [
    "#### 풀이"
   ]
  },
  {
   "cell_type": "code",
   "execution_count": 187,
   "metadata": {
    "ExecuteTime": {
     "end_time": "2021-09-01T03:02:10.491585Z",
     "start_time": "2021-09-01T03:02:10.486584Z"
    }
   },
   "outputs": [],
   "source": [
    "def solution(mylist):\n",
    "\n",
    "    return [abs(mylist[i] - mylist[i+1]) for i in range(len(mylist)-1)]"
   ]
  },
  {
   "cell_type": "markdown",
   "metadata": {},
   "source": [
    "#### 정답  및 느낀점 (zip( list, list[1:]) -> 인덱싱 i와 i+1의 value를 동시접근 )\n",
    "1. 원래는 for i in `n-1까지만 돌기` -> [i], [i+1] \n",
    "2. zip( list, 1개 모자란 list[1:] ) -> 2개 요소 `value 바로 접근`\n",
    "    - `zip은 짧은 것 까지니까 자동으로` (0,1) ---> (n-1,n) ~~(n, )~~"
   ]
  },
  {
   "cell_type": "code",
   "execution_count": 186,
   "metadata": {
    "ExecuteTime": {
     "end_time": "2021-09-01T03:02:09.497993Z",
     "start_time": "2021-09-01T03:02:09.490997Z"
    }
   },
   "outputs": [],
   "source": [
    "def solution(mylist):\n",
    "    answer = []\n",
    "    for number1, number2 in zip(mylist, mylist[1:]):\n",
    "        answer.append(abs(number1 - number2))\n",
    "    return answer"
   ]
  },
  {
   "cell_type": "markdown",
   "metadata": {},
   "source": [
    "### 모든 멤버의 type 변환하기\n",
    "```\n",
    "문제 설명\n",
    "문자열 리스트 mylist를 입력받아, 이 리스트를 정수형 리스트로 바꾼 값을 리턴하는 함수, solution을 만들어주세요. 예를 들어 mylist가 ['1', '100', '33'] 인 경우, solution 함수는 [1, 100, 33] 을 리턴하면 됩니다.\n",
    "\n",
    "제한조건\n",
    "mylist의 길이는 100 이하인 자연수입니다.\n",
    "mylist의 원소는 10진수 숫자로 표현할 수 있는 문자열입니다. 즉, 'as2' 와 같은 문자열은 들어있지 않습니다.\n",
    "예시\n",
    "input\toutput\n",
    "['1', '100', '33']\t[1, 100, 33]\n",
    "```"
   ]
  },
  {
   "cell_type": "code",
   "execution_count": 188,
   "metadata": {
    "ExecuteTime": {
     "end_time": "2021-09-01T05:27:13.845192Z",
     "start_time": "2021-09-01T05:27:13.840186Z"
    }
   },
   "outputs": [],
   "source": [
    "def solution(mylist):\n",
    "    return [ int(x) for x in mylist ]"
   ]
  },
  {
   "cell_type": "markdown",
   "metadata": {},
   "source": [
    "#### 느낀점(map -> 함수를 인자로 or lambda )\n",
    " - list comp도 되지만, list(map(각 요소에 적용함수, 데이터)) 로 데이터 변형 가능\n",
    "     - map( 내장함수 or 실행부없는 함수 or lambda,  데이터)"
   ]
  },
  {
   "cell_type": "code",
   "execution_count": 193,
   "metadata": {
    "ExecuteTime": {
     "end_time": "2021-09-01T05:31:44.343881Z",
     "start_time": "2021-09-01T05:31:44.336844Z"
    }
   },
   "outputs": [
    {
     "data": {
      "text/plain": [
       "[1, 3, 2]"
      ]
     },
     "execution_count": 193,
     "metadata": {},
     "output_type": "execute_result"
    }
   ],
   "source": [
    "list1 = ['1', '100', '33']\n",
    "list2 = list(map(len, list1))\n",
    "list2"
   ]
  },
  {
   "cell_type": "markdown",
   "metadata": {},
   "source": [
    "### map 함수 응용하기"
   ]
  },
  {
   "cell_type": "markdown",
   "metadata": {
    "ExecuteTime": {
     "end_time": "2021-09-02T02:19:55.450697Z",
     "start_time": "2021-09-02T02:19:55.442700Z"
    }
   },
   "source": [
    "\n",
    "```\n",
    "문제 설명\n",
    "정수를 담은 이차원 리스트, mylist 가 solution 함수의 파라미터로 주어집니다. solution 함수가 mylist 각 원소의 길이를 담은 리스트를 리턴하도록 빈칸을 완성해보세요.\n",
    "\n",
    "hint) 이전 강의에서 배운 map 함수를 활용해보세요\n",
    "\n",
    "제한 조건\n",
    "mylist의 길이는 100 이하인 자연수입니다.\n",
    "mylist 각 원소의 길이는 100 이하인 자연수입니다.\n",
    "예시\n",
    "input\toutput\n",
    "[[1], [2]]\t[1, 1]\n",
    "[[1, 2], [3, 4], [5]]\t[2, 2, 1]\n",
    "```"
   ]
  },
  {
   "cell_type": "code",
   "execution_count": 204,
   "metadata": {
    "ExecuteTime": {
     "end_time": "2021-09-02T02:20:14.353526Z",
     "start_time": "2021-09-02T02:20:14.349520Z"
    }
   },
   "outputs": [],
   "source": [
    "def solution(mylist):\n",
    "    answer = list(map(len, mylist))\n",
    "    return answer"
   ]
  },
  {
   "cell_type": "markdown",
   "metadata": {},
   "source": [
    "## Sequence Types 다루기 (2)"
   ]
  },
  {
   "cell_type": "markdown",
   "metadata": {},
   "source": [
    "### sequence 멤버를 하나로 이어붙이기 - join"
   ]
  },
  {
   "cell_type": "markdown",
   "metadata": {},
   "source": [
    "```\n",
    "문자열 리스트 mylist를 입력받아, 이 리스트의 원소를 모두 이어붙인 문자열을 리턴하는 함수, solution을 만들어주세요. 예를 들어 mylist가 ['1', '100', '33'] 인 경우, solution 함수는 '110033'을 리턴하면 됩니다.\n",
    "\n",
    "제한 조건\n",
    "mylist의 길이는 100 이하인 자연수입니다.\n",
    "mylist의 원소의 길이는 100 이하인 자연수입니다.\n",
    "```"
   ]
  },
  {
   "cell_type": "code",
   "execution_count": 205,
   "metadata": {
    "ExecuteTime": {
     "end_time": "2021-09-02T02:23:23.151084Z",
     "start_time": "2021-09-02T02:23:23.145084Z"
    }
   },
   "outputs": [],
   "source": [
    "# 비 파이썬 -> 빈문자열에 += 누적합\n",
    "my_list = ['1', '100', '33']\n",
    "answer = ''\n",
    "for value in my_list:\n",
    "    answer += value"
   ]
  },
  {
   "cell_type": "code",
   "execution_count": 206,
   "metadata": {
    "ExecuteTime": {
     "end_time": "2021-09-02T02:23:30.387511Z",
     "start_time": "2021-09-02T02:23:30.382520Z"
    }
   },
   "outputs": [],
   "source": [
    "# 파이썬의 str.join(iterable)을 사용하면 이 코드를 두 줄로 줄일 수 있습니다 .\n",
    "\n",
    "my_list = ['1', '100', '33']\n",
    "answer = ''.join(my_list)"
   ]
  },
  {
   "cell_type": "markdown",
   "metadata": {
    "ExecuteTime": {
     "end_time": "2021-09-02T02:24:04.652195Z",
     "start_time": "2021-09-02T02:24:04.648202Z"
    }
   },
   "source": [
    "#### 느낀점(  ''.join(sequence) 과 빈문자열 +=누적합 append )\n",
    " - 빈_문자열 = '' for in 빈문자열 += string(`빈 문자열의 누적합 append`) -> python `join` "
   ]
  },
  {
   "cell_type": "markdown",
   "metadata": {},
   "source": [
    "### 삼각형 별찍기 - sequence의 \\*연산"
   ]
  },
  {
   "cell_type": "markdown",
   "metadata": {},
   "source": [
    "```\n",
    "문제 설명\n",
    "이 문제에는 표준 입력으로 정수 n이 주어집니다.\n",
    "별(*) 문자를 이용해 높이가 n인 삼각형을 출력해보세요.\n",
    "\n",
    "제한 조건\n",
    "n은 100 이하인 자연수입니다.\n",
    "예시\n",
    "입력\n",
    "\n",
    "3\n",
    "출력\n",
    "\n",
    "*\n",
    "**\n",
    "***\n",
    "```"
   ]
  },
  {
   "cell_type": "code",
   "execution_count": 208,
   "metadata": {
    "ExecuteTime": {
     "end_time": "2021-09-02T02:28:58.857673Z",
     "start_time": "2021-09-02T02:28:56.180846Z"
    }
   },
   "outputs": [
    {
     "name": "stdout",
     "output_type": "stream",
     "text": [
      "5\n",
      "*    \n",
      "**   \n",
      "***  \n",
      "**** \n",
      "*****\n"
     ]
    }
   ],
   "source": [
    "n = int(input().strip())\n",
    "\n",
    "for i in range(1,n+1):\n",
    "    print(('*'*i).ljust(n))"
   ]
  },
  {
   "cell_type": "code",
   "execution_count": 210,
   "metadata": {
    "ExecuteTime": {
     "end_time": "2021-09-02T02:29:23.323700Z",
     "start_time": "2021-09-02T02:29:21.526781Z"
    }
   },
   "outputs": [
    {
     "name": "stdout",
     "output_type": "stream",
     "text": [
      "10\n",
      "    *     \n",
      "    **    \n",
      "   ***    \n",
      "   ****   \n",
      "  *****   \n",
      "  ******  \n",
      " *******  \n",
      " ******** \n",
      "********* \n",
      "**********\n"
     ]
    }
   ],
   "source": [
    "# 위에서 배운 center를 이용하면, 트리도 편하게 그릴 수 있겠다.\n",
    "n = int(input().strip())\n",
    "\n",
    "for i in range(1,n+1):\n",
    "    print(('*'*i).center(n))"
   ]
  },
  {
   "cell_type": "markdown",
   "metadata": {},
   "source": [
    "#### 풀이\n",
    "- 이번 강의에서는 곱셈 연산 *를 통해 문자열을 반복하는 방법을 배웁니다.\n",
    "\n",
    "예시)\n",
    "\n",
    "'abc', 'abcabc', 'abcabcabc', 'abcabcabcabc ...' 과 같이 \n",
    " - 'abc'가 n번 반복되는 문자열 만들기 \n",
    "     - (my) 일정길이 `문자열의 누적합 반복 -> *`)\n",
    " - [123, 456, 123, 456, 123, ...] 과같이 123, 456이 n번 반복되는 리스트 만들기\n",
    "     - (my) `리스트 안에   요소들전체  의 append 반복 -> *`)"
   ]
  },
  {
   "cell_type": "code",
   "execution_count": 212,
   "metadata": {
    "ExecuteTime": {
     "end_time": "2021-09-02T02:33:58.778240Z",
     "start_time": "2021-09-02T02:33:58.773247Z"
    }
   },
   "outputs": [
    {
     "name": "stdout",
     "output_type": "stream",
     "text": [
      "abcabcabcabcabc\n"
     ]
    }
   ],
   "source": [
    "# 문자열의 누적합 반복은 python이 없다면?\n",
    "answer = ''\n",
    "n = 5\n",
    "for _ in range(n):\n",
    "    answer += 'abc'\n",
    "    \n",
    "print(answer)"
   ]
  },
  {
   "cell_type": "code",
   "execution_count": 215,
   "metadata": {
    "ExecuteTime": {
     "end_time": "2021-09-02T02:34:49.409186Z",
     "start_time": "2021-09-02T02:34:49.404220Z"
    }
   },
   "outputs": [
    {
     "data": {
      "text/plain": [
       "'abcabcabcabcabc'"
      ]
     },
     "execution_count": 215,
     "metadata": {},
     "output_type": "execute_result"
    }
   ],
   "source": [
    "# python의 문자열 * 은 누적합을 반복해서 붙혀준다.\n",
    "# - sequence라 * 연산을 희한하게 한다.\n",
    "\n",
    "answer = 'abc' * n\n",
    "answer"
   ]
  },
  {
   "cell_type": "code",
   "execution_count": 219,
   "metadata": {
    "ExecuteTime": {
     "end_time": "2021-09-02T02:35:47.997217Z",
     "start_time": "2021-09-02T02:35:47.990210Z"
    }
   },
   "outputs": [
    {
     "name": "stdout",
     "output_type": "stream",
     "text": [
      "[123, 456, 123, 456, 123, 456]\n"
     ]
    }
   ],
   "source": [
    "# python의 list * 은 기존 요소전체를 append 해준다.\n",
    "n = 3\n",
    "\n",
    "answer= [123, 456] * n\n",
    "\n",
    "print(answer) "
   ]
  },
  {
   "cell_type": "code",
   "execution_count": 221,
   "metadata": {
    "ExecuteTime": {
     "end_time": "2021-09-02T02:36:13.611494Z",
     "start_time": "2021-09-02T02:36:13.604495Z"
    }
   },
   "outputs": [
    {
     "data": {
      "text/plain": [
       "[123, 456, 123, 3, 123, 456]"
      ]
     },
     "execution_count": 221,
     "metadata": {},
     "output_type": "execute_result"
    }
   ],
   "source": [
    "answer[3]=3\n",
    "answer"
   ]
  },
  {
   "cell_type": "markdown",
   "metadata": {},
   "source": [
    "#### 느낀점 (sequence \\* -> string\\*, list\\*)\n",
    " - `문자열 * n`  :  문자열을 누적합해서 += 한 것처럼 반복된다.\n",
    " - `list * n` : 기존요소들전체 append\n"
   ]
  },
  {
   "cell_type": "markdown",
   "metadata": {},
   "source": [
    "## Itertools / Collections 모듈 (4)"
   ]
  },
  {
   "cell_type": "markdown",
   "metadata": {},
   "source": [
    "### (쳌) 곱집합(Cartesian product) 구하기 - product\n",
    "- 이번 강의에서는 iterable으로 곱집합을 구하는 방법을 알아봅니다.\n",
    "- 예시) 두 스트링 'ABCD', 'xy' 의 곱집합은 Ax Ay Bx By Cx Cy Dx Dy 입니다."
   ]
  },
  {
   "cell_type": "code",
   "execution_count": 227,
   "metadata": {
    "ExecuteTime": {
     "end_time": "2021-09-02T02:50:11.698708Z",
     "start_time": "2021-09-02T02:50:11.681697Z"
    },
    "scrolled": true
   },
   "outputs": [
    {
     "name": "stdout",
     "output_type": "stream",
     "text": [
      "A x 1\n",
      "A x 2\n",
      "A x 3\n",
      "A x 4\n",
      "A y 1\n",
      "A y 2\n",
      "A y 3\n",
      "A y 4\n",
      "B x 1\n",
      "B x 2\n",
      "B x 3\n",
      "B x 4\n",
      "B y 1\n",
      "B y 2\n",
      "B y 3\n",
      "B y 4\n",
      "C x 1\n",
      "C x 2\n",
      "C x 3\n",
      "C x 4\n",
      "C y 1\n",
      "C y 2\n",
      "C y 3\n",
      "C y 4\n",
      "D x 1\n",
      "D x 2\n",
      "D x 3\n",
      "D x 4\n",
      "D y 1\n",
      "D y 2\n",
      "D y 3\n",
      "D y 4\n"
     ]
    }
   ],
   "source": [
    "# 비 파이썬 -> iterable 갯수만큼 for문 중첩반복\n",
    "\n",
    "iterable1 = 'ABCD'\n",
    "iterable2 = 'xy'\n",
    "iterable3 = '1234'\n",
    "\n",
    "for value1 in iterable1:\n",
    "    for value2 in iterable2:\n",
    "        for value3 in iterable3:\n",
    "            print(value1, value2, value3)"
   ]
  },
  {
   "cell_type": "code",
   "execution_count": 228,
   "metadata": {
    "ExecuteTime": {
     "end_time": "2021-09-02T02:50:38.386361Z",
     "start_time": "2021-09-02T02:50:38.377362Z"
    }
   },
   "outputs": [
    {
     "name": "stdout",
     "output_type": "stream",
     "text": [
      "[('A', 'x', '1'), ('A', 'x', '2'), ('A', 'x', '3'), ('A', 'x', '4'), ('A', 'y', '1'), ('A', 'y', '2'), ('A', 'y', '3'), ('A', 'y', '4'), ('B', 'x', '1'), ('B', 'x', '2'), ('B', 'x', '3'), ('B', 'x', '4'), ('B', 'y', '1'), ('B', 'y', '2'), ('B', 'y', '3'), ('B', 'y', '4'), ('C', 'x', '1'), ('C', 'x', '2'), ('C', 'x', '3'), ('C', 'x', '4'), ('C', 'y', '1'), ('C', 'y', '2'), ('C', 'y', '3'), ('C', 'y', '4'), ('D', 'x', '1'), ('D', 'x', '2'), ('D', 'x', '3'), ('D', 'x', '4'), ('D', 'y', '1'), ('D', 'y', '2'), ('D', 'y', '3'), ('D', 'y', '4')]\n"
     ]
    }
   ],
   "source": [
    "# 파이썬에서는\n",
    "# itertools.product를 이용하면, for 문을 사용하지 않고도 곱집합을 구할 수 있습니다.\n",
    "\n",
    "import itertools\n",
    "\n",
    "iterable1 = 'ABCD'\n",
    "iterable2 = 'xy'\n",
    "iterable3 = '1234'\n",
    "print(list(itertools.product(iterable1, iterable2, iterable3)))"
   ]
  },
  {
   "cell_type": "code",
   "execution_count": 229,
   "metadata": {
    "ExecuteTime": {
     "end_time": "2021-09-02T02:50:52.270819Z",
     "start_time": "2021-09-02T02:50:52.265806Z"
    }
   },
   "outputs": [
    {
     "data": {
      "text/plain": [
       "<itertools.product at 0x1ed8c4750c0>"
      ]
     },
     "execution_count": 229,
     "metadata": {},
     "output_type": "execute_result"
    }
   ],
   "source": [
    "itertools.product(iterable1, iterable2, iterable3)"
   ]
  },
  {
   "cell_type": "code",
   "execution_count": 240,
   "metadata": {
    "ExecuteTime": {
     "end_time": "2021-09-02T06:43:01.190758Z",
     "start_time": "2021-09-02T06:43:01.178754Z"
    },
    "scrolled": true
   },
   "outputs": [
    {
     "name": "stdout",
     "output_type": "stream",
     "text": [
      "<itertools.product object at 0x000001ED8C58A940>\n",
      "[('A',), ('B',), ('C',), ('D',)]\n",
      "[('A', '조재성'), ('A', '조재경'), ('A', '조아라'), ('B', '조재성'), ('B', '조재경'), ('B', '조아라'), ('C', '조재성'), ('C', '조재경'), ('C', '조아라'), ('D', '조재성'), ('D', '조재경'), ('D', '조아라')]\n"
     ]
    },
    {
     "data": {
      "text/plain": [
       "['A조재성1', 'A조재성2', 'A조재성3', 'A조재성4', 'A조재경1']"
      ]
     },
     "execution_count": 240,
     "metadata": {},
     "output_type": "execute_result"
    }
   ],
   "source": [
    "import itertools\n",
    "\n",
    "iter1 =  list('ABCD')\n",
    "iter2 = '조재성 조재경 조아라'.split(' ')\n",
    "iter3 = '1234'\n",
    "\n",
    "print(itertools.product(iter1)) # 1개의 iter도 받으며, list()로 변환해야 보인다.\n",
    "print(list(itertools.product(iter1))) # 1개의 iter도 받으며, list()로 변환해야 보인다.\n",
    "\n",
    "print(list(itertools.product(iter1, iter2))) # 2개의 iterable객체를 넣은 순간부터, 곱집합 튜플들의 리스트가 나온다.\n",
    "# 2중 for문을 도는 효과다.\n",
    "\n",
    "[ a + b + c for a,b,c in itertools.product(iter1, iter2, iter3)][:5]"
   ]
  },
  {
   "cell_type": "markdown",
   "metadata": {},
   "source": [
    "#### 느낀점( itertools.product(iter1, 2, 3) -> 중첩for 반복을 제거 + 순서대가 정해진  조합이다.)\n",
    " - itertools.product의 결과물은 list()를 씌워야 튜플 리스트로 들어온다.\n",
    "     - 1개의iter를 넣어도 (a, ) (b, )의 튜플형태로 받는다.\n",
    " - zip은 i, i+1, 같은 위상의 iter들을 **동시에** 받거나 \\*2차원리스트 등을 받아서 -> 1차원으로 동시에 처리\n",
    "     - itertools.product는 for iter1, for iter2처럼, **누적해서 곱집합**을 처리한다.\n",
    " - 문자열도 iter로 인식하여 한 문자씩 돌아간다."
   ]
  },
  {
   "cell_type": "code",
   "execution_count": null,
   "metadata": {},
   "outputs": [],
   "source": []
  },
  {
   "cell_type": "code",
   "execution_count": null,
   "metadata": {},
   "outputs": [],
   "source": []
  },
  {
   "cell_type": "markdown",
   "metadata": {},
   "source": [
    "### (쳌) 2차원 리스트를 1차원 리스트로 만들기 - from_iterable"
   ]
  },
  {
   "cell_type": "markdown",
   "metadata": {},
   "source": [
    "#### 내풀이(no pythonic)"
   ]
  },
  {
   "cell_type": "code",
   "execution_count": 230,
   "metadata": {
    "ExecuteTime": {
     "end_time": "2021-09-02T02:59:42.487062Z",
     "start_time": "2021-09-02T02:59:42.480109Z"
    }
   },
   "outputs": [],
   "source": [
    "# 결국에는 개별요소까지 for문으로 찾아들어가야한다. -> list comp 2for로 찾아들어가면, 그냥 놔두면 [ 요소 for for ]안에 모인다. 실습해볼 것.\n",
    "\n",
    "def solution(mylist):\n",
    "    answer = []\n",
    "    for list_ in mylist:\n",
    "        for li in list_:\n",
    "            answer.append(li)\n",
    "    return answer\n"
   ]
  },
  {
   "cell_type": "code",
   "execution_count": 242,
   "metadata": {
    "ExecuteTime": {
     "end_time": "2021-09-02T06:55:33.532790Z",
     "start_time": "2021-09-02T06:55:33.524783Z"
    }
   },
   "outputs": [
    {
     "data": {
      "text/plain": [
       "[1, 2, 3, 4, 5, 6]"
      ]
     },
     "execution_count": 242,
     "metadata": {},
     "output_type": "execute_result"
    }
   ],
   "source": [
    "# 2차원 리스트를 풀려면,단순하게 풀려면,  2중for든, list comp for+for든 요소까지 일단 접근해야한다.\n",
    "\n",
    "my_list = [[1, 2], [3, 4], [5, 6]]\n",
    "\n",
    "[ li for list_ in my_list for li in list_ ]"
   ]
  },
  {
   "cell_type": "markdown",
   "metadata": {},
   "source": [
    "#### 정답"
   ]
  },
  {
   "cell_type": "code",
   "execution_count": 235,
   "metadata": {
    "ExecuteTime": {
     "end_time": "2021-09-02T03:03:57.160620Z",
     "start_time": "2021-09-02T03:03:57.152624Z"
    }
   },
   "outputs": [
    {
     "data": {
      "text/plain": [
       "[1, 2, 3, 4, 5, 6]"
      ]
     },
     "execution_count": 235,
     "metadata": {},
     "output_type": "execute_result"
    }
   ],
   "source": [
    "# 비파이썬이라도, for1개 + 각 1차원 list를  \n",
    "# 빈리스트[]에 +로 <<괄호떼고>>누적합으로 이어붙이기\n",
    ".\n",
    "my_list = [[1, 2], [3, 4], [5, 6]]\n",
    "\n",
    "answer = []\n",
    "for element in my_list:\n",
    "    answer += element\n",
    "    \n",
    "answer"
   ]
  },
  {
   "cell_type": "code",
   "execution_count": 244,
   "metadata": {
    "ExecuteTime": {
     "end_time": "2021-09-02T07:10:22.051450Z",
     "start_time": "2021-09-02T07:10:22.044451Z"
    }
   },
   "outputs": [
    {
     "data": {
      "text/plain": [
       "[1, 2, 3, 4, 5, 6]"
      ]
     },
     "execution_count": 244,
     "metadata": {},
     "output_type": "execute_result"
    }
   ],
   "source": [
    "# 내장sum함수에 , start=값을 default 0이 아닌 빈 []에다가 누적되도록 !\n",
    "sum(my_list, [])"
   ]
  },
  {
   "cell_type": "code",
   "execution_count": 247,
   "metadata": {
    "ExecuteTime": {
     "end_time": "2021-09-02T07:13:22.333226Z",
     "start_time": "2021-09-02T07:13:22.325224Z"
    }
   },
   "outputs": [
    {
     "name": "stdout",
     "output_type": "stream",
     "text": [
      "<itertools.chain object at 0x000001ED8C79CE20>\n"
     ]
    },
    {
     "data": {
      "text/plain": [
       "[1, 2, 3, 4, 5, 6]"
      ]
     },
     "execution_count": 247,
     "metadata": {},
     "output_type": "execute_result"
    }
   ],
   "source": [
    "# itertools.chain.from_iterable( ) \n",
    "print(itertools.chain.from_iterable( my_list ) )\n",
    "\n",
    "list(itertools.chain.from_iterable( my_list ) )"
   ]
  },
  {
   "cell_type": "code",
   "execution_count": 255,
   "metadata": {
    "ExecuteTime": {
     "end_time": "2021-09-02T07:19:24.216875Z",
     "start_time": "2021-09-02T07:19:24.210875Z"
    }
   },
   "outputs": [
    {
     "data": {
      "text/plain": [
       "['A', 'B', 'C', 'abc', 2, 3, 'F']"
      ]
     },
     "execution_count": 255,
     "metadata": {},
     "output_type": "execute_result"
    }
   ],
   "source": [
    "# https://blog.winterjung.dev/2017/04/21/list-of-lists-to-flatten\n",
    "\n",
    "# itertools.chain()은 여러 1차 iterable(1글자씩조합-문자열 or list 등)을 분해해서 \n",
    "# -> 통합한 1차 iterable을 만든다.\n",
    "list(itertools.chain('ABC', ['abc',2,3], 'F'))"
   ]
  },
  {
   "cell_type": "code",
   "execution_count": 257,
   "metadata": {
    "ExecuteTime": {
     "end_time": "2021-09-02T07:25:10.703791Z",
     "start_time": "2021-09-02T07:25:10.696821Z"
    }
   },
   "outputs": [
    {
     "data": {
      "text/plain": [
       "[1, 2, 3, 4, 5, 6]"
      ]
     },
     "execution_count": 257,
     "metadata": {},
     "output_type": "execute_result"
    }
   ],
   "source": [
    "# 2차원의 한까풀 벗기려면 *사용시매핑(사용시언패킹)으로 알아서 쪼개써라고 주는 것이다.\n",
    "list(itertools.chain(my_list))\n",
    "list(itertools.chain(*my_list))"
   ]
  },
  {
   "cell_type": "markdown",
   "metadata": {},
   "source": [
    "- 파이썬 \\* 의 사용 (https://mingrammer.com/understanding-the-asterisk-of-python/)\n",
    "    - 곱셈 및 거듭제곱 연산으로 사용할 때\n",
    "    - 리스트형 컨테이너 타입의 데이터를 반복 확장하고자 할 때\n",
    "    - 가변인자 (Variadic Arguments)를 사용하고자 할 때 -> 인자시 패킹(내부에서는 \\*떼고 묶어서 써줘)\n",
    "    - **컨테이너 타입의 데이터를 Unpacking 할 때** -> **사용시언패킹**(알아서 쪼개줘)"
   ]
  },
  {
   "cell_type": "code",
   "execution_count": 258,
   "metadata": {
    "ExecuteTime": {
     "end_time": "2021-09-02T07:30:46.150010Z",
     "start_time": "2021-09-02T07:30:46.136989Z"
    }
   },
   "outputs": [
    {
     "data": {
      "text/plain": [
       "[2, 3, 5, 7, 11, 13]"
      ]
     },
     "execution_count": 258,
     "metadata": {},
     "output_type": "execute_result"
    }
   ],
   "source": [
    "from functools import reduce\n",
    "\n",
    "primes = [2, 3, 5, 7, 11, 13]\n",
    "\n",
    "def product(*numbers):\n",
    "    p = reduce(lambda x, y: x * y, numbers)\n",
    "    return p\n",
    "\n",
    "product(*primes) # product() 함수가 <이미 내부에서> 가변인자를 받고 있기 때문에, \n",
    "#  실제 입력시에는 콤마로 언패킹상태로 리스트의 데이터를 모두 unpacking하여 함수에 전달해야한다.\n",
    "# -> 인자가 패킹하고있다면, 실제 대입은 콤마, , ,로 나눠서 주던지  *iterable로 알아서 처리하라고 넘겨주면 된다.\n",
    "# 30030\n",
    "\n",
    "product(primes) # XXXXXXXXXX -> 콤마로 줘야할 곳을 list로 주고 있다. *list로 하면 콤마로 알아서 입력해줘다.\n",
    "# [2, 3, 5, 7, 11, 13]"
   ]
  },
  {
   "cell_type": "code",
   "execution_count": 262,
   "metadata": {
    "ExecuteTime": {
     "end_time": "2021-09-02T07:38:33.361697Z",
     "start_time": "2021-09-02T07:38:33.355668Z"
    }
   },
   "outputs": [
    {
     "data": {
      "text/plain": [
       "[1, 2, 3, 4, 5, 6]"
      ]
     },
     "execution_count": 262,
     "metadata": {},
     "output_type": "execute_result"
    }
   ],
   "source": [
    "# itertools.chain.from_iterable는 알아서 한꺼풀 벗기고나서 -> 다시 각각을 벗긴다. -> 2차원 -> 1차원 한번에\n",
    "list(itertools.chain.from_iterable( my_list ))"
   ]
  },
  {
   "cell_type": "code",
   "execution_count": 268,
   "metadata": {
    "ExecuteTime": {
     "end_time": "2021-09-02T07:43:56.750200Z",
     "start_time": "2021-09-02T07:43:56.742182Z"
    }
   },
   "outputs": [
    {
     "data": {
      "text/plain": [
       "[1, 2, 3, 4, 5, 6]"
      ]
     },
     "execution_count": 268,
     "metadata": {},
     "output_type": "execute_result"
    }
   ],
   "source": [
    "# reduce의 누적합에서 각요소 list들이 + 연산되니까 된다.\n",
    "from functools import reduce\n",
    "\n",
    "reduce(lambda x, y: x+y, my_list)\n",
    "\n",
    "from operator import add\n",
    "\n",
    "reduce(add, my_list)\n"
   ]
  },
  {
   "cell_type": "markdown",
   "metadata": {},
   "source": [
    "#### 느낀점( 2차원 :  [ ] for += 괄떼이어붙이기  / sum( , start =[ ]) / 한꺼풀 : itertools.chain(\\*)과 자동 2꺼풀: chain.from_iterable()  / reduce(lambda x,y:x(list)+(new_list), <--2차원리스트)\n",
    " 1. 가장 단순하게 2중 for문 or 2중 list comp로  element까지 가는 것\n",
    " 2. 비 파이썬이라도 **빈_list[ ]에 for문 1개의 list element에서 ~~append가 아닌~~ `빈_list += 괄호떼고 이어붙이기`**\n",
    " 3. 내장sum(iter)함수에 , start=값을 default 0이 아닌 **빈 []에다가 iter각 요소(2차원->1차원 리스트들)**누적되도록 ! `sum(iter , start = [] )`\n",
    " 4. itertools.chain( 1차원or문자열 iterable1 , iter2, ... ) -> 문자열은 1개씩 풀어서, list는 element단위로 풀어서 1차원 iterable로 통합\n",
    "     - **itertools.chain()**은 여러 1차 iterable들을 각각 분해하여 **각각 한꺼풀만 벗겨**, 통합한 1차 iterable을 만든다.\n",
    "     - **2차원을 넣으면 그대로 2차원 반환됨. 한 꺼풀만 벗겨서 다시 통합하므로 -> chain(\\*2차원)으로 사용시언패킹 시켜주자**\n",
    "     \n",
    "     \n",
    "- %timeit 결과를 보면 sum()함수만 끔찍하게 느리고 나머지 셋은 고만고만함을 알 수 있다.\n",
    "성능과 가독성 중 무엇을 중시하냐의 차이지만 개인적으로 itertools.chain() 자체도 가독성이 나쁘다고 볼 수 없기에 sum()보다는 chain()을 쓰지 않을까 싶다.\n",
    "\n",
    "\n",
    " 5. reduce도 각 데이터 요소들이 와서 연산하는데 lambda로 +연산 or operator.add를 사용해서 list들이 += 누적합이 되도록 해주면 된다."
   ]
  },
  {
   "cell_type": "code",
   "execution_count": 276,
   "metadata": {
    "ExecuteTime": {
     "end_time": "2021-09-03T03:19:06.038570Z",
     "start_time": "2021-09-03T03:19:06.032564Z"
    }
   },
   "outputs": [
    {
     "data": {
      "text/plain": [
       "[(1, 2), (1, 3), (2, 1), (2, 3), (3, 1), (3, 2)]"
      ]
     },
     "execution_count": 276,
     "metadata": {},
     "output_type": "execute_result"
    }
   ],
   "source": [
    "from itertools import permutations\n",
    "\n",
    "sorted(list(permutations([2, 1,3], 2)))"
   ]
  },
  {
   "cell_type": "markdown",
   "metadata": {},
   "source": [
    "### (쳌) 순열과 조합 - combinations, permutations"
   ]
  },
  {
   "cell_type": "markdown",
   "metadata": {
    "ExecuteTime": {
     "end_time": "2021-09-03T03:18:37.590614Z",
     "start_time": "2021-09-03T03:18:37.582611Z"
    }
   },
   "source": [
    "```\n",
    "문제 설명\n",
    "숫자를 담은 일차원 리스트, mylist에 대해 mylist의 원소로 이루어진 모든 순열을 사전순으로 리턴하는 함수 solution을 완성해주세요.\n",
    "\n",
    "제한 조건\n",
    "mylist 의 길이는 1 이상 100 이하인 자연수입니다.\n",
    "예시\n",
    "mylist\toutput\n",
    "[2, 1]\t[[1, 2], [2, 1]]\n",
    "[1, 2, 3]\t[[1, 2, 3], [1, 3, 2], [2, 1, 3], [2, 3, 1], [3, 1, 2], [3, 2, 1]]\n",
    "```"
   ]
  },
  {
   "cell_type": "code",
   "execution_count": 286,
   "metadata": {
    "ExecuteTime": {
     "end_time": "2021-09-03T03:48:29.998436Z",
     "start_time": "2021-09-03T03:48:29.990479Z"
    }
   },
   "outputs": [
    {
     "data": {
      "text/plain": [
       "[(1, 2), (1, 3), (2, 1), (2, 3), (3, 1), (3, 2)]"
      ]
     },
     "execution_count": 286,
     "metadata": {},
     "output_type": "execute_result"
    }
   ],
   "source": [
    "# 모듈을 본 뒤의 내 풀이\n",
    "from itertools import permutations\n",
    "\n",
    "sorted(list(permutations([2, 1,3],2)))"
   ]
  },
  {
   "cell_type": "markdown",
   "metadata": {},
   "source": [
    "#### 패키지 없이 순열 구현( 프로그래머스 while. 어려움)"
   ]
  },
  {
   "cell_type": "code",
   "execution_count": 390,
   "metadata": {
    "ExecuteTime": {
     "end_time": "2021-09-04T11:59:59.681610Z",
     "start_time": "2021-09-04T11:59:59.676609Z"
    }
   },
   "outputs": [],
   "source": [
    "# # c list는 들어온 list 길이만큼의  [0,0,0]으로 시작하며\n",
    "# # - 자기자신의 index와 value가 같아지는 순간까지만 반복되다가, 다음 index로 넘어가서 반복된다.\n",
    "# # - index가 더크면, 값+1  index 초기화후\n",
    "# # - 값이 더크거나 같으면, <인덱스+1> 값 초기화\n",
    "# # my) 값을 인덱스랑 같아질때까지 늘려주는데, 값 증가시 그때마다 i=0부터 시작.. -> 같아지면 index+1 값은 0\n",
    "# # my) index가 n-1까지 = arr갯수까지만 시행.\n",
    "# # - 그럼,  0` [0`,0] -> `1 [0,`0] -> `0 [`0,1]  -> `1 [0, `1] ->  2 [0, 0] -> 조건위배 while중지\n",
    "# def permute_first(arr):\n",
    "#     result = [arr[:]]\n",
    "#     c = [0] * len(arr)\n",
    "    \n",
    "#     i = 0\n",
    "#     while i < len(arr):\n",
    "#         print(i, c, arr, result)\n",
    "#         # 1. i번째 데이터가 자기 순서(i)보다 값이 작다? 1증가시키고, 처음부터 돌려라.\n",
    "#         if c[i] < i :\n",
    "#             c[i] +=1 # 값을 +1\n",
    "#             i = 0    # index를 0부터 다시 시작.\n",
    "#         # 2. i번째 데이터가 자기 순서(i)보다 크거나 같다? 값을 초기화시키고, 다음 index순서로 넘어가라\n",
    "#         else:\n",
    "#             c[i] = 0\n",
    "#             i+=1\n",
    "            \n",
    "        \n",
    "    \n",
    "    \n",
    "# permute_first([0,0])"
   ]
  },
  {
   "cell_type": "code",
   "execution_count": 391,
   "metadata": {
    "ExecuteTime": {
     "end_time": "2021-09-04T12:00:03.170396Z",
     "start_time": "2021-09-04T12:00:03.166362Z"
    }
   },
   "outputs": [],
   "source": [
    "# # c list는 들어온 list 길이만큼의  [0,0,0]으로 시작하며\n",
    "# # my) 값을 인덱스랑 같아질때까지 늘려주는데, 값 증가시 그때마다 i=0부터 시작.. -> 같아지면 index+1 값은 0\n",
    "# # my) index가 n-1까지 = arr갯수까지만 시행.\n",
    "# # - 그럼,  0` [0`,0] -> `1 [0,`0] -> `0 [`0,1]  -> `1 [0, `1] ->  2 [0, 0] -> 조건위배 while중지\n",
    "\n",
    "# # 3. 인덱스가 짝수면, arr[0]번째 값과 해당 index값 arr[i] swap한다.\n",
    "# def permute_two(arr):\n",
    "#     result = [arr[:]]\n",
    "#     c = [0] * len(arr)\n",
    "    \n",
    "#     i = 0\n",
    "#     while i < len(arr):\n",
    "#         print(i, c[i], c,  arr)\n",
    "#         if c[i] < i :\n",
    "#             # 3. 인덱스가 짝수면, 원본 0번째 값  현재(짝수번째) 값을 교환.\n",
    "#             if i % 2 ==0:\n",
    "#                 arr[0], arr[i] = arr[i], arr[0]\n",
    "                \n",
    "#             c[i] +=1 \n",
    "#             i = 0    \n",
    "#         else:\n",
    "#             c[i] = 0\n",
    "#             i+=1\n",
    "            \n",
    "        \n",
    "    \n",
    "    \n",
    "# permute_two([0,1,4])"
   ]
  },
  {
   "cell_type": "code",
   "execution_count": 392,
   "metadata": {
    "ExecuteTime": {
     "end_time": "2021-09-04T12:00:05.796881Z",
     "start_time": "2021-09-04T12:00:05.790883Z"
    }
   },
   "outputs": [],
   "source": [
    "# def permute_three(arr):\n",
    "#     result = [arr[:]]\n",
    "#     c = [0] * len(arr)\n",
    "    \n",
    "#     i = 0\n",
    "#     while i < len(arr):\n",
    "#         print(i, c[i], c,  arr)\n",
    "#         if c[i] < i :\n",
    "#             # 3. 인덱스가 짝수면, 0번째 값과, 짝수번째 값을 교환.\n",
    "#             if i % 2 ==0:\n",
    "#                 arr[0], arr[i] = arr[i], arr[0]\n",
    "#             # 4. 인덱스가 홀수면, [c list의 i번째 값]을 index로 넣고, 데이터 홀수번재 값을 교환\n",
    "#             else:\n",
    "#                 arr[c[i]], arr[i] = arr[i], arr[c[i]]\n",
    "#             c[i] +=1 \n",
    "#             i = 0    \n",
    "#         else:\n",
    "#             c[i] = 0\n",
    "#             i+=1\n",
    "            \n",
    "        \n",
    "    \n",
    "    \n",
    "# permute_three([0,1,4])"
   ]
  },
  {
   "cell_type": "code",
   "execution_count": 393,
   "metadata": {
    "ExecuteTime": {
     "end_time": "2021-09-04T12:00:09.609392Z",
     "start_time": "2021-09-04T12:00:09.604387Z"
    }
   },
   "outputs": [],
   "source": [
    "# # append는 if 값이 index보다 작을 때만 한다.\n",
    "# # - 값이 index랑 같아지는 부분은 횟수를 늘리는 용도일 뿐이라는 말이다.\n",
    "# def permute_four(arr):\n",
    "#     result = [arr[:]] # 2차원에 1번째 행을 원본을 넣어놓는다.\n",
    "#     c = [0] * len(arr)\n",
    "    \n",
    "#     i = 0\n",
    "#     while i < len(arr):\n",
    "#         print(i, c[i], c,  arr)\n",
    "#         if c[i] < i :\n",
    "#             # 3. 인덱스가 짝수면, 0번째 값과, 짝수번째 값을 교환.\n",
    "#             if i % 2 ==0:\n",
    "#                 arr[0], arr[i] = arr[i], arr[0]\n",
    "#             # 4. 인덱스가 홀수면, [c list의 i번째 값]을 index로 넣고, 데이터 홀수번재 값을 교환\n",
    "#             else:\n",
    "#                 arr[c[i]], arr[i] = arr[i], arr[c[i]]\n",
    "#             # 5. arr결과를 result 2차원 리스트(원본을 1행에 가지고 있던 놈)에 append한다.\n",
    "#             # - c[i]가 0에서부터 불들어오는 순간부터 교환후 들어올리네.\n",
    "#             result.append(arr[:])\n",
    "#             c[i] +=1 \n",
    "#             i = 0    \n",
    "            \n",
    "#         else:\n",
    "#             c[i] = 0\n",
    "#             i+=1\n",
    "            \n",
    "        \n",
    "#     # 6. result 2차원 리스트를 반환한다.\n",
    "#     return result\n",
    "    \n",
    "    \n",
    "# permute_four([1,2,3])"
   ]
  },
  {
   "cell_type": "code",
   "execution_count": 326,
   "metadata": {
    "ExecuteTime": {
     "end_time": "2021-09-04T03:41:53.579543Z",
     "start_time": "2021-09-04T03:41:53.571545Z"
    }
   },
   "outputs": [],
   "source": [
    "# 어려워서 일단 스킵함.\n",
    "def permute(arr):\n",
    "    result = [arr[:]]\n",
    "    c = [0] * len(arr)\n",
    "    i = 0\n",
    "    while i < len(arr):\n",
    "        if c[i] < i:\n",
    "            if i % 2 == 0:\n",
    "                arr[0], arr[i] = arr[i], arr[0]\n",
    "            else:\n",
    "                arr[c[i]], arr[i] = arr[i], arr[c[i]]\n",
    "            result.append(arr[:])\n",
    "            c[i] += 1\n",
    "            i = 0\n",
    "        else:\n",
    "            c[i] = 0\n",
    "            i += 1\n",
    "    return result"
   ]
  },
  {
   "cell_type": "markdown",
   "metadata": {},
   "source": [
    "#### 번외) python으로순열 구현1 (블로그1,  재귀+불크고끄기 )\n",
    " - https://shoark7.github.io/programming/algorithm/Permutations-and-Combinations\n",
    " - https://programmers.co.kr/learn/courses/4008/lessons/12836"
   ]
  },
  {
   "cell_type": "code",
   "execution_count": 384,
   "metadata": {
    "ExecuteTime": {
     "end_time": "2021-09-04T11:28:52.902912Z",
     "start_time": "2021-09-04T11:28:52.870876Z"
    }
   },
   "outputs": [
    {
     "name": "stdout",
     "output_type": "stream",
     "text": [
      "used [0, 0, 0, 0]\n",
      "chosen []\n",
      "used [1, 0, 0, 0]\n",
      "used [1, 0, 0, 0]\n",
      "chosen [0]\n",
      "[0, 1]\n",
      "used [1, 0, 0, 0]\n",
      "chosen [0]\n",
      "[0, 2]\n",
      "used [1, 0, 0, 0]\n",
      "chosen [0]\n",
      "[0, 3]\n",
      "used [0, 0, 0, 0]\n",
      "chosen []\n",
      "used [0, 1, 0, 0]\n",
      "chosen [1]\n",
      "[1, 0]\n",
      "used [0, 1, 0, 0]\n",
      "used [0, 1, 0, 0]\n",
      "chosen [1]\n",
      "[1, 2]\n",
      "used [0, 1, 0, 0]\n",
      "chosen [1]\n",
      "[1, 3]\n",
      "used [0, 0, 0, 0]\n",
      "chosen []\n",
      "used [0, 0, 1, 0]\n",
      "chosen [2]\n",
      "[2, 0]\n",
      "used [0, 0, 1, 0]\n",
      "chosen [2]\n",
      "[2, 1]\n",
      "used [0, 0, 1, 0]\n",
      "used [0, 0, 1, 0]\n",
      "chosen [2]\n",
      "[2, 3]\n",
      "used [0, 0, 0, 0]\n",
      "chosen []\n",
      "used [0, 0, 0, 1]\n",
      "chosen [3]\n",
      "[3, 0]\n",
      "used [0, 0, 0, 1]\n",
      "chosen [3]\n",
      "[3, 1]\n",
      "used [0, 0, 0, 1]\n",
      "chosen [3]\n",
      "[3, 2]\n",
      "used [0, 0, 0, 1]\n"
     ]
    }
   ],
   "source": [
    "arr = [0,1,2,3]\n",
    "r = 2\n",
    "# def permutation(arr, r):\n",
    "# 1. used(list) : 해당index의 원소 사용 여부 : arr의 길이만큼 빈 [0] * n를 만들자.\n",
    "# - used(list)에는 해당index의 값이 사용됬는지 안됬는지 체크여부. \n",
    "# - 누적합이 아니라도 여부 등은 0 default에서 1 왔다갔다 하면, if문에 False, True로 걸린다.\n",
    "# used = [0] * len(arr)\n",
    "used = [0 for _ in range(len(arr))]\n",
    "\n",
    "# 2. generate( chosen, used ): 함수로 만들어야 -> 내부에서 같은 로직을 한번 더 호출할 수 있다.\n",
    "# - 일단, 빈 list를 던져주고, 사용여부에 따라 append한 다음, 길이가 원하는 순열길이(r)과 같아졌다면 함수를 끝내는 return해준다.\n",
    "# generate([], used) 형태로 사용된다.\n",
    "def generate(chosen, used):\n",
    "    # 2-1) default [] chosen이 원하는 길이를 만족했으면 -> 탈출 -> 그전까지는 내부함수 호출로 반복됨.\n",
    "    if len(chosen) == r:\n",
    "        print(chosen) # 결과값 저장대신 각각 만들어진 경우를 print한다.\n",
    "        return \n",
    "    \n",
    "    # 2-2) arr길이만큼 반복 -> used의 길이랑 arr이랑 같으며, 같이 움직이니까.\n",
    "    # arr와 같은 길이의 used는 arr[i]의 사용여부체크시 used[i]를 사용하는 위에 떠있는 데이터\n",
    "    for i in range(len(arr)):\n",
    "        # i번째 원소가 아직 사용이 안됬다?\n",
    "        print('used', used)\n",
    "        if not used[i]:\n",
    "            # 사용후 -> 사용표시 1\n",
    "            # - 일단 사용안된 i번째 요소를 chosen에 넣고, 사용했다는 표기를 한다.\n",
    "            print('chosen', chosen)\n",
    "            chosen.append(arr[i])\n",
    "            used[i]=1\n",
    "            # i번재 데이터가 담기고 + 사용되었다는 표시와함께 다시 호출하면\n",
    "            # - 재귀적? 반복적으로... i를 제외하고 사용안된 i를 =1,2,3,4에서부터 찾기..전에...\n",
    "            generate(chosen, used)\n",
    "            # 내부에서, 길이 못채웠고 & 사용된것 넘어가면서 사용안된 것을 j를 0에서부터 찾는다.\n",
    "            # 내부에서, 0은 used[0]이 이미 담겨있으니, 1을 chosen에 넣고, 0,1,을 넣은 상태에다.\n",
    "            # 내부에서 또 내부함수가 호출되지만, 초기검사에서 r==2를 만족시켜 반환되며\n",
    "            # 내부j에서는, used[j] = 0을 넣고, 안썼다고 표시 + 데이터도 뺀 체로, j=1이 된다.\n",
    "            # i=0는 고정상태에서 j=0을 쓴 뒤, j=1을 쓰고, r==2가 만족되면 j=2로 간다...\n",
    "            # i 고정 -> j를 돌면서 -> k에서 갯수가 맞추다가,, j를 다돌면, i가 도나보다...\n",
    "            used[i] = 0\n",
    "            chosen.pop()\n",
    "            \n",
    "            \n",
    "# 재귀를 써서 구하는데\n",
    "# base case가 chosen == r(input)을 맞추면 끝난다...\n",
    "\n",
    "# 이 함수의 핵심이다. 모든 순열은 arr 의 0부터 i-1 번째 값으로 시작하기에 for 문으로 다 만들어야 한다. \n",
    "# recusive case는  nPr = 시작자리에 arr[i] 가 들어갔다고 치면(for를 n번) = N * n-1Pr 이다.\n",
    "# permutation([0,1,2,3], 2) = \n",
    "# ([0],permutation([1,2,3], 1)) + ([1],permutation([0,2,3], 1)) + ([2],permutation([0,1,3], 1))+ ([3],permutation([0,1,2], 1))\n",
    "# combination([0,1,2,3], 2) = ([0],combination([1,2,3], 1)) + ([1],combination([2,3], 1)) + ([2],combination([3], 1)))\n",
    "# https://cotak.tistory.com/70"
   ]
  },
  {
   "cell_type": "code",
   "execution_count": 389,
   "metadata": {
    "ExecuteTime": {
     "end_time": "2021-09-04T11:53:46.074583Z",
     "start_time": "2021-09-04T11:53:46.064648Z"
    },
    "scrolled": true
   },
   "outputs": [
    {
     "name": "stdout",
     "output_type": "stream",
     "text": [
      "['A', 'B']\n",
      "['A', 'C']\n",
      "['A', 'D']\n",
      "['B', 'A']\n",
      "['B', 'C']\n",
      "['B', 'D']\n",
      "['C', 'A']\n",
      "['C', 'B']\n",
      "['C', 'D']\n",
      "['D', 'A']\n",
      "['D', 'B']\n",
      "['D', 'C']\n"
     ]
    }
   ],
   "source": [
    "# 다시 정리\n",
    "def permutation(arr, r):\n",
    "    # 1.\n",
    "    arr = sorted(arr)\n",
    "    # 해당원소가 사용되고 있는 상태인지 arr와 같은길이의  0과 1로 구성될 list 생성\n",
    "    # - 재귀로 내부에서 함수가 또 불려질텐데, 내부함수가 밖에서 어떤 원소가 고정된 상탠지 알려주기 위해\n",
    "    # - 함수 입장에서 전역변수로 만들어준다.\n",
    "    used = [0 for _ in range(len(arr))]\n",
    "\n",
    "    def generate(chosen, used):\n",
    "        # 2.재귀에서 탈출부이다. chosen이 원하는 갯수 r개가 되면 base case로 print하고 해당함수는 끝난다.\n",
    "        # - 내부함수들이 끝나는 것이기에... 어느것이 끝나는지는...\n",
    "        if len(chosen) == r:\n",
    "            print(chosen)\n",
    "            return\n",
    "\t\n",
    "        # 3.i번째를 고정시킨 상태에서, \n",
    "        # - i에 불이 안들어와있는 상태다 = 가장 바깥은 필요없지만.. 내부함수들은 바깥에서 고정된 것이기에 피해야한다.\n",
    "        for i in range(len(arr)):\n",
    "            # 사용했다는 불이 안들어온 상태다. 내부함수가 인식하도록, 내부함수호출직전에 켜주고, 직후에 꺼준다.\n",
    "            # 맨바깥은 for로 알아서 i가 돌아가고 있기 때문에 노상관. 내부에서 i불들어온 것 제끼고 r-1개 맞추라는 신호임.\n",
    "            if not used[i]:\n",
    "                # 4. 내부함수가 i원소를 채운 상태로 재귀호출하도록 넣어주고, 불을 켜준다.\n",
    "                chosen.append(arr[i])\n",
    "                used[i] = 1\n",
    "                generate(chosen, used) # 재귀상태로, 1개를 채운상태에서 r-1를 채우려고 호출된다.\n",
    "                # 5. i고정상태에서 r-1개를 다채워 r개를 완성했다는 뜻이니, 불을 꺼주고, 빼준다.\n",
    "                used[i] = 0\n",
    "                chosen.pop()\n",
    "                # 6. 자동으로 다음 i가 고정되서 시작한다.\n",
    "    generate([], used)\n",
    "\n",
    "\n",
    "permutation('ABCD', 2)"
   ]
  },
  {
   "cell_type": "markdown",
   "metadata": {},
   "source": [
    "#### 번외2 ) python으로순열 구현2 (블로그2, full 재귀함수로 처리. 다시 볼 것)"
   ]
  },
  {
   "cell_type": "code",
   "execution_count": 424,
   "metadata": {
    "ExecuteTime": {
     "end_time": "2021-09-06T03:02:05.038619Z",
     "start_time": "2021-09-06T03:02:05.030585Z"
    }
   },
   "outputs": [
    {
     "name": "stdout",
     "output_type": "stream",
     "text": [
      "[[2]]\n",
      "[[1, 2]]\n",
      "[[0, 1, 2]]\n",
      "[[0, 1, 2]]\n"
     ]
    }
   ],
   "source": [
    "# full 재귀\n",
    "# 출처: https://cotak.tistory.com/70 [Pool's Taek]\n",
    "def gen_permutations(arr, n):\n",
    "    result = []\n",
    "\n",
    "    if n == 0:\n",
    "        return [[]]\n",
    "\n",
    "    for i, elem in enumerate(arr): \n",
    "        # i번재 원소만 빼고, 대신 n-1개만 나머지로 순열 부분문제 정복상태 -> 각 요소들P\n",
    "        for P in gen_permutations(arr[:i] + arr[i+1:], n-1):\n",
    "            # i번째 원소를 맨마지막에 extend해서 붙임.\n",
    "#             [[2]]\n",
    "#             [[1, 2]]\n",
    "#             [[0, 1, 2]]\n",
    "#             [[0, 1, 2]]\n",
    "            # 순열도 제일 마지막에 첨가하면, 조합처럼 n-1개 완성 + 1개요소(n가지)가 된다?\n",
    "            result += [[elem]+P]\n",
    "            print(result)\n",
    "        break\n",
    "              \n",
    "    return result\n",
    "    \n",
    "    \n",
    "arr = [0, 1, 2, 3, 4, 5]\n",
    "\n",
    "print(gen_permutations(arr, 3))\n"
   ]
  },
  {
   "cell_type": "code",
   "execution_count": null,
   "metadata": {},
   "outputs": [],
   "source": []
  },
  {
   "cell_type": "markdown",
   "metadata": {},
   "source": [
    "#### 정답"
   ]
  },
  {
   "cell_type": "code",
   "execution_count": 282,
   "metadata": {
    "ExecuteTime": {
     "end_time": "2021-09-03T03:28:07.206015Z",
     "start_time": "2021-09-03T03:28:07.199012Z"
    }
   },
   "outputs": [
    {
     "name": "stdout",
     "output_type": "stream",
     "text": [
      "['ABC', 'ACB', 'BAC', 'BCA', 'CAB', 'CBA']\n",
      "['AB', 'AC', 'BA', 'BC', 'CA', 'CB']\n"
     ]
    }
   ],
   "source": [
    "# 파이썬에서는\n",
    "# itertools.permutation를 이용하면, for문을 사용하지 않고도 순열을 구할 수 있습니다.\n",
    "\n",
    "import itertools\n",
    "\n",
    "# pool = ['A', 'B', 'C']\n",
    "pool = 'ABC'\n",
    "print(list(map(''.join, itertools.permutations(pool)))) # 3개의 원소로 수열 만들기\n",
    "print(list(map(''.join, itertools.permutations(pool, 2)))) # 2개의 원소로 수열 만들기"
   ]
  },
  {
   "cell_type": "markdown",
   "metadata": {
    "ExecuteTime": {
     "end_time": "2021-09-03T03:27:40.501221Z",
     "start_time": "2021-09-03T03:27:40.498256Z"
    }
   },
   "source": [
    "#### 느낀점(itertools.permutations , combinations)\n",
    " - 문자열로 1글자씩으로 구성된 iter라 순열 또는 조합을 구할 수 있다.\n",
    "     -  리스트는 튜플 조합 리스트로 / 문자열을 문자열그대로의 리스트로 반환됨.\n",
    " - 원하는 구성원소갯수를 지정할 수 있다."
   ]
  },
  {
   "cell_type": "markdown",
   "metadata": {},
   "source": [
    "### (쳌)가장 많이 등장하는 알파벳 찾기 - Counter"
   ]
  },
  {
   "cell_type": "markdown",
   "metadata": {},
   "source": [
    "```\n",
    "문제 설명\n",
    "이 문제에는 표준 입력으로 문자열, mystr이 주어집니다. mystr에서 가장 많이 등장하는 알파벳만을 사전 순으로 출력하는 코드를 작성해주세요.\n",
    "\n",
    "제한 조건\n",
    "mystr의 원소는 알파벳 소문자로만 주어집니다.\n",
    "mystr의 길이는 1 이상 100 이하입니다.\n",
    "예시\n",
    "input\toutput\n",
    "'aab'\t'a'\n",
    "'dfdefdgf'\t'df'\n",
    "'bbaa'\t'ab'\n",
    "```"
   ]
  },
  {
   "cell_type": "markdown",
   "metadata": {},
   "source": [
    "#### 내풀이\n",
    " - dict에 단어마다 count 저장함\n",
    " - dict를 sorted( , reverse=True, key=lambda x:x[1])로 밸류순으로 역순으로 정렬 -> 가장 첫밸류값이 가장 최대값\n",
    " - 첫, 두번째 밸류 동점일 수 있으니, value만 뽑은 뒤.. dict.items()를 돌면서 value가 같은 것을 출력함."
   ]
  },
  {
   "cell_type": "code",
   "execution_count": 373,
   "metadata": {
    "ExecuteTime": {
     "end_time": "2021-09-04T11:08:07.226964Z",
     "start_time": "2021-09-04T11:08:02.287478Z"
    }
   },
   "outputs": [
    {
     "name": "stdout",
     "output_type": "stream",
     "text": [
      "aab\n",
      "a\n"
     ]
    }
   ],
   "source": [
    "my_str = input().strip()\n",
    "\n",
    "counter_dict = {}\n",
    "for key in my_str:\n",
    "    counter_dict.setdefault(key, 0)\n",
    "    counter_dict[key]+=1\n",
    "    \n",
    "max_value = sorted(counter_dict.items(), key=lambda x:x[1],reverse=True)[0][1]\n",
    "\n",
    "answer_list = []\n",
    "for k,v in counter_dict.items():\n",
    "    if v == max_value:\n",
    "        answer_list.append(k)\n",
    "        \n",
    "print(''.join(sorted(answer_list)))"
   ]
  },
  {
   "cell_type": "markdown",
   "metadata": {},
   "source": [
    "#### 정답"
   ]
  },
  {
   "cell_type": "code",
   "execution_count": null,
   "metadata": {},
   "outputs": [],
   "source": [
    "#  비 파이썬 -> dict에 세서 -> 나차럼 찾기\n",
    "# 다른 언어에서는..(또는 이 기능을 모르시는 분은) 보통 사람들은 반복문을 이용해 수를 셉니다.\n",
    "\n",
    "my_list = [1, 2, 3, 4, 5, 6, 7, 8, 7, 9, 1, 2, 3, 3, 5, 2, 6, 8, 9, 0, 1, 1, 4, 7, 0]\n",
    "answer = {}\n",
    "for number in my_list:\n",
    "    try:\n",
    "        answer[number] += 1\n",
    "    except KeyError:\n",
    "        answer[number] = 1\n",
    "\n",
    "print(answer[1]) # = 4\n",
    "print(answer[3])  # = 3\n",
    "print(answer[100])  # =  raise KeyError"
   ]
  },
  {
   "cell_type": "code",
   "execution_count": 399,
   "metadata": {
    "ExecuteTime": {
     "end_time": "2021-09-04T12:06:05.361744Z",
     "start_time": "2021-09-04T12:06:02.765199Z"
    }
   },
   "outputs": [
    {
     "name": "stdout",
     "output_type": "stream",
     "text": [
      "asdklfjaskdfekekjek\n",
      "Counter({'k': 5, 'e': 3, 'a': 2, 's': 2, 'd': 2, 'f': 2, 'j': 2, 'l': 1})\n"
     ]
    },
    {
     "data": {
      "text/plain": [
       "[('k', 5),\n",
       " ('e', 3),\n",
       " ('a', 2),\n",
       " ('s', 2),\n",
       " ('d', 2),\n",
       " ('f', 2),\n",
       " ('j', 2),\n",
       " ('l', 1)]"
      ]
     },
     "execution_count": 399,
     "metadata": {},
     "output_type": "execute_result"
    }
   ],
   "source": [
    "# 파이썬의 collections.Counter 클래스를 사용하면 이 코드를 간략하게 만들 수 있습니다.\n",
    "import collections\n",
    "\n",
    "my_str = input().strip()\n",
    "\n",
    "answer = collections.Counter(my_str)\n",
    "print(answer) # dict형태로 출력됨.\n",
    "\n",
    "#Counter객체는 .most_common() 으로 key, count의 튜플리스트가 나옴.\n",
    "answer.most_common() # "
   ]
  },
  {
   "cell_type": "code",
   "execution_count": 410,
   "metadata": {
    "ExecuteTime": {
     "end_time": "2021-09-04T12:08:40.625595Z",
     "start_time": "2021-09-04T12:08:40.619591Z"
    }
   },
   "outputs": [
    {
     "data": {
      "text/plain": [
       "5"
      ]
     },
     "execution_count": 410,
     "metadata": {},
     "output_type": "execute_result"
    }
   ],
   "source": [
    "# dict형태의 counter 객체도 .values()가 있다.\n",
    "dict_ = {'k': 5, 'e': 3, 'a': 2, 's': 2, 'd': 2, 'f': 2, 'j': 2, 'l': 1}\n",
    "\n",
    "dict_.values()\n",
    "# dict_.keys(), dict_.items()\n",
    "max(answer.values())"
   ]
  },
  {
   "cell_type": "code",
   "execution_count": 421,
   "metadata": {
    "ExecuteTime": {
     "end_time": "2021-09-04T12:17:34.115593Z",
     "start_time": "2021-09-04T12:17:29.486312Z"
    }
   },
   "outputs": [
    {
     "name": "stdout",
     "output_type": "stream",
     "text": [
      "aaadddwqierie\n"
     ]
    },
    {
     "data": {
      "text/plain": [
       "['a', 'd']"
      ]
     },
     "execution_count": 421,
     "metadata": {},
     "output_type": "execute_result"
    }
   ],
   "source": [
    "# 튜플리스트는 comp & for문에서 받기 좋다. -> for문으로 받아서 최대값 업데이트 + 최대값의 word들도 업데이트해보자.\n",
    "# -> values로 max값 바로 찾을 수 있다.\n",
    "# -> max값을 알 때, for문을 돌면서, key값들을 누적할 수 있다?\n",
    "# -> max값이 여러개일 수 있으니, 미리구한 최대값 == count 하면서 돌아야한다.\n",
    "my_list = input()\n",
    "max_count = max(collections.Counter(my_list).values())\n",
    "[ word for word, count in collections.Counter(my_list).items() if count == max_count]"
   ]
  },
  {
   "cell_type": "markdown",
   "metadata": {},
   "source": [
    "#### 느낀점 ( collections.Counter - dict + .most_common() )\n",
    "1. 비 파이썬이라도 dict에 저장하는 것은 똑같았다.\n",
    "2. collections.Counter()  -> dict와 유사하니, \n",
    "    -  `Counter.values()`로 max()를 구하고 \n",
    "    - **`list comp`로 `Counter.items()`를  k,v를 `받아서 필터링하자`**\n",
    "3. 빈도순으로 튜플리스트를 반환하는 것은 .most_common()이다."
   ]
  },
  {
   "cell_type": "markdown",
   "metadata": {},
   "source": [
    "## 기타 (7)"
   ]
  },
  {
   "cell_type": "markdown",
   "metadata": {},
   "source": [
    "### for 문과 if문을 한번에 - List comprehension의 if 문\n",
    "```\n",
    "문제 설명\n",
    "정수를 담은 리스트 mylist를 입력받아, 이 리스트의 원소 중 짝수인 값만을 제곱해 담은 새 리스트를 리턴하는 solution함수를 완성해주세요. 예를 들어, [3, 2, 6, 7]이 주어진 경우\n",
    "\n",
    "3은 홀수이므로 무시합니다.\n",
    "2는 짝수이므로 제곱합니다.\n",
    "6은 짝수이므로 제곱합니다.\n",
    "7은 홀수이므로 무시합니다.\n",
    "따라서 2의 제곱과 6의 제곱을 담은 리스트인 [4, 36]을 리턴해야합니다.\n",
    "\n",
    "제한 조건\n",
    "mylist는 길이가 100이하인 배열입니다.\n",
    "mylist의 원소는 1이상 100 이하인 정수입니다.\n",
    "```"
   ]
  },
  {
   "cell_type": "code",
   "execution_count": 425,
   "metadata": {
    "ExecuteTime": {
     "end_time": "2021-09-06T03:09:16.900319Z",
     "start_time": "2021-09-06T03:09:16.885357Z"
    }
   },
   "outputs": [
    {
     "data": {
      "text/plain": [
       "[4, 36]"
      ]
     },
     "execution_count": 425,
     "metadata": {},
     "output_type": "execute_result"
    }
   ],
   "source": [
    "mylist = [3, 2, 6, 7]\n",
    "answer = [number**2 for number in mylist if number % 2 == 0]\n",
    "answer"
   ]
  },
  {
   "cell_type": "markdown",
   "metadata": {},
   "source": [
    "#### 느낀점( X )"
   ]
  },
  {
   "cell_type": "code",
   "execution_count": null,
   "metadata": {},
   "outputs": [],
   "source": [
    "# 보통 사람들은 for 문 안에서 조건문을 사용해 2-depth 블록을 만듭니다.\n",
    "\n",
    "mylist = [3, 2, 6, 7]\n",
    "answer = []\n",
    "for number in mylist:\n",
    "    if number % 2 == 0:\n",
    "        answer.append(number**2) # 들여쓰기를 두 번 함\n",
    "\n",
    "# 파이썬의 list comprehension을 사용하면 한 줄 안에 for 문과 if 문을 한 번에 처리할 수 있습니다.\n",
    "\n",
    "mylist = [3, 2, 6, 7]\n",
    "answer = [number**2 for number in mylist if number % 2 == 0]"
   ]
  },
  {
   "cell_type": "markdown",
   "metadata": {},
   "source": [
    "### (쳌) flag변수 대신 for-else 사용하기"
   ]
  },
  {
   "cell_type": "markdown",
   "metadata": {
    "ExecuteTime": {
     "end_time": "2021-09-06T03:12:06.205981Z",
     "start_time": "2021-09-06T03:12:06.192986Z"
    }
   },
   "source": [
    "```\n",
    "문제 설명\n",
    "본 문제에서는 자연수 5개가 주어집니다.\n",
    "\n",
    "숫자를 차례로 곱해 나온 수가 제곱수가 되면 found를 출력하고\n",
    "모든 수를 곱해도 제곱수가 나오지 않았다면 not found를 출력하는\n",
    "코드를 작성해주세요.\n",
    "\n",
    "예시 1\n",
    "입력\n",
    "\n",
    "2\n",
    "4\n",
    "2\n",
    "5\n",
    "1\n",
    "출력\n",
    "found\n",
    "설명\n",
    "\n",
    "수를 곱해나가면 2, 8, 16, 80, 80 이 나옵니다. 16은 4를 제곱해 나온 수이므로 이 수는 제곱수입니다. 따라서 found를 출력합니다.\n",
    "\n",
    "예시 2\n",
    "입력\n",
    "\n",
    "5\n",
    "1\n",
    "2\n",
    "3\n",
    "1\n",
    "출력\n",
    "\n",
    "not found\n",
    "설명\n",
    "\n",
    "수를 곱해나가면 5, 5, 10, 30, 30 이 나옵니다. 이중 어떤 수도 제곱 수가 아니므로 not found를 출력합니다.\n",
    "```"
   ]
  },
  {
   "cell_type": "code",
   "execution_count": 434,
   "metadata": {
    "ExecuteTime": {
     "end_time": "2021-09-06T03:25:11.229436Z",
     "start_time": "2021-09-06T03:25:08.134043Z"
    }
   },
   "outputs": [
    {
     "name": "stdout",
     "output_type": "stream",
     "text": [
      "2\n",
      "4\n",
      "2\n",
      "5\n",
      "1\n",
      "2 1.4142135623730951\n",
      "8 2.8284271247461903\n",
      "16 4.0\n",
      "found\n",
      "2\n",
      "not found\n"
     ]
    }
   ],
   "source": [
    "data = [ int(input()) for _ in range(5)]\n",
    "\n",
    "import math\n",
    "\n",
    "product = 1\n",
    "\n",
    "check=False\n",
    "\n",
    "for n in data:\n",
    "    product*=n\n",
    "    if math.sqrt(product) == int(math.sqrt(product)) :\n",
    "        print('found')\n",
    "        check=True\n",
    "        break\n",
    "\n",
    "if check == False:\n",
    "    print('not found')"
   ]
  },
  {
   "cell_type": "markdown",
   "metadata": {},
   "source": [
    "#### 정답 "
   ]
  },
  {
   "cell_type": "code",
   "execution_count": 436,
   "metadata": {
    "ExecuteTime": {
     "end_time": "2021-09-06T03:34:45.998229Z",
     "start_time": "2021-09-06T03:34:43.968684Z"
    }
   },
   "outputs": [
    {
     "name": "stdout",
     "output_type": "stream",
     "text": [
      "2\n",
      "4\n",
      "2\n",
      "5\n",
      "1\n",
      "found\n"
     ]
    }
   ],
   "source": [
    "# for문이 중간에 break 등으로 끊기지 않고, >>끝까지 수행<< 되었을 때 수행하는 코드를 담고 있습니다.\n",
    "# https://harryp.tistory.com/317 [Park's Life]\n",
    "import math\n",
    "\n",
    "data = [ int(input()) for _ in range(5)]\n",
    "\n",
    "product = 1\n",
    "# check=False # 1. for내부에 if로 끊김을 나타내는 flag변수를 안쓴다.\n",
    "for n in data:\n",
    "    product*=n\n",
    "    if math.sqrt(product) == int(math.sqrt(product)) :\n",
    "        print('found')\n",
    "        #check=True\n",
    "        break\n",
    "# if check == False:\n",
    "# 2. for가 안끊기고 다 돌았다면, else문 실행시킨다.\n",
    "else:\n",
    "    print('not found')"
   ]
  },
  {
   "cell_type": "markdown",
   "metadata": {},
   "source": [
    "#### 느낀점( flag변수 대신 for-else문 -> for if 찾았으면 flag break 대신 for if 찾았으면처리 else못찾았다처리 + 제곱수 + 소수점.0의 int확인)\n",
    "\n",
    " - `for`_`if 조건: break` ->  만약 `다 돌았는데도 if brea에 안걸린 not found` == for 다돈 경우 `else` 조건X시 처리\n",
    "     - 원래는.. for문 내부에서 if 걸렸다? -> break하고 for문 뒤에는 실행 X 를  for문 밖 flag=True/False 변수에 전달해줬다.\n",
    "     - 이제는 for문 if 걸려서 flag = True + break -> if flag: 처리는 하지 말자.\n",
    "         - **for문 if 걸려서 break -> 만약 안걸리고 다돌면 처리를 else문에서**\n",
    "         \n",
    " - `제곱수`의 판단 : math.sqrt()를 씌웠을 때 int여야한다.\n",
    "     - 하지만 sqrt()씌우는 순간 int라도 2.0 3.0 이 되어버린다.\n",
    "     - `정수.0`의 int 판단방법\n",
    "         - **int()변환값  == 현재값 ( 전환된 값의 비교로 판단 )**\n",
    "     - cf) 정수 판단 방법\n",
    "         - isinstance( , int)\n",
    "         - type( v ) == int "
   ]
  },
  {
   "cell_type": "markdown",
   "metadata": {},
   "source": [
    "### 두 변수의 값 바꾸기 - swap\n"
   ]
  },
  {
   "cell_type": "markdown",
   "metadata": {
    "ExecuteTime": {
     "end_time": "2021-09-07T03:21:12.465894Z",
     "start_time": "2021-09-07T03:21:12.457931Z"
    }
   },
   "source": [
    "```python\n",
    "# 비 파이썬은 덮어쓰기 당할 변수값을 temp에 넣어놓고 덮어쓰기 -> 다른쪽 덮어쓰기\n",
    "a = 3\n",
    "b = 'abc'\n",
    "\n",
    "temp = a\n",
    "a = b\n",
    "b = temp\n",
    "```\n",
    "\n",
    "파이썬에서는 다음과 같이 한 줄로 두 값을 바꿔치기할 수 있음.\n",
    "```\n",
    "a = 3\n",
    "b = 'abc'\n",
    "\n",
    "a, b = b, a \n",
    "```"
   ]
  },
  {
   "cell_type": "markdown",
   "metadata": {},
   "source": [
    "### (쳌) 이진 탐색하기 - bisect 모듈\n",
    " - 알고리즘 문제를 풀다 보면 이진 탐색을 써야할 때가 많습니다. 이런 문제를 풀 때마다 이진 탐색 알고리즘을 작성하는 건 비효율적이지요.\n",
    "이번 시간엔 Python의 이진 탐색 모듈, bisect를 알아봅시다."
   ]
  },
  {
   "cell_type": "code",
   "execution_count": 451,
   "metadata": {
    "ExecuteTime": {
     "end_time": "2021-09-07T05:46:56.379890Z",
     "start_time": "2021-09-07T05:46:56.372970Z"
    }
   },
   "outputs": [
    {
     "name": "stdout",
     "output_type": "stream",
     "text": [
      "3\n"
     ]
    }
   ],
   "source": [
    "# 직접 이진 탐색 구현 \n",
    "# - while문에 if 탈출(break or def-return)이 없다? -> 다돌고 <조건문 직후 상태>로 빠져나와서 최종 처리한다는 뜻\n",
    "# ex> while low < high  ->   low >= high순간에 빠져나옴. 주로 직후인 low==high에서 빠져나와 마지막 처리\n",
    "def bisect(a, x, lo=0, hi=None):\n",
    "    if lo < 0:\n",
    "        raise ValueError('lo must be non-negative')\n",
    "    if hi is None:\n",
    "        hi = len(a)\n",
    "    while lo < hi:\n",
    "        mid = (lo + hi) // 2\n",
    "        if a[mid] < x:\n",
    "            lo = mid + 1\n",
    "        else:\n",
    "            hi = mid\n",
    "    return lo\n",
    "\n",
    "mylist = [1, 2, 3, 7, 9, 11, 33]\n",
    "\n",
    "print(bisect(mylist, 5)) # ??? 없는 것도 나온다?"
   ]
  },
  {
   "cell_type": "code",
   "execution_count": null,
   "metadata": {},
   "outputs": [],
   "source": []
  },
  {
   "cell_type": "code",
   "execution_count": 457,
   "metadata": {
    "ExecuteTime": {
     "end_time": "2021-09-07T05:51:07.354804Z",
     "start_time": "2021-09-07T05:51:07.347856Z"
    }
   },
   "outputs": [
    {
     "name": "stdout",
     "output_type": "stream",
     "text": [
      "5\n",
      "7\n",
      "3\n"
     ]
    }
   ],
   "source": [
    "# 파이썬의 bisect.bisect 메소드를 사용하면 이 코드를 간략하게 만들 수 있습니다.\n",
    "# 실제 list index의 +1을 반환하는 것 같다.\n",
    "# ** 해당 숫자 n을 어디에 insert해야하는지의 위치를 보여준다.**\n",
    "# 1) 같은게 있으면? 그  index +1 자리에 넣어라\n",
    "# 2) 같은게 없으면? 오름차순으로 넣어야할 자리는 여기다.\n",
    "import bisect\n",
    "\n",
    "mylist = [1, 2, 3, 7, 9, 11, 33]\n",
    "\n",
    "print(bisect.bisect(mylist, 9)) # 같은게 4에 있으니 5번째 들어가야한다.\n",
    "print(bisect.bisect(mylist, 33)) #  같은게 6에 있으니 7에 들어가야한다.\n",
    "print(bisect.bisect(mylist, 5)) # 없는데 <<오름차순>> 4->value 3 뒤의 5자리에 들어가야한다."
   ]
  },
  {
   "cell_type": "code",
   "execution_count": 453,
   "metadata": {
    "ExecuteTime": {
     "end_time": "2021-09-07T05:48:18.888749Z",
     "start_time": "2021-09-07T05:48:18.883748Z"
    }
   },
   "outputs": [],
   "source": [
    "# sequence.index or string.find를 하면 되지않느냐?\n",
    "\n",
    "\n",
    "# index 함수는 이진 탐색이 아닌 선형 탐색 함수입니다.\n",
    "# (물론 주어진 input에 대해서 index 함수를 쓰면 정확한 output 값을 얻을 수 있긴 합니다.)\n",
    "\n",
    "# 이진탐색의 시간복잡도는 O(logN) 이나,\n",
    "# index 함수는 선형탐색을 하므로 시간복잡도가 O(N)이라 시간이 오래 걸립니다.\n",
    "\n",
    "\n",
    "# bisect.bisect(mylist, n)의 n은 mylist에서 찾고자하는 값입니다.\n",
    "# bisect.bisect(mylist, n)이 리턴하는 값, x는 mylist에서 n이 위치한 index의 오른쪽 값을 나타냅니다.\n",
    "# insertion point를 리턴합니다. 즉, 3의 인덱스는 2이므로 이 다음에 있는 insertion point는 2+1 = 3이 되는 것이지요.\n",
    "\n",
    "# 말씀하신대로 bisect는 key 가 없으면 key가 들어갈 위치를 반환합니다.\n"
   ]
  },
  {
   "cell_type": "code",
   "execution_count": 458,
   "metadata": {
    "ExecuteTime": {
     "end_time": "2021-09-07T05:53:01.382880Z",
     "start_time": "2021-09-07T05:53:01.375879Z"
    }
   },
   "outputs": [],
   "source": [
    "# bisect을 이용해서, \n",
    "# - 내뱉은 point가 .. 직전에 같은값이 있어서 그 바로 뒤라면? i-1 반환\n",
    "# - 내뱉은 point가.. 직전에 같은값은 없으나.. 순서라서 줬다면? 그냥 탐색 실패-> -1반환\n",
    "import bisect\n",
    "def b_s(ary,key):\n",
    "    i= bisect.bisect(ary,key)\n",
    "    return i-1 if ary[i-1]==key else -1"
   ]
  },
  {
   "cell_type": "markdown",
   "metadata": {},
   "source": [
    "#### 느낀점(bisect.bisect( list, value) ---> return or insert point, 바로앞에 있거나 못찾았지만 정렬상 그자리)\n",
    " - 정렬된 list라면, 이진탐색을 bisect.bisect로 할 수 있다.\n",
    "     - return된 값이. 실제 있떤 값이면 i + 1 = return값이다. -> return값 - 1을 하자\n",
    "     - return된 값이. 없으나 정렬상 그자리에 들어가라고 return한 값이다 -> ??? 직전과 값이 같앗 뱉은 건지 확인해야한다.\n",
    "         - if number == list[return value - 1] ->returnvalue -1 else None.."
   ]
  },
  {
   "cell_type": "markdown",
   "metadata": {},
   "source": [
    "### 클래스 인스턴스 출력하기 - class의 자동 string casting"
   ]
  },
  {
   "cell_type": "markdown",
   "metadata": {
    "ExecuteTime": {
     "end_time": "2021-09-08T03:03:13.902385Z",
     "start_time": "2021-09-08T03:03:13.873375Z"
    }
   },
   "source": [
    "```\n",
    "이번 강의에서는 인스턴스 출력 형식을 지정하는 방법을 배워봅시다.\n",
    "\n",
    "예) 2차원 평면 위의 점을 나타내는 Coord 클래스의 인스턴스를 (x 값, y 값)으로 출력하기\n",
    "\n"
   ]
  },
  {
   "cell_type": "code",
   "execution_count": null,
   "metadata": {},
   "outputs": [],
   "source": [
    "# 비파이썬 : 각 객체 정보보려면, 조회해서+print하는 함수를 따로 만들었어야했다.\n",
    "\n",
    "class Coord(object):\n",
    "    def __init__(self, x, y):\n",
    "        self.x, self.y = x, y\n",
    "\n",
    "        \n",
    "        \n",
    "point = Coord(1, 2)\n",
    "print( '({}, {})'.format(point.x, point.y) ) \n",
    "\n",
    "# 또는\n",
    "def print_coord(coord):\n",
    "    print( '({}, {})'.format(coord.x, coord.y) )\n",
    "print_coord(point)"
   ]
  },
  {
   "cell_type": "code",
   "execution_count": 462,
   "metadata": {
    "ExecuteTime": {
     "end_time": "2021-09-08T03:04:50.782593Z",
     "start_time": "2021-09-08T03:04:50.771591Z"
    }
   },
   "outputs": [
    {
     "name": "stdout",
     "output_type": "stream",
     "text": [
      "(1, 2)\n"
     ]
    },
    {
     "data": {
      "text/plain": [
       "<__main__.Coord at 0x1ed8d397e80>"
      ]
     },
     "execution_count": 462,
     "metadata": {},
     "output_type": "execute_result"
    }
   ],
   "source": [
    "# 파이썬에서는 : 객체 정보를 print()시 바로 나오게 하기 위해\n",
    "# __str__ 메소드를 사용해 class 내부에서 **출력 format**을 지정할 수 있습니다.\n",
    "\n",
    "class Coord(object):\n",
    "    def __init__ (self, x, y):\n",
    "        self.x, self.y = x, y\n",
    "    def __str__ (self):\n",
    "        return '({}, {})'.format(self.x, self.y)\n",
    "\n",
    "point = Coord(1, 2)\n",
    "print(point)\n",
    "point"
   ]
  },
  {
   "cell_type": "markdown",
   "metadata": {},
   "source": [
    "#### 느낀점 ( str오버라이딩 )\n",
    "1. print + interpret에 출력까지 될라면 repr를 오버라이딩한다.\n",
    "2. **`객체정보`를 직접 찍어보지말자! 메소드 정의(비파이썬) 나 `메소드 오버라이딩으로 확인`하자.!**"
   ]
  },
  {
   "cell_type": "markdown",
   "metadata": {},
   "source": [
    "### (쳌) 가장 큰 수, inf \n"
   ]
  },
  {
   "cell_type": "markdown",
   "metadata": {},
   "source": [
    "코딩 테스트 문제 등을 풀다 보면, 최솟값을 저장하는 변수에 아주 큰 값을 할당해야 할 때가 있습니다. 이번 시간에는 이때에 사용하기 좋은 inf에 대해 알아봅시다.\n",
    "\n",
    "이 기능을 모르시는 분은\n",
    "본인이 생각하는 임의의 큰 수(99999등)를 할당합니다.\n",
    "\n",
    "```python\n",
    "# 비파이썬에서, 최소값을 구할려구 미리 큰값을 넣어올 때,\n",
    "\n",
    "min_val = 99999\n",
    "min_val > 100000000 # ?\n",
    "```\n",
    "\n",
    "```python\n",
    "# 파이썬에서, 최소값을 구할려구 미리 큰값을 넣어올 때,\n",
    "# 파이썬이 제공하는 inf 를 사용. inf는 어떤 숫자와 비교해도 무조건 크다고 판정\n",
    "\n",
    "min_val = float('inf')\n",
    "min_val > 10000000000\n",
    "```\n",
    "\n",
    "inf에는 음수 기호를 붙이는 것도 가능합니다.\n",
    "\n",
    "```python\n",
    "max_val = float('-inf')\n",
    "```\n"
   ]
  },
  {
   "cell_type": "markdown",
   "metadata": {},
   "source": [
    "#### 느낀점 - float('inf'), float('-inf')\n",
    "\n",
    "1. 최대값을 찾을 때, 일단 작은값을 변수에 넣어놓고 돈다.\n",
    "    - 가장 작은 값은 float('-inf') / 가장 큰 값은 float('inf') 로 초기값을 넣고 해결하자!"
   ]
  },
  {
   "cell_type": "code",
   "execution_count": 463,
   "metadata": {
    "ExecuteTime": {
     "end_time": "2021-09-08T03:12:37.201728Z",
     "start_time": "2021-09-08T03:12:37.192716Z"
    }
   },
   "outputs": [
    {
     "data": {
      "text/plain": [
       "inf"
      ]
     },
     "execution_count": 463,
     "metadata": {},
     "output_type": "execute_result"
    }
   ],
   "source": [
    "float('inf')"
   ]
  },
  {
   "cell_type": "code",
   "execution_count": 464,
   "metadata": {
    "ExecuteTime": {
     "end_time": "2021-09-08T03:12:42.300411Z",
     "start_time": "2021-09-08T03:12:42.294410Z"
    }
   },
   "outputs": [
    {
     "data": {
      "text/plain": [
       "-inf"
      ]
     },
     "execution_count": 464,
     "metadata": {},
     "output_type": "execute_result"
    }
   ],
   "source": [
    "float('-inf')"
   ]
  },
  {
   "cell_type": "markdown",
   "metadata": {
    "ExecuteTime": {
     "end_time": "2021-09-08T03:22:08.697038Z",
     "start_time": "2021-09-08T03:22:08.693040Z"
    }
   },
   "source": [
    "### 파일 입출력 간단하게 하기 - with open as f  for line in f.readlines()"
   ]
  },
  {
   "cell_type": "markdown",
   "metadata": {},
   "source": [
    "이번 강의에서는 파일 입출력 코드를 간결하게 짜는 법을 알아봅시다.\n",
    "\n",
    "'myfile.txt'라는 이름의 파일을 읽는 코드를 짜보세요"
   ]
  },
  {
   "cell_type": "code",
   "execution_count": 467,
   "metadata": {
    "ExecuteTime": {
     "end_time": "2021-09-08T03:25:48.646480Z",
     "start_time": "2021-09-08T03:25:48.601449Z"
    }
   },
   "outputs": [
    {
     "ename": "FileNotFoundError",
     "evalue": "[Errno 2] No such file or directory: 'myfile.txt'",
     "output_type": "error",
     "traceback": [
      "\u001b[1;31m---------------------------------------------------------------------------\u001b[0m",
      "\u001b[1;31mFileNotFoundError\u001b[0m                         Traceback (most recent call last)",
      "\u001b[1;32m<ipython-input-467-4f9a0ee2adde>\u001b[0m in \u001b[0;36m<module>\u001b[1;34m\u001b[0m\n\u001b[0;32m      1\u001b[0m \u001b[1;31m# 비파이썬\u001b[0m\u001b[1;33m\u001b[0m\u001b[1;33m\u001b[0m\u001b[1;33m\u001b[0m\u001b[0m\n\u001b[0;32m      2\u001b[0m \u001b[1;31m# 1. open -> 2. 반복문 while -> 3.line = readlins() +  if not line: break   + line처리 -> 4. close\u001b[0m\u001b[1;33m\u001b[0m\u001b[1;33m\u001b[0m\u001b[1;33m\u001b[0m\u001b[0m\n\u001b[1;32m----> 3\u001b[1;33m \u001b[0mf\u001b[0m \u001b[1;33m=\u001b[0m \u001b[0mopen\u001b[0m\u001b[1;33m(\u001b[0m\u001b[1;34m'myfile.txt'\u001b[0m\u001b[1;33m,\u001b[0m \u001b[1;34m'r'\u001b[0m\u001b[1;33m)\u001b[0m\u001b[1;33m\u001b[0m\u001b[1;33m\u001b[0m\u001b[0m\n\u001b[0m\u001b[0;32m      4\u001b[0m \u001b[1;32mwhile\u001b[0m \u001b[1;32mTrue\u001b[0m\u001b[1;33m:\u001b[0m\u001b[1;33m\u001b[0m\u001b[1;33m\u001b[0m\u001b[0m\n\u001b[0;32m      5\u001b[0m     \u001b[0mline\u001b[0m \u001b[1;33m=\u001b[0m \u001b[0mf\u001b[0m\u001b[1;33m.\u001b[0m\u001b[0mreadline\u001b[0m\u001b[1;33m(\u001b[0m\u001b[1;33m)\u001b[0m\u001b[1;33m\u001b[0m\u001b[1;33m\u001b[0m\u001b[0m\n",
      "\u001b[1;31mFileNotFoundError\u001b[0m: [Errno 2] No such file or directory: 'myfile.txt'"
     ]
    }
   ],
   "source": [
    "# 비파이썬\n",
    "# 1. open -> 2. 반복문 while -> 3.line = readlins() +  if not line: break   + line처리 -> 4. close\n",
    "f = open('myfile.txt', 'r')\n",
    "while True:\n",
    "    line = f.readline()\n",
    "    if not line: \n",
    "        break\n",
    "    raw = line.split()\n",
    "    print(raw)\n",
    "f.close()\n"
   ]
  },
  {
   "cell_type": "code",
   "execution_count": 468,
   "metadata": {
    "ExecuteTime": {
     "end_time": "2021-09-08T03:29:52.132626Z",
     "start_time": "2021-09-08T03:29:52.116620Z"
    }
   },
   "outputs": [
    {
     "ename": "FileNotFoundError",
     "evalue": "[Errno 2] No such file or directory: 'myfile.txt'",
     "output_type": "error",
     "traceback": [
      "\u001b[1;31m---------------------------------------------------------------------------\u001b[0m",
      "\u001b[1;31mFileNotFoundError\u001b[0m                         Traceback (most recent call last)",
      "\u001b[1;32m<ipython-input-468-1cec8ae34904>\u001b[0m in \u001b[0;36m<module>\u001b[1;34m\u001b[0m\n\u001b[0;32m      5\u001b[0m \u001b[1;33m\u001b[0m\u001b[0m\n\u001b[0;32m      6\u001b[0m \u001b[1;31m# my) python은 readlines()가 EOF를 알아서 인식하니 -> 반복문 in 자리에 넣으면 된다. -> EOF 체크 필요없음.\u001b[0m\u001b[1;33m\u001b[0m\u001b[1;33m\u001b[0m\u001b[1;33m\u001b[0m\u001b[0m\n\u001b[1;32m----> 7\u001b[1;33m \u001b[1;32mwith\u001b[0m \u001b[0mopen\u001b[0m\u001b[1;33m(\u001b[0m\u001b[1;34m'myfile.txt'\u001b[0m\u001b[1;33m)\u001b[0m \u001b[1;32mas\u001b[0m \u001b[0mfile\u001b[0m\u001b[1;33m:\u001b[0m\u001b[1;33m\u001b[0m\u001b[1;33m\u001b[0m\u001b[0m\n\u001b[0m\u001b[0;32m      8\u001b[0m     \u001b[1;32mfor\u001b[0m \u001b[0mline\u001b[0m \u001b[1;32min\u001b[0m \u001b[0mfile\u001b[0m\u001b[1;33m.\u001b[0m\u001b[0mreadlines\u001b[0m\u001b[1;33m(\u001b[0m\u001b[1;33m)\u001b[0m\u001b[1;33m:\u001b[0m\u001b[1;33m\u001b[0m\u001b[1;33m\u001b[0m\u001b[0m\n\u001b[0;32m      9\u001b[0m         \u001b[0mprint\u001b[0m\u001b[1;33m(\u001b[0m\u001b[0mline\u001b[0m\u001b[1;33m.\u001b[0m\u001b[0mstrip\u001b[0m\u001b[1;33m(\u001b[0m\u001b[1;33m)\u001b[0m\u001b[1;33m.\u001b[0m\u001b[0msplit\u001b[0m\u001b[1;33m(\u001b[0m\u001b[1;34m'\\t'\u001b[0m\u001b[1;33m)\u001b[0m\u001b[1;33m)\u001b[0m\u001b[1;33m\u001b[0m\u001b[1;33m\u001b[0m\u001b[0m\n",
      "\u001b[1;31mFileNotFoundError\u001b[0m: [Errno 2] No such file or directory: 'myfile.txt'"
     ]
    }
   ],
   "source": [
    "# 파이썬 \n",
    "# with - as 구문을 이용하면 코드를 더 간결하게 짤 수 있습니다. 코드를 아래와 같이 쓰면 다음과 같은 장점이 있습니다.\n",
    "# 1. 파일을 close 하지 않아도 됩니다: with - as 블록이 종료되면 파일이 자동으로 close 됩니다.\n",
    "# 2. readlines가 EOF까지만 읽으므로, while 문 안에서 EOF를 체크할 필요가 없습니다.\n",
    "\n",
    "# my) python은 readlines()가 EOF를 알아서 인식하니 -> 반복문 in 자리에 넣으면 된다. -> EOF 체크 필요없음.\n",
    "with open('myfile.txt') as file:\n",
    "    for line in file.readlines():\n",
    "        print(line.strip().split('\\t'))"
   ]
  },
  {
   "cell_type": "markdown",
   "metadata": {},
   "source": [
    "#### 느낀점 - with as 와 python readlines()\n",
    "1. with as f -> `close 안해도됨` + `f.readlines()시 EOF 체크 자동으로 되니 반복문에 바로 삽입`\n",
    "3. **boj input() 등 f.readlines()와 달리 언제 EOF인지는 모를 땐, try except EOFError로 break해주자.**"
   ]
  },
  {
   "cell_type": "code",
   "execution_count": null,
   "metadata": {},
   "outputs": [],
   "source": []
  },
  {
   "cell_type": "markdown",
   "metadata": {
    "ExecuteTime": {
     "end_time": "2021-09-08T03:20:08.695314Z",
     "start_time": "2021-09-08T03:20:08.688309Z"
    }
   },
   "source": [
    "#### 참고)  입력의 끝(EOF) 확인 by except EOFError: break\n",
    " - f.readlines()는 알아서 EOF(end of file)을 체크하지만, \n",
    "     - **boj등 input()이 언제 EOF인지는 모르니까, try except EOFError로 break해주자.**\n",
    "\n",
    "\n",
    "```python\n",
    "\n",
    "while 1:\n",
    "    try:\n",
    "        ins=input()\n",
    "    \n",
    "        ans = fun(ins)\n",
    "        if ans == -1:\n",
    "            break;\n",
    "        else:\n",
    "            print(ans)\n",
    "    except EOFError:\n",
    "        break\n",
    "```"
   ]
  }
 ],
 "metadata": {
  "kernelspec": {
   "display_name": "Python 3",
   "language": "python",
   "name": "python3"
  },
  "language_info": {
   "codemirror_mode": {
    "name": "ipython",
    "version": 3
   },
   "file_extension": ".py",
   "mimetype": "text/x-python",
   "name": "python",
   "nbconvert_exporter": "python",
   "pygments_lexer": "ipython3",
   "version": "3.8.5"
  },
  "toc": {
   "base_numbering": 1,
   "nav_menu": {},
   "number_sections": true,
   "sideBar": true,
   "skip_h1_title": false,
   "title_cell": "Table of Contents",
   "title_sidebar": "Contents",
   "toc_cell": false,
   "toc_position": {
    "height": "calc(100% - 180px)",
    "left": "10px",
    "top": "150px",
    "width": "271.729px"
   },
   "toc_section_display": true,
   "toc_window_display": true
  },
  "varInspector": {
   "cols": {
    "lenName": 16,
    "lenType": 16,
    "lenVar": 40
   },
   "kernels_config": {
    "python": {
     "delete_cmd_postfix": "",
     "delete_cmd_prefix": "del ",
     "library": "var_list.py",
     "varRefreshCmd": "print(var_dic_list())"
    },
    "r": {
     "delete_cmd_postfix": ") ",
     "delete_cmd_prefix": "rm(",
     "library": "var_list.r",
     "varRefreshCmd": "cat(var_dic_list()) "
    }
   },
   "types_to_exclude": [
    "module",
    "function",
    "builtin_function_or_method",
    "instance",
    "_Feature"
   ],
   "window_display": false
  }
 },
 "nbformat": 4,
 "nbformat_minor": 4
}
