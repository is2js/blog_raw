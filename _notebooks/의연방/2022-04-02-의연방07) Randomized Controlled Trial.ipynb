{
 "cells": [
  {
   "cell_type": "markdown",
   "id": "2b60a10e",
   "metadata": {},
   "source": [
    "# \"의연방07) RCT 연구\"\n",
    "> \"Randomized Controlled Trial\"\n",
    "\n",
    "- toc:true\n",
    "- branch: master\n",
    "- badges: true\n",
    "- comments: true\n",
    "- author: tingstyle1\n",
    "- categories: [R, 통계, 대학원, 의연방, RCT]\n",
    "- image: \"images/posts/data.png\""
   ]
  },
  {
   "cell_type": "markdown",
   "id": "fe654545",
   "metadata": {},
   "source": [
    "## 학습 개요"
   ]
  },
  {
   "cell_type": "markdown",
   "id": "ced94180",
   "metadata": {},
   "source": [
    "### 학습목표\n",
    "- RCT의 정의와 목적을 설명할 수 있다.\n",
    "\n",
    "- 랜덤화의 목적과 구체적인 방법을 설명할 수 있다.\n",
    "\n",
    "- RCT의 결과를 보고하는 원칙과 포함되어야하는 내용을 설명할 수 있다.\n",
    "\n"
   ]
  },
  {
   "cell_type": "markdown",
   "id": "68f85c07",
   "metadata": {},
   "source": [
    "### 주요용어\n",
    "- 랜덤화 (Randomization) : 모든, 각각의 연구대상자를 치료군과 대조군에 확률적으로 배정하는 과정\n",
    "\n",
    "- 대조군 (Control group) : 연구의 대상이 되는 intervention을 받지 않는, 비교의 기준이 되는 그룹\n",
    "\n",
    "- 눈가림 (Blinding) : 각 연구대상자가 어떤 그룹에 속했는지 모르게 하는 것 \n",
    "\n",
    "- ITT(intention-to-treat) principle : 랜덤 배정된 모든 환자의 모든 데이터를, 배정된 그룹으로 간주하여 분석한다는 원칙\n",
    "\n"
   ]
  },
  {
   "cell_type": "markdown",
   "id": "c64a3964",
   "metadata": {},
   "source": [
    "## RCT"
   ]
  },
  {
   "cell_type": "markdown",
   "id": "df3d5d71",
   "metadata": {},
   "source": [
    "### RCT in clinical research\n"
   ]
  },
  {
   "cell_type": "markdown",
   "id": "8707642d",
   "metadata": {},
   "source": [
    "- 앞서서 `관찰 연구`들(cohort, cross-sectional, case-control study)에 대해 살펴보고, 그 연구들에서 `위험요소와 질병간의 상관관계`를 알아보았다.\n",
    "\n",
    "- **위험요소와 질병의 상관관계, 인과관계 연구의 최종 목표**\n",
    "    - **`modifiable risk factors`를 modify하는 `인터벤션`을 통해 질병을 예방, 치료, 완화하는 것**\n",
    "- 이 위험요소를 수정하는 `인터벤션`이 실제로 `질병발생에 효과가 있는지/없는지`를 과학적으로 증거를 살펴봐야지, 실제로 임상시험에 사용할 수 있다.\n",
    "    - **`RCT`: `인터벤션`(위험요소 수정)과 `질병`과의 `인과관계`를 과학적으로 `rigorous하게 보이는 유일한 방법`**\n",
    "    \n",
    "- **`임상시험(Clinical trial)`: `사람`을 대상으로 `전향적`으로 `인터벤션의 효과`를 평가하는 연구**\n",
    "    - 임상시험 중에서도, **(관심인구가 있는 상태에서) `사람=연구대상자=(치료군vs대조군)을 랜덤하게 배정`하는 임상시험을 `RCT`**라 한다.\n",
    "        - my) case-controls study: 질병O군 -> 질병X군 & 연구자가 지정\n",
    "        - my) RCT: 치료군 + 치료X군 & 랜덤하게 지정\n",
    "\n",
    "\n"
   ]
  },
  {
   "cell_type": "markdown",
   "id": "621f788b",
   "metadata": {},
   "source": [
    "![image-20220424202921116](https://raw.githubusercontent.com/is2js/screenshots/main/image-20220424202921116.png)\n",
    "- Study population: 관심 그룹\n",
    "    - 랜덤하게 배정한 \n",
    "        1. 치료군(Intervention)\n",
    "            - 이 중에 얼마나 질병이 나았나\n",
    "            - 이 중에 얼마나 질병이 낫지 않았나\n",
    "        2. 대조군(Control)\n",
    "            - 이 중에 얼마나 질병이 나았나\n",
    "            - 이 중에 얼마나 질병이 낫지 않았나\n",
    "            \n",
    "- 이 중에 얼마나 질병이 나았나/낫지 않았나의 비율이 -> 치료군과 대조군 사이에 차이가 있는지 확인한다."
   ]
  },
  {
   "cell_type": "markdown",
   "id": "119392f4",
   "metadata": {},
   "source": [
    "### 랜덤화 (Randomization)"
   ]
  },
  {
   "cell_type": "markdown",
   "id": "3cb0cc29",
   "metadata": {},
   "source": [
    "- 랜덤화의 목적: **랜덤하게 배정하면 Confounder가 없어진다 & 뽑을 때 발생하는 bias없이 인터벤션->질병의 효과를 추정**\n",
    "    - 앞서, 위험요소-질병간의 상관관계가 관측되었을 때, 상관관계가 진짜인지? \n",
    "        - **`인과관계로 인한 상관관계` vs `confounder때문에 겉으로 보기에만 발생한 상관관계` 구분해야한다고 했다.**\n",
    "        - **우리는 인과관계를 성립하고 싶다 -> 방해가되는 confounding을 없애야한다 -> 그 수단이 `랜덤화`로서, random chance로만 인터벤션O/X 여부(치료군/대조군)가 결정되어 systematic difference가 없어진다 -> confounder의 개입효과가 없어진다 -> 치료군/대조군 간의 차이는 오직 인터벤션O/X의 차이 때문이다.**\n",
    "            - confounder의 설명변수(intervention)에 대한 효과가 끊어진다. 인터벤션O/X여부가 오로지 확률에 의해서만 결정된다.\n",
    "            - 이 상태에서, 인터벤션-outcome간의 상관관계 = 100% 인과관계에 의한 것\n",
    "    ![image-20220424203305826](https://raw.githubusercontent.com/is2js/screenshots/main/image-20220424203305826.png)"
   ]
  },
  {
   "cell_type": "markdown",
   "id": "039747af",
   "metadata": {},
   "source": [
    "### 임상시험의 4단계"
   ]
  },
  {
   "cell_type": "markdown",
   "id": "ce36fa6b",
   "metadata": {},
   "source": [
    "- Phase I\n",
    "- Phase II\n",
    "- Phase III\n",
    "- Phase IV\n"
   ]
  },
  {
   "cell_type": "markdown",
   "id": "196e3f9d",
   "metadata": {},
   "source": [
    "#### Phase I Trials"
   ]
  },
  {
   "cell_type": "markdown",
   "id": "fad50b4c",
   "metadata": {},
   "source": [
    "- **상관관계 등을 살펴보기 이전에, 인터벤션이 사람한테 해도 되는지/어느 강도로 해야하는지 안전성에 대한 시험**\n",
    "\n",
    "- DLT(dose-limiting toxicity)를 정해놓고 -> MTD(정해진 비율의 환자가 DLT를 겪게 되는 dose)를 추정하는 것이 주 목적\n",
    "    \n",
    "\n",
    "![image-20220424204349421](https://raw.githubusercontent.com/is2js/screenshots/main/image-20220424204349421.png)"
   ]
  },
  {
   "cell_type": "markdown",
   "id": "a0005be2",
   "metadata": {},
   "source": [
    "#### Phase II Trials"
   ]
  },
  {
   "cell_type": "markdown",
   "id": "a2786418",
   "metadata": {},
   "source": [
    "- **phase 3로 갈지/말지를 판단하는 작은 스터디**\n",
    "- safety 목표 : toxicity에 대한 정보를 더 모으고 dose 확정\n",
    "- efficacy 목표 : 단기 효과 추정.“proof-of-concept” study\n",
    "- 보통 100명 미만, 많아도 200 ~ 300명 미만의 연구대상자"
   ]
  },
  {
   "cell_type": "markdown",
   "id": "cf9d99bd",
   "metadata": {},
   "source": [
    "#### Phase III Trials"
   ]
  },
  {
   "cell_type": "markdown",
   "id": "2f7b7a70",
   "metadata": {},
   "source": [
    "- Full-scale, confirmatory study\n",
    "- 반드시 대조군이 있어야 함.\n",
    "- 일반적으로 말하는 Randomized Controlled Clinical Trial (RCT)에 해당됨\n",
    "    - **인터벤션의 효과가 있다/없다를 가르는 최종 Trial. 보통의 RCT를 의미함**\n",
    "- 300 ~ 3000명, 경우에 따라서는 그 이상의 연구대상자\n",
    "- 의약품 시판 허가를 위해서 필요"
   ]
  },
  {
   "cell_type": "markdown",
   "id": "20a7d35e",
   "metadata": {},
   "source": [
    "#### Phase IV Trials"
   ]
  },
  {
   "cell_type": "markdown",
   "id": "5bdeaae6",
   "metadata": {},
   "source": [
    "- **시판된 의약품을 대상으로, 리얼월드에서 어떻게 효과가 관찰되는지 보는 study**\n",
    "- **phase 3에서 보기 힘들었던 장기효과 or 드문 부작용을 보게 된다.**\n",
    "- 의약품 혹은 의료장비가 시판된 후에 이루어지는 장기 연구\n",
    "- Phase III Trials에서 관측되지 못한 것들에 대한 추적 관찰\n",
    "\t- 장기 효과\n",
    "\t- rare side effect\n",
    "\t- 결과에 영향을 미치는 여러 요인들이 통제 되지 않은\n",
    "\t- real-world setting에서의 효과"
   ]
  },
  {
   "cell_type": "markdown",
   "id": "b2bccf32",
   "metadata": {},
   "source": [
    "## RCT 원칙"
   ]
  },
  {
   "cell_type": "markdown",
   "id": "dd8da89b",
   "metadata": {},
   "source": [
    "### 임상시험의 원칙"
   ]
  },
  {
   "cell_type": "markdown",
   "id": "d87612a3",
   "metadata": {},
   "source": [
    "- 임상시험: 인간을 대상으로 함. 관찰연구와 다르게 연구자가 인터벤션을 직접 가하는 것. \n",
    "    - 관찰연구에 비해 원칙을 철저하게 지켜야함.\n",
    "    - 가장 중요한 가이드라인: ICH\n",
    "        - 임상시험의 디자인, 수행, 기록, 결과보고에 대한 윤리적, 과학적 기준을 여러 국가의 합의에 의해 만들어짐\n",
    "        - 헬싱키 선언에 따라 연구대상자의 권리, 안전, 웰빙을 보호\n",
    "        - 신뢰성있는 임상시험 데이터 획득 가능\n",
    "    - 각국의 임상시험 관련 규제를 따라야한다.\n",
    "        - 우리나라 : 생명윤리법, 약사법, 식약처 행정규칙(의약품 임상시험 관리기준 등), 의료기기법, 개인정보 보호법 등"
   ]
  },
  {
   "cell_type": "markdown",
   "id": "df826190",
   "metadata": {},
   "source": [
    "1. 윤리적이어야 한다\n",
    "\t- 사람에게 가하는 것이기 때문에 과학적이지 않으면, 비윤리적이다.\n",
    "2. (거의 항상) 대조군 (Control group)이 필요하다\n",
    "3. 가능한 경우 눈가림 (Blinding)이 선호된다\n",
    "4. 연구대상자를 치료군과 대조군에 배정하는 방법은 랜덤화 (randomization)가 선호된다"
   ]
  },
  {
   "cell_type": "markdown",
   "id": "d05d4b19",
   "metadata": {},
   "source": [
    "#### 대조군"
   ]
  },
  {
   "cell_type": "markdown",
   "id": "fadf8899",
   "metadata": {},
   "source": [
    "- 연구의 대상이 되는 intervention을 받지 않는, 비교의 기준이 되는 그룹\n",
    "- 실험군(=치료군)과 intervention 여부를 제외한 모든 면에서 비슷할 수록 좋다\n",
    "\t- **그래야만, 2군과의 차이가 인터벤션 차이다 라고 말할 수 있기 때문**\n",
    "- 대조군이 없이는 intervention의 효과를 알 수 없다\n",
    "\t- **어떤 사람은, 대조군없이, 치료군에 대해 인터벤션 전/후의 outcome을 비교하는 `pre-post design`의 임상시험을 계획하곤 한다**\n",
    "\t\t- **하지만, 인터벤션을 받는 동안 발생한 시간만으로도 어떠한 효과가 발생할 수 있다.**\n",
    "\t- 치료군에서 관측된 intervention 전/후의 차이는 꼭 intervention의 효과가 아닐 수 있다\n",
    "\t- 대조군 vs. 치료군의 비교가 필수적이다"
   ]
  },
  {
   "cell_type": "markdown",
   "id": "46dd5e84",
   "metadata": {},
   "source": [
    "- 대조군도 종료가 어려가지임\n",
    "    1. No intervention: 자연상태 그대로\n",
    "    2. 플라시보 (Placebo): 약물 효과 관찰시, 똑같이 생긴 위약을 복용케 함\n",
    "    3. Usual care: 현재 실행되는 일반적인 케어(일반치료법)\n",
    "    4. Standard of care: 가이드라인 케어(표준치료법)\n",
    "\n",
    "- **효과가 입증된 치료법이 존재하는 경우, `no intervention`이나 `placebo`를 대조군으로 사용하면 안된다**\n",
    "    - 윤리적이지 않기 때문\n",
    "    - 효과입증된 치료법이있다면, 일단 연구대상자에게 제공을 해야한다."
   ]
  },
  {
   "cell_type": "markdown",
   "id": "32105b45",
   "metadata": {},
   "source": [
    "#### 눈가림"
   ]
  },
  {
   "cell_type": "markdown",
   "id": "b0de63fe",
   "metadata": {},
   "source": [
    "- 각 연구대상자가 어떤 그룹에 속했는지 모르게 하는 것\n",
    "\t- 대상자는 자기가 치료군에 속했는지/ 대조군에 속했는지 모르게 함.\n",
    "\t- 무의식 중에 발생하는 bias를 방지하기 위해서 시행함\n",
    "\t\t- 알게 되면... 나는 치료군이야... 인식만으로 몸 상태가 좋아질 수 있음/ 나는 대조군이야... 로 몸 상태가 안좋아질 수도 있음.\n",
    "\t\t- 또한, 대조군으로서 placebo를 복용 중임을 알게된다면, 중도 탈락할 확률이 높아진다.\n",
    "- 무의식 중에 편향을 일으킬 수 있는 가능성을 제거한다\n",
    "\t- 연구대상자 : 자신이 치료군/대조군에 속했다는 것을 알게\n",
    "\t되면, 증상이나 부작용 등을 다르게 인식할 수 있고, 중도\n",
    "\t탈락 여부에 영향을 줄 수 있다\n",
    "\t- 연구자, 임상의 : 연구대상자가 치료군/대조군에 속했다는 것을 알게 되면, 연구대상자의 치료에 영향을 줄 수 있다\n",
    "\t\t- 연구자 조차도 모르게\n",
    "\t- 평가자 : 연구대상자가 치료군/대조군에 속했다는 것을 알게 되면 outcome 측정에 영향을 줄 수 있다\n",
    "\t\t- 평가하는 사람도 모르게 "
   ]
  },
  {
   "cell_type": "markdown",
   "id": "33111b15",
   "metadata": {},
   "source": [
    "- 더블 블라인드\n",
    "    ![image-20220424212044223](https://raw.githubusercontent.com/is2js/screenshots/main/image-20220424212044223.png)"
   ]
  },
  {
   "cell_type": "markdown",
   "id": "7c150166",
   "metadata": {},
   "source": [
    "#### 랜덤화"
   ]
  },
  {
   "cell_type": "markdown",
   "id": "8c90e877",
   "metadata": {},
   "source": [
    "- 모든, 각각의 연구대상자를 확률에 의해 `불확성성을 가지고 확률적으로` 치료군or대조군으로 배정함\n",
    "    - 배정 확률이 모두 같을 필요는 없다. 하지만 확률적으로 배정하는 것이 중요하다.\n",
    "    - 예1) 치료군이 대조군제외 2개이상일 수도 있다? a,b,c \n",
    "    - 예2) 홀수날/짝숫날 -> 불확실성이 없이 배정되기 때문에 랜덤화가 아니다 **연구자가 치료군의 날자에 더 아픈사람을 선택할 수 있다**\n",
    "    - 예3) 오는 순서대로 번갈아가면서 -> 불확실성이 없이 배정되기 때문에 랜덤화가 아니다 **연구자가 치료군의 순서에 더 아픈사람을 선택할 수 있다**\n",
    "        - 2, 3번은 연구대상자에게는 눈가림이 되나, 연구자에게 눈가림이 안되서 랜덤화가 아니다.\n",
    "    ![image-20220424212213916](https://raw.githubusercontent.com/is2js/screenshots/main/image-20220424212213916.png)\n",
    "\n"
   ]
  },
  {
   "cell_type": "markdown",
   "id": "0cfebc64",
   "metadata": {},
   "source": [
    "7강 20분 slide 21번부터"
   ]
  },
  {
   "cell_type": "code",
   "execution_count": null,
   "id": "5fee1e24",
   "metadata": {
    "vscode": {
     "languageId": "r"
    }
   },
   "outputs": [],
   "source": []
  }
 ],
 "metadata": {
  "kernelspec": {
   "display_name": "R",
   "language": "R",
   "name": "ir"
  },
  "language_info": {
   "codemirror_mode": "r",
   "file_extension": ".r",
   "mimetype": "text/x-r-source",
   "name": "R",
   "pygments_lexer": "r",
   "version": "3.6.1"
  },
  "toc": {
   "base_numbering": 1,
   "nav_menu": {},
   "number_sections": true,
   "sideBar": true,
   "skip_h1_title": false,
   "title_cell": "Table of Contents",
   "title_sidebar": "Contents",
   "toc_cell": false,
   "toc_position": {
    "height": "calc(100% - 180px)",
    "left": "10px",
    "top": "150px",
    "width": "165px"
   },
   "toc_section_display": true,
   "toc_window_display": true
  }
 },
 "nbformat": 4,
 "nbformat_minor": 5
}
