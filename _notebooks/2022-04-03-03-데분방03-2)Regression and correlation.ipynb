{
 "cells": [
  {
   "cell_type": "markdown",
   "id": "a28fd2dd",
   "metadata": {},
   "source": [
    "# \"데분방03-2) 회귀식과 상관계수(...to be continue)\"\n",
    "> \"Regression and correlation\"\n",
    "\n",
    "- toc:true\n",
    "- branch: master\n",
    "- badges: true\n",
    "- comments: true\n",
    "- author: tingstyle1\n",
    "- categories: [R, 통계, 대학원, 데분방1]\n",
    "- image: \"images/posts/data.png\""
   ]
  },
  {
   "cell_type": "markdown",
   "id": "05df8823",
   "metadata": {},
   "source": [
    "- 회귀분석 방법 \n",
    "\n",
    "Chapter 6. Regression and correlation\n",
    "- 6.1 Simple linear regression\n",
    "- 6.2 Residuals and fitted values\n",
    "- 6.3 Prediction and confidence bands\n",
    "- 6.4 Correlation"
   ]
  }
 ],
 "metadata": {
  "kernelspec": {
   "display_name": "R",
   "language": "R",
   "name": "ir"
  },
  "language_info": {
   "codemirror_mode": "r",
   "file_extension": ".r",
   "mimetype": "text/x-r-source",
   "name": "R",
   "pygments_lexer": "r",
   "version": "3.6.1"
  },
  "toc": {
   "base_numbering": 1,
   "nav_menu": {},
   "number_sections": true,
   "sideBar": true,
   "skip_h1_title": false,
   "title_cell": "Table of Contents",
   "title_sidebar": "Contents",
   "toc_cell": false,
   "toc_position": {},
   "toc_section_display": true,
   "toc_window_display": false
  }
 },
 "nbformat": 4,
 "nbformat_minor": 5
}
