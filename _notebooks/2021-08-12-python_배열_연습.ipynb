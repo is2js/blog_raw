{
 "cells": [
  {
   "cell_type": "markdown",
   "source": [
    "# 알고리즘 문제 풀기용 array 연습 (python)\r\n",
    "> python input으로 배열을 받아보는 연습 노트\r\n",
    "\r\n",
    "- toc:true\r\n",
    "- branch: master\r\n",
    "- badges: true\r\n",
    "- comments: true\r\n",
    "- author: Jaeseong Cho\r\n",
    "- categories: [boj, python, array]"
   ],
   "metadata": {}
  },
  {
   "cell_type": "markdown",
   "source": [
    "## input array"
   ],
   "metadata": {}
  },
  {
   "cell_type": "markdown",
   "source": [
    "### 1차원 list\r\n",
    "```\r\n",
    "10 5\r\n",
    "1 10 4 9 2 3 8 5 7 6\r\n",
    "```\r\n"
   ],
   "metadata": {}
  },
  {
   "cell_type": "code",
   "execution_count": 7,
   "source": [
    "# 2~3개는 map을 할당해서 받는다.\r\n",
    "a, b = map(int, input().split())\r\n",
    "print(a, b)\r\n",
    "\r\n",
    "# 1개는 안된다. 튜플 언패킹시에만 따로 받아진다!!\r\n",
    "c = map(int, input().split())\r\n",
    "print(c)"
   ],
   "outputs": [
    {
     "output_type": "stream",
     "name": "stdout",
     "text": [
      "10 5\n",
      "<map object at 0x000001F38F7937C0>\n"
     ]
    }
   ],
   "metadata": {}
  },
  {
   "cell_type": "code",
   "execution_count": 6,
   "source": [
    "# 많아서 인덱싱으로 꺼내쓸 땐,  list로 바꿔서 받는다. map은 인덱싱 불가능\r\n",
    "arr = list( map(int, input().split()) )\r\n",
    "arr"
   ],
   "outputs": [
    {
     "output_type": "execute_result",
     "data": {
      "text/plain": [
       "[1, 10, 4, 9, 2, 3, 8, 5, 7, 6]"
      ]
     },
     "metadata": {},
     "execution_count": 6
    }
   ],
   "metadata": {}
  },
  {
   "cell_type": "markdown",
   "source": [
    "### 2차원(구분자O)\r\n",
    "\r\n",
    "```\r\n",
    "9\r\n",
    "0 0 0 1 1 1 -1 -1 -1\r\n",
    "0 0 0 1 1 1 -1 -1 -1\r\n",
    "0 0 0 1 1 1 -1 -1 -1\r\n",
    "1 1 1 0 0 0 0 0 0\r\n",
    "1 1 1 0 0 0 0 0 0\r\n",
    "1 1 1 0 0 0 0 0 0\r\n",
    "0 1 -1 0 1 -1 0 1 -1\r\n",
    "0 -1 1 0 1 -1 0 1 -1\r\n",
    "0 1 -1 1 0 -1 0 1 -1\r\n",
    "```\r\n"
   ],
   "metadata": {}
  },
  {
   "cell_type": "code",
   "execution_count": 9,
   "source": [
    "# space의 구분자가 있는 경우\r\n",
    "# - 행수만큼 list comp를 돌리고, \r\n",
    "# - 그 행의 내부요소들은 1줄을 split -> map(int, ) -> list 까지 만든다.\r\n",
    "\r\n",
    "N = int(input().strip())\r\n",
    "\r\n",
    "# paper = [ for i in range(N)]\r\n",
    "paper = [ list(map(int, input().strip().split())) for i in range(N)]"
   ],
   "outputs": [],
   "metadata": {}
  },
  {
   "cell_type": "code",
   "execution_count": 10,
   "source": [
    "paper"
   ],
   "outputs": [
    {
     "output_type": "execute_result",
     "data": {
      "text/plain": [
       "[[0, 0, 0, 1, 1, 1, -1, -1, -1],\n",
       " [0, 0, 0, 1, 1, 1, -1, -1, -1],\n",
       " [0, 0, 0, 1, 1, 1, -1, -1, -1],\n",
       " [1, 1, 1, 0, 0, 0, 0, 0, 0],\n",
       " [1, 1, 1, 0, 0, 0, 0, 0, 0],\n",
       " [1, 1, 1, 0, 0, 0, 0, 0, 0],\n",
       " [0, 1, -1, 0, 1, -1, 0, 1, -1],\n",
       " [0, -1, 1, 0, 1, -1, 0, 1, -1],\n",
       " [0, 1, -1, 1, 0, -1, 0, 1, -1]]"
      ]
     },
     "metadata": {},
     "execution_count": 10
    }
   ],
   "metadata": {}
  },
  {
   "cell_type": "markdown",
   "source": [
    "### 2차원 구분자X (숫자로 1character씩만 차지)\r\n",
    " - 문자열(no split) -> map(1글자를 1글자int로) -> list(1글자들을 열로)\r\n",
    "\r\n",
    "```\r\n",
    "3 3\r\n",
    "011\r\n",
    "111\r\n",
    "110\r\n",
    "```\r\n"
   ],
   "metadata": {}
  },
  {
   "cell_type": "code",
   "execution_count": 64,
   "source": [
    "list('1019')"
   ],
   "outputs": [
    {
     "output_type": "execute_result",
     "data": {
      "text/plain": [
       "['1', '0', '1', '9']"
      ]
     },
     "metadata": {},
     "execution_count": 64
    }
   ],
   "metadata": {}
  },
  {
   "cell_type": "code",
   "execution_count": 65,
   "source": [
    "list(map(int, '1019'))"
   ],
   "outputs": [
    {
     "output_type": "execute_result",
     "data": {
      "text/plain": [
       "[1, 0, 1, 9]"
      ]
     },
     "metadata": {},
     "execution_count": 65
    }
   ],
   "metadata": {}
  },
  {
   "cell_type": "code",
   "execution_count": 66,
   "source": [
    "# 행수만큼 list comp돌리는 건 똑같으나\r\n",
    "# - split대신 list('문자열') -> 1글자씩 list\r\n",
    "# - split대신 list( map(int, '문자열')) -> 숫자1개씩 list\r\n",
    "# -- map(int, '문자열')은 문자열을 하나씩 쪼개받아서 int를씌운다.\r\n",
    "N, M = map(int, input().split()) # map은 튜플로 할당 받을 수 있다. but 1개 변수에 할당시는 맵객체다.\r\n",
    "# MIRO = [ for i in range(N) ]\r\n",
    "# 열은 갯수는 M대신  split이 아닌 문자열->map->list -> list(map(())으로 쪼개서 받았다.\r\n",
    "MIRO = [ list(map(int, input())) for i in range(N) ] "
   ],
   "outputs": [],
   "metadata": {}
  },
  {
   "cell_type": "code",
   "execution_count": 70,
   "source": [
    "MIRO"
   ],
   "outputs": [
    {
     "output_type": "execute_result",
     "data": {
      "text/plain": [
       "[[0, 1, 1], [1, 1, 1], [1, 1, 0]]"
      ]
     },
     "metadata": {},
     "execution_count": 70
    }
   ],
   "metadata": {}
  },
  {
   "cell_type": "markdown",
   "source": [
    "## 선언 array\r\n",
    " - input으로 받아서 쪼개서 열을 만들지말고, 이번에는 직접 선언해보자.\r\n",
    " - numpy를 지원하지 않을 때, 리스트로 만드는 n차원 배열이다."
   ],
   "metadata": {}
  },
  {
   "cell_type": "code",
   "execution_count": 83,
   "source": [
    "INIT = -1 # 각 행렬 요소의 초기화 값이다.\r\n",
    "\r\n",
    "W = row = N\r\n",
    "H = column = M \r\n",
    "C = channel = 3\r\n",
    "B = batch = 3\r\n",
    "\r\n",
    "# 1차원 array : 초기화값이 요소 상태로 list comp \r\n",
    "D1 = [ INIT for _ in range(W)] # 1차원은 행길이만큼 list comp + [] X -> 행길이만큼 요소롤 복제하도록 list comp + 요소\r\n",
    "# D1 = [ INIT ] * N # 요소복제의 2번째 방법, list든 str든 곱하면 extend된다.\r\n",
    "# - but 내부 list comp 요소 + 외부 [] 그만큼 곱은 주의한다. id가 동일한놈들이 복사된다.\r\n",
    "\r\n",
    "# 2차원 array : 행[]들 먼저 행길이만큼 list comp돌고 , 내부 1row를 요소 list comp \r\n",
    "# D2 = [ [] for _ in range(H)]\r\n",
    "D2 = [ [ INIT for _ in range(W)  ] for _ in range(H)]\r\n",
    "\r\n",
    "# 3차원 array : 2차원 밖에  [[]]행렬 갯수만큼 list comp 해줌.\r\n",
    "D3 = [[[ [ INIT for _ in range(W)  ] for _ in range(H)]]     for _ in range(C)]\r\n",
    "\r\n",
    "# 3차원 array : 2차원 밖에  [[]]행렬 갯수만큼 list comp 해줌.\r\n",
    "D4 = [[[[ [ INIT for _ in range(W)  ] for _ in range(H)]]     for _ in range(C)]          for _ in range(B)]\r\n",
    "print(D1)\r\n",
    "print(D2)\r\n",
    "print(D3)\r\n",
    "print(D4)"
   ],
   "outputs": [
    {
     "output_type": "stream",
     "name": "stdout",
     "text": [
      "[-1, -1, -1]\n",
      "[[-1, -1, -1], [-1, -1, -1], [-1, -1, -1]]\n",
      "[[[[-1, -1, -1], [-1, -1, -1], [-1, -1, -1]]], [[[-1, -1, -1], [-1, -1, -1], [-1, -1, -1]]], [[[-1, -1, -1], [-1, -1, -1], [-1, -1, -1]]]]\n",
      "[[[[[-1, -1, -1], [-1, -1, -1], [-1, -1, -1]]], [[[-1, -1, -1], [-1, -1, -1], [-1, -1, -1]]], [[[-1, -1, -1], [-1, -1, -1], [-1, -1, -1]]]], [[[[-1, -1, -1], [-1, -1, -1], [-1, -1, -1]]], [[[-1, -1, -1], [-1, -1, -1], [-1, -1, -1]]], [[[-1, -1, -1], [-1, -1, -1], [-1, -1, -1]]]], [[[[-1, -1, -1], [-1, -1, -1], [-1, -1, -1]]], [[[-1, -1, -1], [-1, -1, -1], [-1, -1, -1]]], [[[-1, -1, -1], [-1, -1, -1], [-1, -1, -1]]]]]\n"
     ]
    }
   ],
   "metadata": {}
  },
  {
   "cell_type": "markdown",
   "source": [
    "### 2차원 응용 by range\r\n",
    " - INIT값이 아닌 1부터 순서대로 채운 N\\*N 행렬\r\n",
    "    - **range( , , 열길이)**를 이용한다. N씩 건너뛰어서 가니까...\r\n",
    "    - 시작은 1부터 `n(n-1) + 2` 로 1부터 n-1까지의 합으로 간다?"
   ],
   "metadata": {}
  },
  {
   "cell_type": "markdown",
   "source": [
    "#### 1부터 순서대로 채운 (N,N)행렬\r\n",
    "\r\n",
    "1. 각행의 첫째항을 등차수열(column : N개) 를 이용해서 만들어준다.\r\n",
    "    - 1부터 N의 등차수열 range(1, , N)과  끝값은 N번째항 뽑은 것 + 1 을 넣어준다\r\n",
    "    - An = a1 + (n-1)d = 1 + n(n-1) ->    range(   , n*n-1 + 1,   )\r\n",
    "    \r\n",
    "2. 각 행렬의 첫째항부터 1씩 증가하여 N개를 채운 행list를 완성한다."
   ],
   "metadata": {}
  },
  {
   "cell_type": "code",
   "execution_count": 96,
   "source": [
    "# range(1부터, n*(n-1)/2, 5) 까지의 의미?\r\n",
    "# - 일단 1 ~ n*(n-1)/2 에서 마지막항의 의미는 그냥 찍어보면 모른다.\r\n",
    "n = 6\r\n",
    "for i in range(1, n*(n-1)+2, n):\r\n",
    "    print(i)\r\n",
    "print(n*(n-1)+2)"
   ],
   "outputs": [
    {
     "output_type": "stream",
     "name": "stdout",
     "text": [
      "1\n",
      "7\n",
      "13\n",
      "19\n",
      "25\n",
      "31\n",
      "32\n"
     ]
    }
   ],
   "metadata": {}
  },
  {
   "cell_type": "code",
   "execution_count": 102,
   "source": [
    "# 하지만, for i in range( 1, , k):을 보면 \r\n",
    "# - for문 안의 i가 1에서부터 **등차(k)수열**이 되어버림.\r\n",
    "# 1부터, 등차가 n이면, n열짜리 행1개를 건너띈 다음 행 첫째항이 된다.\r\n",
    "# 열의 갯수N을 등차로 하여 일반항을 잡고, 행 N개를 가야하므로\r\n",
    "# An = 1 + (n-1)*d = n*(n-1) + 1 이 된다.\r\n",
    "# 등차수열 range(1, ,n)이 n번째항 까지는 가야하므로,  n번째항+1을 넣어준 것이다.\r\n",
    "for i in range(1, n*(n-1)+2, n):\r\n",
    "    print(i, \"<<< 1시작, N열(등차), N행까지 채워주는 행렬의 각 행 첫째항입니다.\")\r\n"
   ],
   "outputs": [
    {
     "output_type": "stream",
     "name": "stdout",
     "text": [
      "1 <<< 1시작, N열(등차), N행까지 채워주는 행렬의 각 행 첫째항입니다.\n",
      "7 <<< 1시작, N열(등차), N행까지 채워주는 행렬의 각 행 첫째항입니다.\n",
      "13 <<< 1시작, N열(등차), N행까지 채워주는 행렬의 각 행 첫째항입니다.\n",
      "19 <<< 1시작, N열(등차), N행까지 채워주는 행렬의 각 행 첫째항입니다.\n",
      "25 <<< 1시작, N열(등차), N행까지 채워주는 행렬의 각 행 첫째항입니다.\n",
      "31 <<< 1시작, N열(등차), N행까지 채워주는 행렬의 각 행 첫째항입니다.\n"
     ]
    }
   ],
   "metadata": {}
  },
  {
   "cell_type": "code",
   "execution_count": 114,
   "source": [
    "# 이제 각행의 첫째항에서 1씩 증가시켜 N행까지 채우면 된다.\r\n",
    "\r\n",
    "# 2중 list comp는 요소만 노출할 경우, 1차원 행렬밖에 \r\n",
    "# - list로 만들경우, 각 요소들이 list로..\r\n",
    "# - 행단위로 묵어서는 못만든다 -> result = [] for문 이용\r\n",
    "n = 5\r\n",
    "result = []\r\n",
    "for i in range(1, n*(n-1)+2, n):\r\n",
    "    # 첫째항 i, 등차1 의 수열을 1~n항까지 listcomp로 모으기\r\n",
    "    result.append([ i+(j-1)*1 for j in range(1, n+1)])\r\n",
    "\r\n",
    "result\r\n",
    "    "
   ],
   "outputs": [
    {
     "output_type": "execute_result",
     "data": {
      "text/plain": [
       "[[1, 2, 3, 4, 5],\n",
       " [6, 7, 8, 9, 10],\n",
       " [11, 12, 13, 14, 15],\n",
       " [16, 17, 18, 19, 20],\n",
       " [21, 22, 23, 24, 25]]"
      ]
     },
     "metadata": {},
     "execution_count": 114
    }
   ],
   "metadata": {}
  },
  {
   "cell_type": "code",
   "execution_count": null,
   "source": [],
   "outputs": [],
   "metadata": {}
  },
  {
   "cell_type": "code",
   "execution_count": null,
   "source": [],
   "outputs": [],
   "metadata": {}
  },
  {
   "cell_type": "code",
   "execution_count": 29,
   "source": [
    " # ㅠㅠ_ list는 칼럼인덱싱이 안된다... 행인덱싱후, \r\n",
    " # 행마다 돌면서 row에접근후 인덱싱..\r\n",
    "\r\n",
    "[ row[4:6] for row in paper[4:7]]"
   ],
   "outputs": [
    {
     "output_type": "execute_result",
     "data": {
      "text/plain": [
       "[[0, 0], [0, 0], [1, -1]]"
      ]
     },
     "metadata": {},
     "execution_count": 29
    }
   ],
   "metadata": {}
  },
  {
   "cell_type": "code",
   "execution_count": 54,
   "source": [
    "def check_valid(matrix):\r\n",
    "    print(\"dict상태>>>\", count_dict)\r\n",
    "    if len(matrix) == 1:\r\n",
    "        print(\"1개짜리 돌입. matrix >>>\", matrix)\r\n",
    "        # 1개짜리라면..  넣고 +1\r\n",
    "        count_dict.setdefault(matrix[0][0], 0)\r\n",
    "        count_dict[matrix[0][0]] +=1\r\n",
    "        return True\r\n",
    "\r\n",
    "    \r\n",
    "    paper_0_0 = matrix[0][0]\r\n",
    "    flag = False\r\n",
    "    for i in range(len(matrix)):\r\n",
    "        for j in range(len(matrix)):\r\n",
    "            if paper_0_0 != matrix[i][j]:\r\n",
    "                flag = True\r\n",
    "                break\r\n",
    "    if flag:\r\n",
    "        print(\"다른게 나왔다. N/3으로 한번더.. 총 9개... 대상 matrix : \",matrix )\r\n",
    "        N = len(matrix)\r\n",
    "        \r\n",
    "        # 3x3중 1x1 -> 열 3구간 다 \r\n",
    "        check_valid([ row[:N//3] for row in matrix[:N//3]])\r\n",
    "        check_valid([ row[N//3:(N//3)*2] for row in matrix[:N//3]])\r\n",
    "        check_valid([ row[(N//3)*2:] for row in matrix[:N//3]])\r\n",
    "        # 3x3중 2x2\r\n",
    "        check_valid([ row[:N//3] for row in matrix[N//3:(N//3)*2]])\r\n",
    "        check_valid([ row[N//3:(N//3)*2] for row in matrix[N//3:(N//3)*2]])\r\n",
    "        check_valid([ row[(N//3)*2:] for row in matrix[N//3:(N//3)*2]])\r\n",
    "        # 3x3중 3x3\r\n",
    "        check_valid([ row[:N//3] for row in matrix[(N//3)*2:]])\r\n",
    "        check_valid([ row[N//3:(N//3)*2] for row in matrix[(N//3)*2:]])\r\n",
    "        check_valid([ row[(N//3)*2:] for row in matrix[(N//3)*2:]])\r\n",
    "    else:\r\n",
    "        print(\"다 똑같다 통과, dict에 넣고 저장후 return True로 종료 matrix:\", matrix)\r\n",
    "        count_dict.setdefault(paper_0_0, 0)\r\n",
    "        count_dict[paper_0_0] += 1\r\n",
    "        return True\r\n",
    "\r\n",
    "\r\n",
    "\r\n",
    "count_dict = {}\r\n",
    "\r\n",
    "check_valid(paper)"
   ],
   "outputs": [
    {
     "output_type": "stream",
     "name": "stdout",
     "text": [
      "dict상태>>> {}\n",
      "다른게 나왔다. N/3으로 한번더.. 총 9개... 대상 matrix :  [[0, 0, 0, 1, 1, 1, -1, -1, -1], [0, 0, 0, 1, 1, 1, -1, -1, -1], [0, 0, 0, 1, 1, 1, -1, -1, -1], [1, 1, 1, 0, 0, 0, 0, 0, 0], [1, 1, 1, 0, 0, 0, 0, 0, 0], [1, 1, 1, 0, 0, 0, 0, 0, 0], [0, 1, -1, 0, 1, -1, 0, 1, -1], [0, -1, 1, 0, 1, -1, 0, 1, -1], [0, 1, -1, 1, 0, -1, 0, 1, -1]]\n",
      "dict상태>>> {}\n",
      "다 똑같다 통과, dict에 넣고 저장후 return True로 종료 matrix: [[0, 0, 0], [0, 0, 0], [0, 0, 0]]\n",
      "dict상태>>> {0: 1}\n",
      "다 똑같다 통과, dict에 넣고 저장후 return True로 종료 matrix: [[1, 1, 1], [1, 1, 1], [1, 1, 1]]\n",
      "dict상태>>> {0: 1, 1: 1}\n",
      "다 똑같다 통과, dict에 넣고 저장후 return True로 종료 matrix: [[-1, -1, -1], [-1, -1, -1], [-1, -1, -1]]\n",
      "dict상태>>> {0: 1, 1: 1, -1: 1}\n",
      "다 똑같다 통과, dict에 넣고 저장후 return True로 종료 matrix: [[1, 1, 1], [1, 1, 1], [1, 1, 1]]\n",
      "dict상태>>> {0: 1, 1: 2, -1: 1}\n",
      "다 똑같다 통과, dict에 넣고 저장후 return True로 종료 matrix: [[0, 0, 0], [0, 0, 0], [0, 0, 0]]\n",
      "dict상태>>> {0: 2, 1: 2, -1: 1}\n",
      "다 똑같다 통과, dict에 넣고 저장후 return True로 종료 matrix: [[0, 0, 0], [0, 0, 0], [0, 0, 0]]\n",
      "dict상태>>> {0: 3, 1: 2, -1: 1}\n",
      "다른게 나왔다. N/3으로 한번더.. 총 9개... 대상 matrix :  [[0, 1, -1], [0, -1, 1], [0, 1, -1]]\n",
      "dict상태>>> {0: 3, 1: 2, -1: 1}\n",
      "1개짜리 돌입. matrix >>> [[0]]\n",
      "dict상태>>> {0: 4, 1: 2, -1: 1}\n",
      "1개짜리 돌입. matrix >>> [[1]]\n",
      "dict상태>>> {0: 4, 1: 3, -1: 1}\n",
      "1개짜리 돌입. matrix >>> [[-1]]\n",
      "dict상태>>> {0: 4, 1: 3, -1: 2}\n",
      "1개짜리 돌입. matrix >>> [[0]]\n",
      "dict상태>>> {0: 5, 1: 3, -1: 2}\n",
      "1개짜리 돌입. matrix >>> [[-1]]\n",
      "dict상태>>> {0: 5, 1: 3, -1: 3}\n",
      "1개짜리 돌입. matrix >>> [[1]]\n",
      "dict상태>>> {0: 5, 1: 4, -1: 3}\n",
      "1개짜리 돌입. matrix >>> [[0]]\n",
      "dict상태>>> {0: 6, 1: 4, -1: 3}\n",
      "1개짜리 돌입. matrix >>> [[1]]\n",
      "dict상태>>> {0: 6, 1: 5, -1: 3}\n",
      "1개짜리 돌입. matrix >>> [[-1]]\n",
      "dict상태>>> {0: 6, 1: 5, -1: 4}\n",
      "다른게 나왔다. N/3으로 한번더.. 총 9개... 대상 matrix :  [[0, 1, -1], [0, 1, -1], [1, 0, -1]]\n",
      "dict상태>>> {0: 6, 1: 5, -1: 4}\n",
      "1개짜리 돌입. matrix >>> [[0]]\n",
      "dict상태>>> {0: 7, 1: 5, -1: 4}\n",
      "1개짜리 돌입. matrix >>> [[1]]\n",
      "dict상태>>> {0: 7, 1: 6, -1: 4}\n",
      "1개짜리 돌입. matrix >>> [[-1]]\n",
      "dict상태>>> {0: 7, 1: 6, -1: 5}\n",
      "1개짜리 돌입. matrix >>> [[0]]\n",
      "dict상태>>> {0: 8, 1: 6, -1: 5}\n",
      "1개짜리 돌입. matrix >>> [[1]]\n",
      "dict상태>>> {0: 8, 1: 7, -1: 5}\n",
      "1개짜리 돌입. matrix >>> [[-1]]\n",
      "dict상태>>> {0: 8, 1: 7, -1: 6}\n",
      "1개짜리 돌입. matrix >>> [[1]]\n",
      "dict상태>>> {0: 8, 1: 8, -1: 6}\n",
      "1개짜리 돌입. matrix >>> [[0]]\n",
      "dict상태>>> {0: 9, 1: 8, -1: 6}\n",
      "1개짜리 돌입. matrix >>> [[-1]]\n",
      "dict상태>>> {0: 9, 1: 8, -1: 7}\n",
      "다른게 나왔다. N/3으로 한번더.. 총 9개... 대상 matrix :  [[0, 1, -1], [0, 1, -1], [0, 1, -1]]\n",
      "dict상태>>> {0: 9, 1: 8, -1: 7}\n",
      "1개짜리 돌입. matrix >>> [[0]]\n",
      "dict상태>>> {0: 10, 1: 8, -1: 7}\n",
      "1개짜리 돌입. matrix >>> [[1]]\n",
      "dict상태>>> {0: 10, 1: 9, -1: 7}\n",
      "1개짜리 돌입. matrix >>> [[-1]]\n",
      "dict상태>>> {0: 10, 1: 9, -1: 8}\n",
      "1개짜리 돌입. matrix >>> [[0]]\n",
      "dict상태>>> {0: 11, 1: 9, -1: 8}\n",
      "1개짜리 돌입. matrix >>> [[1]]\n",
      "dict상태>>> {0: 11, 1: 10, -1: 8}\n",
      "1개짜리 돌입. matrix >>> [[-1]]\n",
      "dict상태>>> {0: 11, 1: 10, -1: 9}\n",
      "1개짜리 돌입. matrix >>> [[0]]\n",
      "dict상태>>> {0: 12, 1: 10, -1: 9}\n",
      "1개짜리 돌입. matrix >>> [[1]]\n",
      "dict상태>>> {0: 12, 1: 11, -1: 9}\n",
      "1개짜리 돌입. matrix >>> [[-1]]\n"
     ]
    }
   ],
   "metadata": {}
  },
  {
   "cell_type": "code",
   "execution_count": 61,
   "source": [
    "print(*map(lambda x:x[1], sorted(count_dict.items(), key=lambda x:x[0])))"
   ],
   "outputs": [
    {
     "output_type": "stream",
     "name": "stdout",
     "text": [
      "10 12 11\n"
     ]
    }
   ],
   "metadata": {}
  }
 ],
 "metadata": {
  "kernelspec": {
   "name": "python3",
   "display_name": "Python 3.8.5 64-bit (conda)"
  },
  "language_info": {
   "codemirror_mode": {
    "name": "ipython",
    "version": 3
   },
   "file_extension": ".py",
   "mimetype": "text/x-python",
   "name": "python",
   "nbconvert_exporter": "python",
   "pygments_lexer": "ipython3",
   "version": "3.8.5"
  },
  "toc": {
   "base_numbering": 1,
   "nav_menu": {},
   "number_sections": true,
   "sideBar": true,
   "skip_h1_title": false,
   "title_cell": "Table of Contents",
   "title_sidebar": "Contents",
   "toc_cell": false,
   "toc_position": {
    "height": "calc(100% - 180px)",
    "left": "10px",
    "top": "150px",
    "width": "271.729px"
   },
   "toc_section_display": true,
   "toc_window_display": true
  },
  "varInspector": {
   "cols": {
    "lenName": 16,
    "lenType": 16,
    "lenVar": 40
   },
   "kernels_config": {
    "python": {
     "delete_cmd_postfix": "",
     "delete_cmd_prefix": "del ",
     "library": "var_list.py",
     "varRefreshCmd": "print(var_dic_list())"
    },
    "r": {
     "delete_cmd_postfix": ") ",
     "delete_cmd_prefix": "rm(",
     "library": "var_list.r",
     "varRefreshCmd": "cat(var_dic_list()) "
    }
   },
   "types_to_exclude": [
    "module",
    "function",
    "builtin_function_or_method",
    "instance",
    "_Feature"
   ],
   "window_display": false
  },
  "interpreter": {
   "hash": "b3ba2566441a7c06988d0923437866b63cedc61552a5af99d1f4fb67d367b25f"
  }
 },
 "nbformat": 4,
 "nbformat_minor": 4
}