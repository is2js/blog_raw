{
 "cells": [
  {
   "cell_type": "markdown",
   "id": "a011772d",
   "metadata": {},
   "source": [
    "# \"데분방03-1) One and Two sample Test\"\n",
    "> \"One and two-sample tests\"\n",
    "\n",
    "- toc:true\n",
    "- branch: master\n",
    "- badges: true\n",
    "- comments: true\n",
    "- author: tingstyle1\n",
    "- categories: [R, 통계, 대학원, 데분방1, sampleTest]\n",
    "- image: \"images/posts/data.png\""
   ]
  },
  {
   "cell_type": "markdown",
   "id": "661bb003",
   "metadata": {},
   "source": [
    "## 강의소개"
   ]
  },
  {
   "cell_type": "markdown",
   "id": "97a04791",
   "metadata": {},
   "source": [
    "### 키워드"
   ]
  },
  {
   "cell_type": "markdown",
   "id": "591e7e29",
   "metadata": {},
   "source": [
    "일표본 t 검정방법 \n",
    "\n",
    "독립표본 t 검정방법 \n",
    "\n",
    "대응표본 t 검정방법 "
   ]
  },
  {
   "cell_type": "markdown",
   "id": "e60078ab",
   "metadata": {},
   "source": [
    "### 세부 목차"
   ]
  },
  {
   "cell_type": "markdown",
   "id": "52580a8c",
   "metadata": {},
   "source": [
    "Chapter 5. One- and two-sample tests\n",
    "- 5.1 One-sample t test\n",
    "- 5.2 Wilcoxon signed-rank test\n",
    "- 5.3 Two-sample t test\n",
    "- 5.4 Comparison of variances\n",
    "- 5.5 Two-sample Wilcoxon test\n",
    "- 5.6 The paired t test\n",
    "- 5.7 The matched-pairs Wilcoxon test"
   ]
  },
  {
   "cell_type": "markdown",
   "id": "4620774f",
   "metadata": {},
   "source": [
    "## One- and two-sample tests"
   ]
  },
  {
   "cell_type": "markdown",
   "id": "6baef69e",
   "metadata": {},
   "source": [
    "### One-sample t test (일표본 t검정)\n",
    "1. x들이 평균 뮤/분산이 시그마제곱인 정규분포 따르는, 표본 n개 를 가정\n",
    "    - 귀무: 평균이 뮤 제로인가\n",
    "    - **대립: 평균이 뮤 제로가 아닌가**\n",
    "2. 이럴 때, **t통계량을 사용**한다\n",
    "    - **t통계량 계산: x_bar - m0 / 표준오차s/루트n ~ 귀무가설이 맞다고 할 때 -> 자유도가 n-1인 t분포를 따른다**\n",
    "    ![image-20220412234659875](https://raw.githubusercontent.com/is2js/screenshots/main/image-20220412234659875.png)\n",
    "\n"
   ]
  },
  {
   "cell_type": "markdown",
   "id": "e6fcefdf",
   "metadata": {},
   "source": [
    "#### 예제\n",
    "example concerning daily energy intake in kJ for 11 women (Altman, 1991, p. 183).\n",
    "To investigate whether the women’s energy intake deviates systematically from a\n",
    "recommended value of 7725 kJ."
   ]
  },
  {
   "cell_type": "code",
   "execution_count": 1,
   "id": "00934613",
   "metadata": {
    "vscode": {
     "languageId": "r"
    }
   },
   "outputs": [],
   "source": [
    "# 알트만 교재, 11명의 여성들에 대해, kilojoule(음식물에너지단위) 매일 에너지 섭취를 조사하였더니,\n",
    "# -> remcommend되는 량이 7725 kJ인데\n",
    "# -> 11개 데이터는 평균이 == 뮤제로(7725kJ)인지 검증해보기\n",
    "\n",
    "# H0: m == 7725\n",
    "# H1: m != 7725  -> 자연스럽게 양측검증이된다.\n",
    "\n",
    "# cf) H1: m < 7725 -> 단측검증\n"
   ]
  },
  {
   "cell_type": "code",
   "execution_count": 2,
   "id": "7965a6bc",
   "metadata": {
    "vscode": {
     "languageId": "r"
    }
   },
   "outputs": [
    {
     "data": {
      "text/html": [
       "<ol class=list-inline>\n",
       "\t<li>5260</li>\n",
       "\t<li>5470</li>\n",
       "\t<li>5640</li>\n",
       "\t<li>6180</li>\n",
       "\t<li>6390</li>\n",
       "\t<li>6515</li>\n",
       "\t<li>6805</li>\n",
       "\t<li>7515</li>\n",
       "\t<li>7515</li>\n",
       "\t<li>8230</li>\n",
       "\t<li>8770</li>\n",
       "</ol>\n"
      ],
      "text/latex": [
       "\\begin{enumerate*}\n",
       "\\item 5260\n",
       "\\item 5470\n",
       "\\item 5640\n",
       "\\item 6180\n",
       "\\item 6390\n",
       "\\item 6515\n",
       "\\item 6805\n",
       "\\item 7515\n",
       "\\item 7515\n",
       "\\item 8230\n",
       "\\item 8770\n",
       "\\end{enumerate*}\n"
      ],
      "text/markdown": [
       "1. 5260\n",
       "2. 5470\n",
       "3. 5640\n",
       "4. 6180\n",
       "5. 6390\n",
       "6. 6515\n",
       "7. 6805\n",
       "8. 7515\n",
       "9. 7515\n",
       "10. 8230\n",
       "11. 8770\n",
       "\n",
       "\n"
      ],
      "text/plain": [
       " [1] 5260 5470 5640 6180 6390 6515 6805 7515 7515 8230 8770"
      ]
     },
     "metadata": {},
     "output_type": "display_data"
    }
   ],
   "source": [
    "# 1) 11개 데이터를 벡터로 모으기\n",
    "daily.intake <- c(5260,5470,5640,6180,6390,6515, 6805,7515,7515,8230,8770) \n",
    "daily.intake"
   ]
  },
  {
   "cell_type": "code",
   "execution_count": 3,
   "id": "154a6a77",
   "metadata": {
    "vscode": {
     "languageId": "r"
    }
   },
   "outputs": [
    {
     "data": {
      "text/html": [
       "6753.63636363636"
      ],
      "text/latex": [
       "6753.63636363636"
      ],
      "text/markdown": [
       "6753.63636363636"
      ],
      "text/plain": [
       "[1] 6753.636"
      ]
     },
     "metadata": {},
     "output_type": "display_data"
    }
   ],
   "source": [
    "# 2) 데이터에 대해 검정통계량 구하기 전, \n",
    "# -> 실제 평균 등의 숫자데이터의 mean() + sd() + 중앙값by quantile() + @ (boxplot, hist) 각각 구해보기\n",
    "mean(daily.intake) \n",
    "\n",
    "# -> 평균은 7725보단 작네"
   ]
  },
  {
   "cell_type": "code",
   "execution_count": 4,
   "id": "216eac5e",
   "metadata": {
    "vscode": {
     "languageId": "r"
    }
   },
   "outputs": [
    {
     "data": {
      "text/html": [
       "1142.12322213737"
      ],
      "text/latex": [
       "1142.12322213737"
      ],
      "text/markdown": [
       "1142.12322213737"
      ],
      "text/plain": [
       "[1] 1142.123"
      ]
     },
     "metadata": {},
     "output_type": "display_data"
    }
   ],
   "source": [
    "sd(daily.intake)\n",
    "\n",
    "# -> 변동까지 고려할땐 sd구하기"
   ]
  },
  {
   "cell_type": "code",
   "execution_count": 5,
   "id": "e9c60ffd",
   "metadata": {
    "vscode": {
     "languageId": "r"
    }
   },
   "outputs": [
    {
     "data": {
      "text/html": [
       "<dl class=dl-horizontal>\n",
       "\t<dt>0%</dt>\n",
       "\t\t<dd>5260</dd>\n",
       "\t<dt>25%</dt>\n",
       "\t\t<dd>5910</dd>\n",
       "\t<dt>50%</dt>\n",
       "\t\t<dd>6515</dd>\n",
       "\t<dt>75%</dt>\n",
       "\t\t<dd>7515</dd>\n",
       "\t<dt>100%</dt>\n",
       "\t\t<dd>8770</dd>\n",
       "</dl>\n"
      ],
      "text/latex": [
       "\\begin{description*}\n",
       "\\item[0\\textbackslash{}\\%] 5260\n",
       "\\item[25\\textbackslash{}\\%] 5910\n",
       "\\item[50\\textbackslash{}\\%] 6515\n",
       "\\item[75\\textbackslash{}\\%] 7515\n",
       "\\item[100\\textbackslash{}\\%] 8770\n",
       "\\end{description*}\n"
      ],
      "text/markdown": [
       "0%\n",
       ":   526025%\n",
       ":   591050%\n",
       ":   651575%\n",
       ":   7515100%\n",
       ":   8770\n",
       "\n"
      ],
      "text/plain": [
       "  0%  25%  50%  75% 100% \n",
       "5260 5910 6515 7515 8770 "
      ]
     },
     "metadata": {},
     "output_type": "display_data"
    }
   ],
   "source": [
    "quantile(daily.intake)\n",
    "\n",
    "# -> 중앙값을 봤을 때도, 7725보다 작을 것을 예상"
   ]
  },
  {
   "cell_type": "code",
   "execution_count": 6,
   "id": "bdf5e101",
   "metadata": {
    "vscode": {
     "languageId": "r"
    }
   },
   "outputs": [
    {
     "data": {
      "text/plain": [
       "\n",
       "\tOne Sample t-test\n",
       "\n",
       "data:  daily.intake\n",
       "t = -2.8208, df = 10, p-value = 0.01814\n",
       "alternative hypothesis: true mean is not equal to 7725\n",
       "95 percent confidence interval:\n",
       " 5986.348 7520.925\n",
       "sample estimates:\n",
       "mean of x \n",
       " 6753.636 \n"
      ]
     },
     "metadata": {},
     "output_type": "display_data"
    }
   ],
   "source": [
    "# R에서 일표본 t검정해보기 by t.test()\n",
    "t.test(daily.intake, mu=7725)\n",
    "\n",
    "# - t값, 자유도, p값=유의확률=0.01814 -> 유의수준a=0.05 기준    p값 < a보다 더 작아서\n",
    "# --> 귀무가설 기각 reject H0 \n",
    "\n",
    "# true mean is not equal to 7725 : 양측검증을 기본으로 하는 일표본t검정\n",
    "\n",
    "# 95% 신뢰구간 => 평균이 95% 확률로 여기있는 구간 ->   5986.348 < < 7520.925    7755보다 작은 곳에 95% 평균이 존재함\n",
    "# --> 이 구간만 봐도, 귀무가설 기각되겠구나 알 수 있다.\n",
    "\n",
    "\n",
    "# data deviate significantly(하게 벗어난다)from the hypothesis that the mean is 7725.\n",
    "\n"
   ]
  },
  {
   "cell_type": "code",
   "execution_count": 7,
   "id": "271e09f9",
   "metadata": {
    "vscode": {
     "languageId": "r"
    }
   },
   "outputs": [
    {
     "data": {
      "text/plain": [
       "\n",
       "\tOne Sample t-test\n",
       "\n",
       "data:  daily.intake\n",
       "t = -2.8208, df = 10, p-value = 0.009069\n",
       "alternative hypothesis: true mean is less than 7725\n",
       "95 percent confidence interval:\n",
       "     -Inf 7377.781\n",
       "sample estimates:\n",
       "mean of x \n",
       " 6753.636 \n"
      ]
     },
     "metadata": {},
     "output_type": "display_data"
    }
   ],
   "source": [
    "# Optional arguments\n",
    "#  : mu (def=0), -> # mu=값을 안주면 0으로 검정하게 된다.\n",
    "\n",
    "\n",
    "#  alternative = “grater”(“g”) or “less” (“l”) (def=two-sided),\n",
    "# -> 단측검정으로서 <<h1기준>> mu보다 크다 검정 -> alternative =\"g\"옵션    vs  mu보다 작다 검정 alternative =\"l\"옵션\n",
    "t.test(daily.intake, mu=7725, alternative = \"l\") # H1: m < 7725\n",
    "# --> 단측검정의 p-value는 양측검증 p-value/2만 해주면 그 값이다\n",
    "\n",
    "#  conf.level = 0.99 (def=0.95)"
   ]
  },
  {
   "cell_type": "markdown",
   "id": "7c8c0727",
   "metadata": {},
   "source": [
    "### 5.2 Wilcoxon signed-rank test\n",
    "- t-test는 샘플 수가 많은 경우, 정규분포에서 벗어나더라도 잘 작동(fairly robust)하지만,\n",
    "    - 이러한 가정을 쓰지 않고, 분포와 무관한 방법으로 사용할 땐 `비모수`적인 방법인 `Wilcoxon signed-rank test`를 사용한다\n",
    "- 각 값Xi과 m0를 뺀 뒤, 부호를 상관하지 않고서 차이에 대한 rank로 검증해내간다\n",
    "    ![image-20220413000846644](https://raw.githubusercontent.com/is2js/screenshots/main/image-20220413000846644.png)"
   ]
  },
  {
   "cell_type": "code",
   "execution_count": 8,
   "id": "0f68431a",
   "metadata": {
    "vscode": {
     "languageId": "r"
    }
   },
   "outputs": [
    {
     "name": "stderr",
     "output_type": "stream",
     "text": [
      "Warning message in wilcox.test.default(daily.intake, mu = 7725):\n",
      "\"cannot compute exact p-value with ties\""
     ]
    },
    {
     "data": {
      "text/plain": [
       "\n",
       "\tWilcoxon signed rank test with continuity correction\n",
       "\n",
       "data:  daily.intake\n",
       "V = 8, p-value = 0.0293\n",
       "alternative hypothesis: true location is not equal to 7725\n"
      ]
     },
     "metadata": {},
     "output_type": "display_data"
    }
   ],
   "source": [
    "wilcox.test(daily.intake, mu = 7725)\n",
    "\n",
    "# V값은 양수ranks들의 합이며, 통계량의 p-value는.."
   ]
  },
  {
   "cell_type": "markdown",
   "id": "436a43d4",
   "metadata": {},
   "source": [
    "### Two-sample t tes (독립표본 t검정)"
   ]
  },
  {
   "cell_type": "code",
   "execution_count": 7,
   "id": "c4862992",
   "metadata": {
    "vscode": {
     "languageId": "r"
    }
   },
   "outputs": [],
   "source": [
    "# 에너지 데이터 by library(\"ISwR\")\n",
    "\n",
    "library(\"ISwR\")\n",
    "\n",
    "data(energy)"
   ]
  },
  {
   "cell_type": "markdown",
   "id": "5eb881a6",
   "metadata": {},
   "source": [
    "#### my) 범주칼럼의 unique한 범주종류 = 그룹의 수 -> 2개여야 독립표본 t검정 가능"
   ]
  },
  {
   "cell_type": "code",
   "execution_count": 11,
   "id": "3bf82ec7",
   "metadata": {
    "vscode": {
     "languageId": "r"
    }
   },
   "outputs": [
    {
     "data": {
      "text/html": [
       "<ol class=list-inline>\n",
       "\t<li>obese</li>\n",
       "\t<li>lean</li>\n",
       "\t<li>lean</li>\n",
       "\t<li>lean</li>\n",
       "\t<li>lean</li>\n",
       "\t<li>lean</li>\n",
       "\t<li>lean</li>\n",
       "\t<li>lean</li>\n",
       "\t<li>lean</li>\n",
       "\t<li>lean</li>\n",
       "\t<li>obese</li>\n",
       "\t<li>obese</li>\n",
       "\t<li>lean</li>\n",
       "\t<li>obese</li>\n",
       "\t<li>obese</li>\n",
       "\t<li>lean</li>\n",
       "\t<li>obese</li>\n",
       "\t<li>obese</li>\n",
       "\t<li>obese</li>\n",
       "\t<li>lean</li>\n",
       "\t<li>obese</li>\n",
       "\t<li>lean</li>\n",
       "</ol>\n",
       "\n",
       "<details>\n",
       "\t<summary style=display:list-item;cursor:pointer>\n",
       "\t\t<strong>Levels</strong>:\n",
       "\t</summary>\n",
       "\t<ol class=list-inline>\n",
       "\t\t<li>'lean'</li>\n",
       "\t\t<li>'obese'</li>\n",
       "\t</ol>\n",
       "</details>"
      ],
      "text/latex": [
       "\\begin{enumerate*}\n",
       "\\item obese\n",
       "\\item lean\n",
       "\\item lean\n",
       "\\item lean\n",
       "\\item lean\n",
       "\\item lean\n",
       "\\item lean\n",
       "\\item lean\n",
       "\\item lean\n",
       "\\item lean\n",
       "\\item obese\n",
       "\\item obese\n",
       "\\item lean\n",
       "\\item obese\n",
       "\\item obese\n",
       "\\item lean\n",
       "\\item obese\n",
       "\\item obese\n",
       "\\item obese\n",
       "\\item lean\n",
       "\\item obese\n",
       "\\item lean\n",
       "\\end{enumerate*}\n",
       "\n",
       "\\emph{Levels}: \\begin{enumerate*}\n",
       "\\item 'lean'\n",
       "\\item 'obese'\n",
       "\\end{enumerate*}\n"
      ],
      "text/markdown": [
       "1. obese\n",
       "2. lean\n",
       "3. lean\n",
       "4. lean\n",
       "5. lean\n",
       "6. lean\n",
       "7. lean\n",
       "8. lean\n",
       "9. lean\n",
       "10. lean\n",
       "11. obese\n",
       "12. obese\n",
       "13. lean\n",
       "14. obese\n",
       "15. obese\n",
       "16. lean\n",
       "17. obese\n",
       "18. obese\n",
       "19. obese\n",
       "20. lean\n",
       "21. obese\n",
       "22. lean\n",
       "\n",
       "\n",
       "\n",
       "**Levels**: 1. 'lean'\n",
       "2. 'obese'\n",
       "\n",
       "\n"
      ],
      "text/plain": [
       " [1] obese lean  lean  lean  lean  lean  lean  lean  lean  lean  obese obese\n",
       "[13] lean  obese obese lean  obese obese obese lean  obese lean \n",
       "Levels: lean obese"
      ]
     },
     "metadata": {},
     "output_type": "display_data"
    }
   ],
   "source": [
    "energy$stature # 범주칼럼 -> 범주의 종류 = 그룹의 갯수 -> 2종류 == 2그룹"
   ]
  },
  {
   "cell_type": "code",
   "execution_count": 10,
   "id": "7ef7893d",
   "metadata": {
    "vscode": {
     "languageId": "r"
    }
   },
   "outputs": [
    {
     "data": {
      "text/plain": [
       "\n",
       "\tWelch Two Sample t-test\n",
       "\n",
       "data:  expend by stature\n",
       "t = -3.8555, df = 15.919, p-value = 0.001411\n",
       "alternative hypothesis: true difference in means is not equal to 0\n",
       "95 percent confidence interval:\n",
       " -3.459167 -1.004081\n",
       "sample estimates:\n",
       " mean in group lean mean in group obese \n",
       "           8.066154           10.297778 \n"
      ]
     },
     "metadata": {},
     "output_type": "display_data"
    }
   ],
   "source": [
    "# attach(energy)\n",
    "# t.test(expend ~ stature)\n",
    "\n",
    "# stature의 2그룹(2값)에 따라서 expend의 평균비교를 t.tset로 하시오\n",
    "# -> y ~ x(그룹변수, 범주칼럼)\n",
    "# H0: m1=m2, H1: m1 != m2\n",
    "\n",
    "t.test(expend ~ stature, data=energy)\n",
    "\n",
    "# 맨마지막에 각 그룹의 평균이 나옴\n",
    "\n",
    "# 두 그릅의 평균을 뺀 뒤 표준화한 값이 t통계량 -> \n",
    "# -> t0 = -3.85 \n",
    "\n",
    "# df= 15.919 -> 자유도 소수점이하로 나온다? -> 분산을 서로 다르다고 보고 작업하는 구나\n",
    "# -> r에서 기본 제공하는 t-test인 Welch 독립표본 t-test는 2그룹간의 분산을 서로 다르다고 보고 있구나 생각\n",
    "\n",
    "# p <0.05 : H0기각, H1채택 -> mean차이가 유의미하게 난다."
   ]
  },
  {
   "cell_type": "markdown",
   "id": "c79c0c98",
   "metadata": {},
   "source": [
    "#### Welch(웰스)의 two-sample = 독립표본 t test\n",
    "- 2 그룹의 분산이 같은 경우엔 `df = n1+n2-2`의 정수가 나온다.\n",
    "    ![image-20220413222725989](https://raw.githubusercontent.com/is2js/screenshots/main/image-20220413222725989.png)"
   ]
  },
  {
   "cell_type": "markdown",
   "id": "19acc114",
   "metadata": {},
   "source": [
    "#### 등분산 가정 Two-sample t test"
   ]
  },
  {
   "cell_type": "code",
   "execution_count": 13,
   "id": "08c202c7",
   "metadata": {
    "vscode": {
     "languageId": "r"
    }
   },
   "outputs": [
    {
     "data": {
      "text/plain": [
       "\n",
       "\tTwo Sample t-test\n",
       "\n",
       "data:  expend by stature\n",
       "t = -3.9456, df = 20, p-value = 0.000799\n",
       "alternative hypothesis: true difference in means is not equal to 0\n",
       "95 percent confidence interval:\n",
       " -3.411451 -1.051796\n",
       "sample estimates:\n",
       " mean in group lean mean in group obese \n",
       "           8.066154           10.297778 \n"
      ]
     },
     "metadata": {},
     "output_type": "display_data"
    }
   ],
   "source": [
    "# var.equal=T을 넣어주면 된다.\n",
    "\n",
    "t.test(expend~stature, var.equal=T) \n",
    "# df = n1 + n2 - 2\n",
    "\n",
    "# p-value도 등분산성 가정안했을때보다 더 줄어든다."
   ]
  },
  {
   "cell_type": "markdown",
   "id": "9335ed15",
   "metadata": {},
   "source": [
    "### Comparison of variances(2그룹 분산 검정) - 알파 0.05대신 0.1\n"
   ]
  },
  {
   "cell_type": "code",
   "execution_count": 14,
   "id": "f58a46d3",
   "metadata": {
    "vscode": {
     "languageId": "r"
    }
   },
   "outputs": [
    {
     "data": {
      "text/plain": [
       "\n",
       "\tF test to compare two variances\n",
       "\n",
       "data:  expend by stature\n",
       "F = 0.78445, num df = 12, denom df = 8, p-value = 0.6797\n",
       "alternative hypothesis: true ratio of variances is not equal to 1\n",
       "95 percent confidence interval:\n",
       " 0.1867876 2.7547991\n",
       "sample estimates:\n",
       "ratio of variances \n",
       "          0.784446 \n"
      ]
     },
     "metadata": {},
     "output_type": "display_data"
    }
   ],
   "source": [
    "# 2그룹 분산 검정 -> F분포를 이용한 F-test\n",
    "# H0: 시그마1^2 = 시그마2^2\n",
    "\n",
    "var.test(expend ~ stature, data=energy)\n",
    "\n",
    "# 유의수준을 0.05가 아니라 0.1보다 작은지를 많이 쓴다.***\n",
    "\n",
    "# 등분산성은 H0를 기각하지못해야 이득\n",
    "# -> H0: 시그마1^2 = 시그마2^2  기각X -> 등분산성 증명된다.\n",
    "\n",
    "# 등분산성을 만족시킨다면 -> t.test( , var.equal=T)로 평균이 같은지 검정한다."
   ]
  },
  {
   "cell_type": "markdown",
   "id": "a4615a39",
   "metadata": {},
   "source": [
    "### 5.5 Two-sample Wilcoxon test\n",
    "- 일표본 처럼, 비모수적인 윌콕슨test\n",
    "- 2그룹의 rank를 가지고 검정한다."
   ]
  },
  {
   "cell_type": "code",
   "execution_count": 16,
   "id": "d5a7b262",
   "metadata": {
    "vscode": {
     "languageId": "r"
    }
   },
   "outputs": [
    {
     "name": "stderr",
     "output_type": "stream",
     "text": [
      "Warning message in wilcox.test.default(x = c(7.53, 7.48, 8.08, 8.09, 10.15, 8.4, :\n",
      "\"cannot compute exact p-value with ties\""
     ]
    },
    {
     "data": {
      "text/plain": [
       "\n",
       "\tWilcoxon rank sum test with continuity correction\n",
       "\n",
       "data:  expend by stature\n",
       "W = 12, p-value = 0.002122\n",
       "alternative hypothesis: true location shift is not equal to 0\n"
      ]
     },
     "metadata": {},
     "output_type": "display_data"
    }
   ],
   "source": [
    "wilcox.test(expend ~ stature, data=energy)\n",
    "\n",
    "# p가 0.05보다 작으니 2그룹간에 차이가 있구나를 증명할 수 있다.\n",
    "\n",
    "# W값은, 첫번째 그룹의 rank의 합이다."
   ]
  },
  {
   "cell_type": "markdown",
   "id": "d3935289",
   "metadata": {},
   "source": [
    "### 5.6 The paired t test (대응표본 = 짝지어진 표본)\n",
    "- 대응표본 = 짝지어진 표본 검정\n",
    "- **같은 표본에 2가지 실험(실험전/후를 주로 많이)을 한 뒤 비교한다**"
   ]
  },
  {
   "cell_type": "code",
   "execution_count": 17,
   "id": "662d37aa",
   "metadata": {
    "vscode": {
     "languageId": "r"
    }
   },
   "outputs": [
    {
     "data": {
      "text/html": [
       "<table>\n",
       "<thead><tr><th scope=col>pre</th><th scope=col>post</th></tr></thead>\n",
       "<tbody>\n",
       "\t<tr><td>5260</td><td>3910</td></tr>\n",
       "\t<tr><td>5470</td><td>4220</td></tr>\n",
       "\t<tr><td>5640</td><td>3885</td></tr>\n",
       "\t<tr><td>6180</td><td>5160</td></tr>\n",
       "\t<tr><td>6390</td><td>5645</td></tr>\n",
       "\t<tr><td>6515</td><td>4680</td></tr>\n",
       "\t<tr><td>6805</td><td>5265</td></tr>\n",
       "\t<tr><td>7515</td><td>5975</td></tr>\n",
       "\t<tr><td>7515</td><td>6790</td></tr>\n",
       "\t<tr><td>8230</td><td>6900</td></tr>\n",
       "\t<tr><td>8770</td><td>7335</td></tr>\n",
       "</tbody>\n",
       "</table>\n"
      ],
      "text/latex": [
       "\\begin{tabular}{r|ll}\n",
       " pre & post\\\\\n",
       "\\hline\n",
       "\t 5260 & 3910\\\\\n",
       "\t 5470 & 4220\\\\\n",
       "\t 5640 & 3885\\\\\n",
       "\t 6180 & 5160\\\\\n",
       "\t 6390 & 5645\\\\\n",
       "\t 6515 & 4680\\\\\n",
       "\t 6805 & 5265\\\\\n",
       "\t 7515 & 5975\\\\\n",
       "\t 7515 & 6790\\\\\n",
       "\t 8230 & 6900\\\\\n",
       "\t 8770 & 7335\\\\\n",
       "\\end{tabular}\n"
      ],
      "text/markdown": [
       "\n",
       "| pre | post |\n",
       "|---|---|\n",
       "| 5260 | 3910 |\n",
       "| 5470 | 4220 |\n",
       "| 5640 | 3885 |\n",
       "| 6180 | 5160 |\n",
       "| 6390 | 5645 |\n",
       "| 6515 | 4680 |\n",
       "| 6805 | 5265 |\n",
       "| 7515 | 5975 |\n",
       "| 7515 | 6790 |\n",
       "| 8230 | 6900 |\n",
       "| 8770 | 7335 |\n",
       "\n"
      ],
      "text/plain": [
       "   pre  post\n",
       "1  5260 3910\n",
       "2  5470 4220\n",
       "3  5640 3885\n",
       "4  6180 5160\n",
       "5  6390 5645\n",
       "6  6515 4680\n",
       "7  6805 5265\n",
       "8  7515 5975\n",
       "9  7515 6790\n",
       "10 8230 6900\n",
       "11 8770 7335"
      ]
     },
     "metadata": {},
     "output_type": "display_data"
    }
   ],
   "source": [
    "intake # row개인별, 같은 표본으로서, 먹기 전/후 값"
   ]
  },
  {
   "cell_type": "code",
   "execution_count": 29,
   "id": "2968dd23",
   "metadata": {
    "vscode": {
     "languageId": "r"
    }
   },
   "outputs": [
    {
     "data": {
      "text/plain": [
       "\n",
       "\tPaired t-test\n",
       "\n",
       "data:  intake$pre and intake$post\n",
       "t = 11.941, df = 10, p-value = 3.059e-07\n",
       "alternative hypothesis: true difference in means is not equal to 0\n",
       "95 percent confidence interval:\n",
       " 1074.072 1566.838\n",
       "sample estimates:\n",
       "mean of the differences \n",
       "               1320.455 \n"
      ]
     },
     "metadata": {},
     "output_type": "display_data"
    }
   ],
   "source": [
    "# 이건 data=intake + 개별 칼럼을 사용시 에러났다.\n",
    "\n",
    "t.test(intake$pre, intake$post, paired = T)\n",
    "\n",
    "# df = 10 -> 총 데이터 11개\n",
    "# t-통계량 = 11 -> 엄청 크다 -> 차이가 확실히 있구나( t통계량은 평균을 빼서 표준화한 것?)\n",
    "# e-07 -> 10^-7승"
   ]
  },
  {
   "cell_type": "markdown",
   "id": "e8535340",
   "metadata": {},
   "source": [
    "### 5.7 The matched-pairs Wilcoxon test (비모수 paired t-test)\n"
   ]
  },
  {
   "cell_type": "code",
   "execution_count": 37,
   "id": "fa354f43",
   "metadata": {
    "vscode": {
     "languageId": "r"
    }
   },
   "outputs": [
    {
     "ename": "ERROR",
     "evalue": "Error in wilcox.test(pre, post, data = intake, paired = T): 객체 'pre'를 찾을 수 없습니다\n",
     "output_type": "error",
     "traceback": [
      "Error in wilcox.test(pre, post, data = intake, paired = T): 객체 'pre'를 찾을 수 없습니다\nTraceback:\n",
      "1. wilcox.test(pre, post, data = intake, paired = T)"
     ]
    }
   ],
   "source": [
    "wilcox.test(pre, post, data=intake, paired=T) "
   ]
  },
  {
   "cell_type": "code",
   "execution_count": 38,
   "id": "47e78b95",
   "metadata": {
    "vscode": {
     "languageId": "r"
    }
   },
   "outputs": [
    {
     "name": "stderr",
     "output_type": "stream",
     "text": [
      "Warning message in wilcox.test.default(intake$pre, intake$post, paired = T):\n",
      "\"cannot compute exact p-value with ties\""
     ]
    },
    {
     "data": {
      "text/plain": [
       "\n",
       "\tWilcoxon signed rank test with continuity correction\n",
       "\n",
       "data:  intake$pre and intake$post\n",
       "V = 66, p-value = 0.00384\n",
       "alternative hypothesis: true location shift is not equal to 0\n"
      ]
     },
     "metadata": {},
     "output_type": "display_data"
    }
   ],
   "source": [
    "wilcox.test(intake$pre, intake$post, paired=T) "
   ]
  },
  {
   "cell_type": "code",
   "execution_count": null,
   "id": "d0dda203",
   "metadata": {
    "vscode": {
     "languageId": "r"
    }
   },
   "outputs": [],
   "source": []
  },
  {
   "cell_type": "code",
   "execution_count": null,
   "id": "2ae4424d",
   "metadata": {
    "vscode": {
     "languageId": "r"
    }
   },
   "outputs": [],
   "source": []
  }
 ],
 "metadata": {
  "kernelspec": {
   "display_name": "R",
   "language": "R",
   "name": "ir"
  },
  "language_info": {
   "codemirror_mode": "r",
   "file_extension": ".r",
   "mimetype": "text/x-r-source",
   "name": "R",
   "pygments_lexer": "r",
   "version": "3.6.1"
  },
  "toc": {
   "base_numbering": 1,
   "nav_menu": {},
   "number_sections": true,
   "sideBar": true,
   "skip_h1_title": false,
   "title_cell": "Table of Contents",
   "title_sidebar": "Contents",
   "toc_cell": false,
   "toc_position": {},
   "toc_section_display": true,
   "toc_window_display": true
  }
 },
 "nbformat": 4,
 "nbformat_minor": 5
}
