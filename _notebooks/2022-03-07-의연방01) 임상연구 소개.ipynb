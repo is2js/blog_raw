{
 "cells": [
  {
   "cell_type": "markdown",
   "id": "dea26493",
   "metadata": {},
   "source": [
    "# \"의연방01) 임상연구 소개\"\n",
    "> \"Clinical research\"\n",
    "\n",
    "- toc:true\n",
    "- branch: master\n",
    "- badges: true\n",
    "- comments: true\n",
    "- author: tingstyle1\n",
    "- categories: [R, 통계, 대학원, 의연방, 임상연구]\n",
    "- image: \"images/posts/data.png\""
   ]
  },
  {
   "cell_type": "markdown",
   "id": "566bd615",
   "metadata": {},
   "source": [
    "## 임상연구"
   ]
  },
  {
   "cell_type": "markdown",
   "id": "f1241cb2",
   "metadata": {},
   "source": [
    "### 임상연구란\n",
    "\n",
    "![image-20220311215708158](https://raw.githubusercontent.com/is3js/screenshots/main/image-20220311215708158.png)\n",
    "\n"
   ]
  },
  {
   "cell_type": "markdown",
   "id": "193d408e",
   "metadata": {},
   "source": [
    "- 임상연구: 사람의 질병을 이해, 예방, 치료하고    건강을 증진하기 위한 학문\n",
    "    - `사람의 질병`에 대한 학문\n",
    "    - 사람이 아닌 `동물실험 연구도` 도움 될 수 있다. 실험실에서 `세포, 분자단위 연구도` 도움 될 수 있다.\n",
    "        - `Labloratory Research`와도 겹치게 된다.\n",
    "    - 큰 인구집단에 적용한다고 하면, 예를들어, 특정 질병에 취약한 high risk 집단은 어떤 계층인가, 질병의 outcome을 향상시키기 위해서 어떤 의료시스템 변화를 implement해야할 것인가와 연결되어 있다.\n",
    "        - `Population Research`와도 겹치게 된다.\n",
    "    ![image-20220311215759618](https://raw.githubusercontent.com/is3js/screenshots/main/image-20220311215759618.png)\n",
    "\n",
    "\n",
    "    "
   ]
  },
  {
   "cell_type": "markdown",
   "id": "8526d702",
   "metadata": {},
   "source": [
    "### 임상연구의 종류\n",
    "\n",
    "![image-20220311220217879](https://raw.githubusercontent.com/is3js/screenshots/main/image-20220311220217879.png)\n",
    "\n"
   ]
  },
  {
   "cell_type": "markdown",
   "id": "66909792",
   "metadata": {},
   "source": [
    "1. 치료\n",
    "2. 예방\n",
    "3. 진단\n",
    "4. 스키리닝\n",
    "5. 삶의질\n",
    "6. 유전학\n",
    "7. (큰 인구집단) 역학 연구까지 종류가 다양하다"
   ]
  },
  {
   "cell_type": "markdown",
   "id": "3b4c80a7",
   "metadata": {},
   "source": [
    "#### 관련분야\n",
    "1. 기초과학(생물학, 화학, 유전학...)\n",
    "2. 역학\n",
    "3. 통계학\n",
    "4. Psychometrics: 임상연구에서 쓰이는 각 변수들의 measurement들이 얼마나 신뢰도가 있느냐 관련"
   ]
  },
  {
   "cell_type": "markdown",
   "id": "fc338495",
   "metadata": {},
   "source": [
    "#### Physiology of resarch( 연구 해부도 )\n",
    "- Designing Clinical Research 4판에 나오는 내용\n",
    "  \n",
    "\n",
    "![image-20220311220445685](https://raw.githubusercontent.com/is3js/screenshots/main/image-20220311220445685.png)\n",
    "\n"
   ]
  },
  {
   "cell_type": "markdown",
   "id": "b32447d2",
   "metadata": {},
   "source": [
    "- 알고 싶은 세계: truth in the universe\n",
    "    - 그 중 알고 싶은 것 총 2가지 (0) research question\n",
    "    - 어떤 집단에 대한 궁금증인가 (1) target population\n",
    "    - 어떤 현상에 관심이 있나 (2) phenomena of interest\n",
    "    \n",
    "- 알고 싶으니 연구계획을 세운다:  study plan\n",
    "    - 알고 싶은 target population의 전체를 연구하는 경우는 거의 없다 -> 일부 의도된 샘플: intended sample\n",
    "    - 관심 현상을 알기 위해선 변수를 관측: intended variables\n",
    "    \n",
    "- 연구계획대로 되지 않은다: actual study\n",
    "    - 의도한 샘플과 비슷할 수도 있거나 다를 수 있는, 실제 조사/관찰한 subject들 : actual subjects\n",
    "    - 의도한 변수와 비슷할 수도 있거나 다를 수 있는, : actual measurements"
   ]
  },
  {
   "cell_type": "markdown",
   "id": "054d6aa0",
   "metadata": {},
   "source": [
    "- 실제로는 3가지 : `알고싶은 세계` -> `의도한 연구` -> `(의도가)실제로 수행/관측된 것`\n",
    "    - 3가지의 간극을 좁혀야한다. 각각은 얼마나 가까운가에 대한 것 : validity\n",
    "        - 알고싶은 세계 <-> 의도한 연구가 얼마나 가까운가 : External validity\n",
    "        - 의도한 연구 <-> 실제 연구가 얼마나 가까운가 : internal validity"
   ]
  },
  {
   "cell_type": "markdown",
   "id": "d654cf8d",
   "metadata": {},
   "source": [
    "#### 좋은 임상연구\n",
    "![image-20220311222234232](https://raw.githubusercontent.com/is3js/screenshots/main/image-20220311222234232.png)\n",
    "\n",
    "- 좋은 연구는 이 2가지 validity가 최대화된 연구 -> 어떻게 하면 맥시마이즈 할 수 있을까?"
   ]
  },
  {
   "cell_type": "markdown",
   "id": "794430bf",
   "metadata": {},
   "source": [
    "## 연구계획서\n",
    "![image-20220311222607363](https://raw.githubusercontent.com/is3js/screenshots/main/image-20220311222607363.png)"
   ]
  },
  {
   "cell_type": "markdown",
   "id": "d6115bc3",
   "metadata": {},
   "source": [
    "- 연구 구조가 적혀있는 설계도\n",
    "- 연구비 심사나 IRB를 위해 작성하는 경우가 많다\n",
    "- 그러나 근본적인 목적은 연구를 과학적/효율적으로 도와주는 도구가 된다."
   ]
  },
  {
   "cell_type": "markdown",
   "id": "3508238d",
   "metadata": {},
   "source": [
    "### 연구계획서 구성\n",
    "![image-20220311222715825](https://raw.githubusercontent.com/is3js/screenshots/main/image-20220311222715825.png)\n",
    "\n"
   ]
  },
  {
   "cell_type": "markdown",
   "id": "765b4f8b",
   "metadata": {},
   "source": [
    "####  연구질문(Research question)\n",
    "\n",
    "- 연구를 통해 답하고자하는   질문\n",
    "- 연구의 목적\n",
    "    - 연구 시작전 명시되어야하고, 구체적일 수록 좋다.\n",
    "     ![image-20220312165400817](https://raw.githubusercontent.com/is3js/screenshots/main/image-20220312165400817.png)\n",
    "\n",
    "\n",
    "- 연구 해부도내에서는 truth in the universe에 해당하는 것\n",
    "- 좋은 연구질문을 정하는 기준 `FINER`\n",
    "![image-20220312165638074](https://raw.githubusercontent.com/is3js/screenshots/main/image-20220312165638074.png)\n",
    "    1. Feasible(피져블): 실제 수행 가능한가?\n",
    "        - 실제 연구에 들어가는 비용과 시간을 감당할 수 있고,환자를 모집할 수 있는가\n",
    "        - 연구자의 능력/자원/경험치가 연구하기에 충분한가?\n",
    "            - 연구질문이 아무리 좋아도 피져블 하지 않으면 성공할 수가 없음.\n",
    "    2. Interesting: 연구자 본인에게 흥미로운 주제인가\n",
    "        - 더불어, 관련분야 연구자들의 흥미를 끌 만한 주제인가\n",
    "    3. Novel(노블): 기준연구와 비교시 새로운점이 있나\n",
    "        - 기존연구와 다른점이 있는가\n",
    "        - 기존연구의 단점을 보완하는가\n",
    "        - 완전히 새로운 가설을 만들어 내는가\n",
    "    4. Ethical(에띠컬): 윤리적인가\n",
    "        - 윤리적 연구 기본원칙에 충실한가\n",
    "        - IRB 규정을 준수하는가\n",
    "    5. Relevant(렐러번트): 연구계획서에 significant에 해당하는 항목\n",
    "        - 얼마나 과학/환자 돌보는데 기여하는가\n",
    "        - 얼마나 새로운 지식을 창출하고, 미래연구를 촉진시키는 가\n",
    "        \n",
    "    ![image-20220312170114961](https://raw.githubusercontent.com/is3js/screenshots/main/image-20220312170114961.png)\n",
    "\n",
    "    ![image-20220312170358937](https://raw.githubusercontent.com/is3js/screenshots/main/image-20220312170358937.png)\n",
    "\n",
    "\n",
    "    \n",
    "        \n",
    "\n"
   ]
  },
  {
   "cell_type": "markdown",
   "id": "f4b0b4d8",
   "metadata": {},
   "source": [
    "#### 연구 배경과 중요성\n",
    "![image-20220312170638316](https://raw.githubusercontent.com/is3js/screenshots/main/image-20220312170638316.png)\n",
    "\n",
    "- 이미 무엇이 알려져있는가\n",
    "- 무엇이 안알려져있어서  이 연구질문이 중요한가\n",
    "- 이 연구를 하면 어떤 종류의 지식을\n",
    "- 이 연구가 어떤 prractical impact(실제 가이드라인, 보건정책에 영향)을 끼칠 것이가"
   ]
  },
  {
   "cell_type": "markdown",
   "id": "db87e62b",
   "metadata": {},
   "source": [
    "#### 연구디자인\n",
    "- 종류가 많고, 새로운 디자인이 개발되고 있어 정리될 순 없지만, 대략적으로 파악할 수 있는 그림이다.\n",
    "    ![image-20220312170940382](https://raw.githubusercontent.com/is3js/screenshots/main/image-20220312170940382.png)\n"
   ]
  },
  {
   "cell_type": "markdown",
   "id": "8b72fac7",
   "metadata": {},
   "source": [
    "- 크게 2가지\n",
    "    1. Experimental(실험) : 내가 연구대상에 무엇인가를 `가하거나 해서 -> 연구대상을 따라`가며 관찰\n",
    "        - 가하면서 연구대상을 따라가며 관찰하니 특성상 `Prospective`한 study일 수 밖에 없다.\n",
    "        - intervention등을 가한 다음, 이후에 일을 관찰하니 `Longitudinal` study일 수 밖에 없다.\n",
    "        \n",
    "    2. Observational(관찰): `가하지 않음 따라감` -> prospective가 될 수도 retrospective가 될 수도  \n",
    "        - prospective: 가하진 않지만 `지금부터 따라가`면서 살펴보는\n",
    "            - **Longitudinal**: `지금부터 따라가`면서 **현재->미래 2시점 연결해**관찰 = **`Cohort Study`**\n",
    "        - retrospective: 가하진 않지만 `지금부터 과거로 따라가`면서 살펴보는\n",
    "            - **Longitudinal**: `지금부터 과거로 따라가`면서 **현재->과거 2시점 연결해**관찰 = **`Case-control study`**\n",
    "        - cross-sectional: p/r관계없이, 시점을 2개이상 보지않고,딱 1시점만 보는 것"
   ]
  },
  {
   "cell_type": "markdown",
   "id": "d7f8c48d",
   "metadata": {},
   "source": [
    "- 연구의 목적에 따라 좋은 디자인의 기준이 달라지지만 \n",
    "- `좋은 디자인`: internal/external validity를 높이는 디자인\n",
    "    - 나쁜 디자인을 통계기법으로 극복해낼순 없다. -> 처음부터 잘 골라서 연구설계해야한다.\n",
    "![image-20220312172447398](https://raw.githubusercontent.com/is3js/screenshots/main/image-20220312172447398.png)\n",
    "\n"
   ]
  },
  {
   "cell_type": "markdown",
   "id": "6ae53955",
   "metadata": {},
   "source": [
    "#### 연구대상자\n",
    "\n",
    "![image-20220312172721471](https://raw.githubusercontent.com/is3js/screenshots/main/image-20220312172721471.png)\n",
    "\n",
    "\n",
    "- 알고 싶은 환자군 전체 `Target population`이 있고\n",
    "- 그 전체를 알 수 없으니 일부를 뽑은 게 `study sample(study subjects)`이라 한다.\n",
    "    - 연구계획서는 study sample이 어떤 집단이 될 것인지 적어야한다.\n",
    "    - 반드시 `inclusion/exclusion criteria(크라이테리아)`로 명시해줘야한다."
   ]
  },
  {
   "cell_type": "markdown",
   "id": "087558a1",
   "metadata": {},
   "source": [
    "##### inclusion criteria\n",
    "\n",
    "\n",
    "![image-20220312172930857](https://raw.githubusercontent.com/is3js/screenshots/main/image-20220312172930857.png)\n",
    "\n",
    "1. 인구학적 특성: 성별/나이에 대한 것\n",
    "2. 임상적 특성: 내가 관심있는 질병에 따라 결정되어지는, 대상의 임상기준?\n",
    "3. 지리학적 또는 행정적 특성: 내가 실제 연구 수행하는 장소와 시간\n",
    "4. 시간적 특성: 내가 실제 연구 수행하는 장소와 시간"
   ]
  },
  {
   "cell_type": "markdown",
   "id": "0525a92c",
   "metadata": {},
   "source": [
    "##### exclusion criteria\n",
    "- 연구대상자가 안되는 사람의 기준\n",
    "\n",
    "![image-20220312173513626](https://raw.githubusercontent.com/is3js/screenshots/main/image-20220312173513626.png)\n",
    "\n",
    "\n",
    "1. Follow Up 안될 가능성이 높은 사람은 제낀다. ex> 알콜중독자, 이사갈 사람\n",
    "2. 양질 데이터 제공이 어려운 사람은 제낀다. ex> 언어 문제, 지적장애인\n",
    "3. (drug study시) adverse effects를 겪을 가능성이 높은 사람은 제낀다  ex> 암환자, 임산부"
   ]
  },
  {
   "cell_type": "markdown",
   "id": "3273e9b5",
   "metadata": {},
   "source": [
    "- 연구 해부도에서, 가운데 부분이 연구대상자\n",
    "    - 내가 알고 싶은 타켓파풀레이션\n",
    "    - 그 중 일부를 어떻게 뽑겠다 계획\n",
    "    - 실제 recruit되는 환자\n",
    "        - 간격을 줄여야한다.\n",
    "     ![image-20220312173736861](https://raw.githubusercontent.com/is3js/screenshots/main/image-20220312173736861.png)\n",
    "\n"
   ]
  },
  {
   "cell_type": "markdown",
   "id": "2ff940e1",
   "metadata": {},
   "source": [
    "- 예시\n",
    "    ![image-20220313111344060](https://raw.githubusercontent.com/is3js/screenshots/main/image-20220313111344060.png)\n",
    "    - chd환자 `전체`(타겟 파퓰레이션)를 보고 싶지만\n",
    "    - `실제로는 recruit하게 되는`(인텐디드 샘플) 내가 일하는 곳의 intended sample으로만 제한된다 \n",
    "        - `타겟 파퓰레이션`과 괴리가 생기게 된다. -> 이 차이를 줄이기 위해, 모든병원 or 병원 갯수를 늘리는 식으로 노력하여 더 제네럴라이즈하게 시도할 수 있지만, 비용과 시간과 노력이 많이 들게 된다.\n",
    "        - 즉 `external validity`를 맥시마이즈 하는 것이 중요하지만, 비용/시간/노력의 문제 때문에 적당한 타협점을 찾아야한다.\n",
    "    - `recruit하려고 했던 subjects들 중에 실제로 연구에 동의`(액츄얼 스터디 샘플)해서 데이터를 제공한 환자들을 Actual Study sample이라고 한다.\n",
    "        - intended sample과 차이가 있을 수 있는데, 차이가 적을 수록 좋다\n",
    "        - 만약, recruite하려고 하는 사람들 중 매우 일부만 동의 등으로 차이가 커질 수록 internal validity가 해를 입게 된다.\n",
    "        "
   ]
  },
  {
   "cell_type": "markdown",
   "id": "5756eb46",
   "metadata": {},
   "source": [
    "#### 변수\n",
    "1. outcome: 결과변수, 반응변수\n",
    "    - 관심 질병유무 /심각도/이벤트 유무/건강상태\n",
    "2. 설명변수: 독립변수\n",
    "    - outcome과 관련되는 여러가지 factor들\n",
    "    \n",
    "    ![image-20220313112002344](https://raw.githubusercontent.com/is3js/screenshots/main/image-20220313112002344.png)\n",
    "\n"
   ]
  },
  {
   "cell_type": "markdown",
   "id": "fca34b41",
   "metadata": {},
   "source": [
    "#### 통계적 고려사항\n",
    "\n",
    "![image-20220313112257975](https://raw.githubusercontent.com/is3js/screenshots/main/image-20220313112257975.png)\n",
    "\n",
    "\n",
    "\n",
    "- 가설: 가장 중요한 것으로서, `research question`을 통계적으로 testable한 가설로 바꿔줘야한다.\n",
    "    - 귀무가설과 대립과설이 무엇과 무엇인지 / 어떻게 검증할 것인지 나와야한다.\n",
    "\n",
    "- 통계분석 계획: 가설이 나오난 뒤에, 이 가설을 어떤 테스트로 검정할 것인지 정하는 것 \n",
    "    - 가설 증명을 통한 r.q.에 답하기 위한 통계적 방법을 구체적으로 기술해야 됨.\n",
    "    \n",
    "- 연구 대상자 수: 위에서 정해진 통계적 방법이, 가설을 증명하기 위해 필요한 샘플 사이즈\n",
    "    - `내가 보이려고 하기 위한 대립`가설이 사실일 경우에, p밸류가 0.05보다 작게 나올 확률인 `power`가 80~90%로 확보되기 위해서 몇명의 환자를 조사해야하는지"
   ]
  },
  {
   "cell_type": "markdown",
   "id": "ad8e8632",
   "metadata": {},
   "source": [
    "### 임상연구의 단계"
   ]
  },
  {
   "cell_type": "markdown",
   "id": "17053ff0",
   "metadata": {},
   "source": [
    "#### 단계\n",
    "- 딱 정해진 것은 없지만 3가지로 책에서 서술한다.\n",
    "\n",
    "![image-20220313112918096](https://raw.githubusercontent.com/is3js/screenshots/main/image-20220313112918096.png)\n",
    "\n",
    "\n",
    "\n",
    "1. 디스크립티드 스터디: 관심있는 질병과 특성이 and/or 어떤 식의 분포로 나타나는지 기술하는 스터디\n",
    "    - `관심 질병`= 미표기 or `관련 특성`=한국 CHD환자의 일주일당 생선섭취량\n",
    "    - 이러한 현상이 있다.\n",
    "    \n",
    "2. 애널리틱 스터디: 관심 `질병`과 관련 `특성`의 상관관계/인과관계가 있는지 보는 연구\n",
    "    - `관심 질병`= 심장발작여부와 - `관련 특성`=한국 CHD환자의 일주일당 생선섭취량이 관련있는가?\n",
    "    \n",
    "    - 상관 관계가 확인이 되면 (-> 인과 관계가 먼저 완전히 확립되면 더 좋겠지만), 인과 관계를 확립을 확실히하기 위해 아래 다음단계인 `클리니컬 트라이얼`스로 넘어간다.\n",
    "    \n",
    "3. 클리니컬 트라리얼스: 관심있는 `intervention`이 추가되어 그 `효과를 확인`하는 연구이다.\n",
    "    - 특히, RCT를 하게되면 인과관계를 확실히 확인할 수 있다.\n",
    "    - 한국 CHD환자 대상 - `인터벤션1:fish oil보충제` vs `플라시보` 투약한 것에 비해 outcome이 좋은가?(심장발작 횟수가 줄어드는가?)를 진행한다.\n",
    "    \n"
   ]
  },
  {
   "cell_type": "markdown",
   "id": "65610d21",
   "metadata": {},
   "source": [
    "- 교수님 생각으로 전계되는 단계\n",
    "    ![image-20220313122901638](https://raw.githubusercontent.com/is3js/screenshots/main/image-20220313122901638.png)\n",
    "\n",
    "1. 처음 `내가 관심있는 현상에 대해서 디스크립션`해야한다\n",
    "2. 그 다음에는 `관심있는 특성과 관심있는 질병과의 어쏘시에션`(상관관계)를 보게 된다.\n",
    "3. 어쏘시에션을 확인한 상태에서 `코잘리티`(인과관계)를 보고 넘어가는 경우 vs 코잘리티를 못보고 넘어가는 경우가 있다\n",
    "    1. `프리딕션` 모델로 가는 경우 2가지\n",
    "        ![image-20220313123511871](https://raw.githubusercontent.com/is3js/screenshots/main/image-20220313123511871.png)\n",
    "\n",
    "        1. 관심질병-관심인자(특성)과의 `어쏘시에이션이 충분히 보였다` -> 코잘리티를 굳이 보이지 않더라도, `상관관계 높은 인자를 이용한 예측모델`을 만들 수 있다.\n",
    "            - **association모델에서 바로 prediction모델로 갈 수 있다.!**\n",
    "        2. 어쏘시에이션 -> `여러 방법을 통해 코절하다고 결론이 나온 경우` -> 프리딕션으로 넘어가기\n",
    "    2. `인터벤션 리서치`로 넘어가는 경우 2가지\n",
    "        ![image-20220313123929402](https://raw.githubusercontent.com/is3js/screenshots/main/image-20220313123929402.png)\n",
    "        1. 코잘리티를 확실하게 보이지 않더라도, `단지 상관관계만 보인 상태에서, 인과관계가 있을 것이라는 강한 믿음 or 근거를 가지고 intevention으로 넘어가기`\n",
    "        2. 어쏘시에이션 확인 후, `여러 통계기법 + 정황으로 코잘리티를 보인 상태에서, 인터벤션으로 넘어가기`     \n",
    "4. 인터벤션(주로 RCT로 함)의 효과가 확인되었다면, `같은 인터벤션에 대한 효과들을 모아 메타분석`을 한다.\n",
    "    - 같은 인터벤션이지만, 다른 위치, 환자군 등을 모아봄"
   ]
  },
  {
   "cell_type": "markdown",
   "id": "00c28758",
   "metadata": {},
   "source": [
    "- 내가 연구하려는 주제가 있을 때, 어느 정도까지 연구되어있는지 `임상연구의 단계`를 찾아보고, `다음 단계에서 내가 해야할 것은 무엇인지`를 확인하면 된다.\n",
    "    - 예를 들어, association이 밝혀지지 않은 주제 ->  바로 RCT나 Prediction하도록 단계를 건너띄어선 안된다."
   ]
  },
  {
   "cell_type": "markdown",
   "id": "032fbc13",
   "metadata": {},
   "source": [
    "### 상관관계와 인과관계"
   ]
  },
  {
   "cell_type": "markdown",
   "id": "88e02178",
   "metadata": {},
   "source": [
    "#### 상관관계 vs 인과관계 예시\n",
    "\n",
    "\n",
    "![image-20220313124452141](https://raw.githubusercontent.com/is3js/screenshots/main/image-20220313124452141.png)\n",
    "\n",
    "\n",
    "- 어떤 자료 2개가 상관관계가 엄청 높았다 -> 바로 인과로 가면 안된다.\n",
    "    - 우주기술에 투자할수록 -> 자살률이 높다?? -> 이렇게 결론 내리진 않는다.\n",
    "    - `우연에 의한 것`인지 확인? / 시간이라는 `컨파운딩 팩터`가 있어서\n",
    "        - 시간이 증가하면서 경제 발달 -> 정부는 투자많이 / 인구늘어남 -> 자살수 늘어남\n",
    "    - `컨파운더에 의한 상관관계`로 결론\n",
    "    \n",
    "    \n",
    "    \n"
   ]
  },
  {
   "cell_type": "markdown",
   "id": "a068ad7e",
   "metadata": {},
   "source": [
    "![image-20220313124759118](https://raw.githubusercontent.com/is3js/screenshots/main/image-20220313124759118.png)\n",
    "\n",
    "\n",
    "1. 상관관계가 관측됨 \n",
    "    - **`이 상관관계가 진짜인가? /우연 or 잘못된 연구디자인 때문은 아닌가`부터 의심한다**\n",
    "2. 진짜 상관관계가 판단됨\n",
    "    - **`a가 b를 일으키는 코잘리티인가? / [보이지 않지만, 실제 b를 일으키면서 && 동시에 a에도 영향을 주고 있는 confounding factor]때문에 생겨난 서로간의 인과관계는 없지만 [보이는 상관관계]인지`판단 해야한다**"
   ]
  },
  {
   "cell_type": "markdown",
   "id": "af0a5db3",
   "metadata": {},
   "source": [
    "##### 상관관계 발견시, 코잘vs컴파 예시\n",
    "- 연구했는데 `커피 -> 췌장암`의 상관관계가 있는 것으로 관측되어었다(상관관계가 진짜이라고 가정)\n",
    "    ![image-20220313125749310](https://raw.githubusercontent.com/is3js/screenshots/main/image-20220313125749310.png)\n",
    "    1. 커피섭취가 -> 실제로 췌장암에 영향을 미치는 `코절리티`가 있는 경우\n",
    "    2. `보이지 않는 컴파운딩 팩터 때문에, 인과없이, 보이기만 하는 상관관계`인 경우\n",
    "        - 보이지 않는 `흡연`이라는 `실제 췌장암의 증가원인 && 커피 섭취의 증가원인`인 컴파운딩 팩터가 있음\n",
    "        - 흡연하는 사람이 커피를 많이 마시는 경향도 있어서, a와 b 둘다 영향을 주기 때문에, **커피섭취가 -> 췌장암에 영향을 주는 인과가 없더라도 해당 보이는 상관관계를 유발시킨다.**\n",
    "            - 커피->췌장암 영향 있을 수도 없을 수도 있지만, **컨파운딩 때문에 `이렇게 보이는 상관관계를 만드는게 아닌가` 고민을 해봐야한다.**\n",
    "            ![image-20220313131013881](https://raw.githubusercontent.com/is3js/screenshots/main/image-20220313131013881.png)\n",
    "\n",
    "\n",
    "        \n",
    "    \n"
   ]
  },
  {
   "cell_type": "markdown",
   "id": "7561a072",
   "metadata": {},
   "source": [
    "#### 인과관계 판단 가이드라인\n",
    "- 인과관계 판단이 쉽지 않으므로, 담배->폐암 인과증명시 제시 된 것들이다.\n",
    "- 하지만, 칼같이 정해지는 것이 아니라 종합적으로 고려되어야한다. 시간이 지나면서 계속 수정되고 있다.\n",
    "    ![image-20220313131246113](https://raw.githubusercontent.com/is3js/screenshots/main/image-20220313131246113.png)\n",
    "\n",
    "\n",
    "1. 템포럴 릴레이션쉽: 선후관계가 명확해야한다.\n",
    "    - 원인이 선행해야한다.\n",
    "2. 상관관계가 강해야한다.\n",
    "    - 약한 순간 인과관계이긴 어렵다\n",
    "3. 도스-리스폰스 릴레이션쉽: \n",
    "    - 세부 섭취량(음식)/투약량(약)에 따라 outcome과 관련있어야한다\n",
    "    - 인과관계가 확실한 경우에도 나타나지 않는 경우도 있으니 100% 만족안해도 된다.\n",
    "        - ex> 적은 양에는 효과X -> 역치 넘으면 효과O 있는 경우, -> 인과는 있는데 적은량에서는 dose가 무시됨\n",
    "\n",
    "4. 레플리케이션 오브 파인딩스: \n",
    "    - 내 연구에서 상관관계->인과관계를 발견했어도, 바로 인과관계 있다고 말할 수 없다. 다른 연구/환자군/서브그룹에서도 일관된 상관관계가 나타날 때 -> 인과관계 있다고 말할 수 있다.\n",
    "    \n",
    "5. 바이얼로직 플러져빌리티: 생물학적 그럴듯한 설명이 있어야한다.\n",
    "\n",
    "6. 컨시덜레이션 오브 얼터네이트 익플레내이션스: 다른 설명이 가능한지도 살펴봐야한다\n",
    "    - 인과관계가 아니라 사실은 다른 컨파운딩이 숨어있는 것은 아닐까?\n",
    "    - 인과가 뒤바뀐 것은 아닐까?\n",
    "    \n",
    "7. 쎄세이션 오브 익스포져: 원인이 되는 exposure 중단시 -> 결과도 중단 되어야한다.\n",
    "    - 하지만, 도스-리스폰스 릴레이션쉽처럼, 인과관계일 때도 성립안하는 경우가 가끔 있다.\n",
    "        - 흡연이 -> emphysema에 영향을 미치는 인과는 사실이나\n",
    "        - 흡연 중단 -> emphysema 해결은 안된다.\n",
    "\n",
    "8. 컨시스턴시 위드 아덜 날러지: 이 질병/환자군에 대해 알고 있는 다른 지식과 컨시스턴시 해야한다\n",
    "\n",
    "9. 스페서피서티 오브 더 어소시에이션: \n",
    "    - 원인이 일으키는 결과가 1개 여야한다. 다른 결과들도 일으키면 안된다.\n",
    "    - 회색: 논의가 많이 되는 부분이다. \n",
    "        - ex> 미국담배회사: 담배 -> 폐암외 여러질병일으킴 -> `스페서피서티 오브 더 어소시에이션`를 만족하지 않으므로 인과관계 아니라고 주장함."
   ]
  },
  {
   "cell_type": "markdown",
   "id": "15caf252",
   "metadata": {},
   "source": [
    "- 다른 가이드라인이 많고, 절대적인 기준은 없다.\n",
    "- 우리 데이터가 가진 전체적인 패턴을, 다른 지식과 종합해서 인과관계인지 판별해해야한다.\n",
    "![image-20220313160804342](https://raw.githubusercontent.com/is3js/screenshots/main/image-20220313160804342.png)\n",
    "\n"
   ]
  },
  {
   "cell_type": "markdown",
   "id": "b4c93d2a",
   "metadata": {},
   "source": [
    "### 정리하기\n",
    "\n",
    "1. 임상연구는 사람의 질병을 이해, 예방, 치료하고 건강을 증진하기 위한 학문이다.\n",
    "    - 사람에 대한 학문이다.\n",
    "\n",
    "2. 좋은 임상연구는 validity가 최대화된 연구이다. \n",
    "    - Internal validity는 `연구 내에서 일어난 일에 대해 올바른 결론을 내렸는가`에 관한 것이고, \n",
    "    - External validity는 `연구 결과가 연구 밖 real world에 적용될 수 있는가`에 관한 것이다.\n",
    "        - 두 validity를 최대한 연구가 좋은 연구이다\n",
    "\n",
    "3. 연구계획서는 연구의 구조가 적혀있는 설계도이다. 연구계획서는 \n",
    "    - 연구질문(research question), \n",
    "    - 연구 배경과 중요성, \n",
    "    - 디자인, \n",
    "    - 연구대상자, \n",
    "    - 변수, \n",
    "    - 통계적 고려사항으로 이루어진다.\n",
    "\n",
    "4. 임상연구의 많은 부분은 상관관계를 확인하고 그로부터 인과관계에 대한 추론을 끌어내기 위한 노력이며, 경우에 따라 예측모델이나 중재연구(intervention study)의 단계로 이어진다.\n",
    "\n",
    "5. 상관관계로부터 인과관계를 성립시키기 위한 몇가지 기준이 있지만, 기계적으로 적용하여 인과관계가 있다고 결론내릴 수 있는 절대적인 기준은 없으며, 관측된 데이터의 전체적인 패턴을 종합적으로 고려하여 인과관계에 대한 결론을 내려야 한다."
   ]
  },
  {
   "cell_type": "code",
   "execution_count": null,
   "id": "bbd77699",
   "metadata": {
    "vscode": {
     "languageId": "r"
    }
   },
   "outputs": [],
   "source": []
  },
  {
   "cell_type": "code",
   "execution_count": null,
   "id": "8e6ddbaf",
   "metadata": {
    "vscode": {
     "languageId": "r"
    }
   },
   "outputs": [],
   "source": []
  },
  {
   "cell_type": "code",
   "execution_count": null,
   "id": "0b9d1b80",
   "metadata": {
    "vscode": {
     "languageId": "r"
    }
   },
   "outputs": [],
   "source": []
  },
  {
   "cell_type": "code",
   "execution_count": null,
   "id": "20870f05",
   "metadata": {
    "vscode": {
     "languageId": "r"
    }
   },
   "outputs": [],
   "source": []
  },
  {
   "cell_type": "code",
   "execution_count": null,
   "id": "9fc82cd3",
   "metadata": {
    "vscode": {
     "languageId": "r"
    }
   },
   "outputs": [],
   "source": []
  },
  {
   "cell_type": "markdown",
   "id": "9b8805ec",
   "metadata": {},
   "source": [
    "### 퀴즈모음"
   ]
  },
  {
   "cell_type": "markdown",
   "id": "4881ab9d",
   "metadata": {},
   "source": [
    "![image-20220313132533174](https://raw.githubusercontent.com/is3js/screenshots/main/image-20220313132533231.png)\n",
    "\n"
   ]
  },
  {
   "cell_type": "markdown",
   "id": "6de8cf41",
   "metadata": {},
   "source": [
    "![image-20220313132606001](https://raw.githubusercontent.com/is3js/screenshots/main/image-20220313132606001.png)\n",
    "\n"
   ]
  },
  {
   "cell_type": "markdown",
   "id": "84c5d0d0",
   "metadata": {},
   "source": [
    "![image-20220313132635835](https://raw.githubusercontent.com/is3js/screenshots/main/image-20220313132635835.png)\n",
    "\n"
   ]
  }
 ],
 "metadata": {
  "kernelspec": {
   "display_name": "R",
   "language": "R",
   "name": "ir"
  },
  "language_info": {
   "codemirror_mode": "r",
   "file_extension": ".r",
   "mimetype": "text/x-r-source",
   "name": "R",
   "pygments_lexer": "r",
   "version": "3.6.1"
  }
 },
 "nbformat": 4,
 "nbformat_minor": 5
}
